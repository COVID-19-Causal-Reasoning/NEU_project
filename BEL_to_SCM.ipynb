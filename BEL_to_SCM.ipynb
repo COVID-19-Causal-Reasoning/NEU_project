{
  "nbformat": 4,
  "nbformat_minor": 0,
  "metadata": {
    "kernelspec": {
      "display_name": "Python 3",
      "language": "python",
      "name": "python3"
    },
    "language_info": {
      "codemirror_mode": {
        "name": "ipython",
        "version": 3
      },
      "file_extension": ".py",
      "mimetype": "text/x-python",
      "name": "python",
      "nbconvert_exporter": "python",
      "pygments_lexer": "ipython3",
      "version": "3.7.3"
    },
    "colab": {
      "name": "BEL to SCM.ipynb",
      "provenance": [],
      "collapsed_sections": [],
      "toc_visible": true,
      "include_colab_link": true
    }
  },
  "cells": [
    {
      "cell_type": "markdown",
      "metadata": {
        "id": "view-in-github",
        "colab_type": "text"
      },
      "source": [
        "<a href=\"https://colab.research.google.com/github/Pallavi-Kolambkar/NEU_project/blob/master/BEL_to_SCM.ipynb\" target=\"_parent\"><img src=\"https://colab.research.google.com/assets/colab-badge.svg\" alt=\"Open In Colab\"/></a>"
      ]
    },
    {
      "cell_type": "code",
      "metadata": {
        "id": "AFWF7y2sWPVv",
        "colab_type": "code",
        "outputId": "077e679e-20bd-480c-8477-9af271555c49",
        "colab": {
          "base_uri": "https://localhost:8080/",
          "height": 244
        }
      },
      "source": [
        "!pip install http://download.pytorch.org/whl/cpu/torch-0.4.0-cp27-cp27mu-linux_x86_64.whl \n",
        "!pip install pyro-ppl"
      ],
      "execution_count": 0,
      "outputs": [
        {
          "output_type": "stream",
          "text": [
            "\u001b[31mERROR: torch-0.4.0-cp27-cp27mu-linux_x86_64.whl is not a supported wheel on this platform.\u001b[0m\n",
            "Collecting pyro-ppl\n",
            "\u001b[?25l  Downloading https://files.pythonhosted.org/packages/c0/77/4db4946f6b5bf0601869c7b7594def42a7197729167484e1779fff5ca0d6/pyro_ppl-1.3.1-py3-none-any.whl (520kB)\n",
            "\u001b[K     |████████████████████████████████| 522kB 2.8MB/s \n",
            "\u001b[?25hRequirement already satisfied: numpy>=1.7 in /usr/local/lib/python3.6/dist-packages (from pyro-ppl) (1.18.3)\n",
            "Requirement already satisfied: opt-einsum>=2.3.2 in /usr/local/lib/python3.6/dist-packages (from pyro-ppl) (3.2.1)\n",
            "Collecting pyro-api>=0.1.1\n",
            "  Downloading https://files.pythonhosted.org/packages/c2/bc/6cdbd1929e32fff62a33592633c2cc0393c7f7739131ccc9c9c4e28ac8dd/pyro_api-0.1.1-py3-none-any.whl\n",
            "Requirement already satisfied: tqdm>=4.36 in /usr/local/lib/python3.6/dist-packages (from pyro-ppl) (4.38.0)\n",
            "Requirement already satisfied: torch>=1.4.0 in /usr/local/lib/python3.6/dist-packages (from pyro-ppl) (1.4.0)\n",
            "Installing collected packages: pyro-api, pyro-ppl\n",
            "Successfully installed pyro-api-0.1.1 pyro-ppl-1.3.1\n"
          ],
          "name": "stdout"
        }
      ]
    },
    {
      "cell_type": "code",
      "metadata": {
        "id": "b_pE037xymuN",
        "colab_type": "code",
        "outputId": "9fd7d453-493f-4cd9-9210-dba6b381cc8b",
        "colab": {
          "base_uri": "https://localhost:8080/",
          "height": 255
        }
      },
      "source": [
        "!pip3 install flake8"
      ],
      "execution_count": 0,
      "outputs": [
        {
          "output_type": "stream",
          "text": [
            "Collecting flake8\n",
            "\u001b[?25l  Downloading https://files.pythonhosted.org/packages/f8/1f/7ea40d1e4146ea55dbab41cda1376db092a75794914169aabd7e8d7a7def/flake8-3.7.9-py2.py3-none-any.whl (69kB)\n",
            "\u001b[K     |████████████████████████████████| 71kB 2.1MB/s \n",
            "\u001b[?25hCollecting pycodestyle<2.6.0,>=2.5.0\n",
            "\u001b[?25l  Downloading https://files.pythonhosted.org/packages/0e/0c/04a353e104d2f324f8ee5f4b32012618c1c86dd79e52a433b64fceed511b/pycodestyle-2.5.0-py2.py3-none-any.whl (51kB)\n",
            "\u001b[K     |████████████████████████████████| 51kB 6.3MB/s \n",
            "\u001b[?25hRequirement already satisfied: entrypoints<0.4.0,>=0.3.0 in /usr/local/lib/python3.6/dist-packages (from flake8) (0.3)\n",
            "Collecting pyflakes<2.2.0,>=2.1.0\n",
            "\u001b[?25l  Downloading https://files.pythonhosted.org/packages/84/f2/ed0ffb887f8138a8fe5a621b8c0bb9598bfb3989e029f6c6a85ee66628ee/pyflakes-2.1.1-py2.py3-none-any.whl (59kB)\n",
            "\u001b[K     |████████████████████████████████| 61kB 8.2MB/s \n",
            "\u001b[?25hCollecting mccabe<0.7.0,>=0.6.0\n",
            "  Downloading https://files.pythonhosted.org/packages/87/89/479dc97e18549e21354893e4ee4ef36db1d237534982482c3681ee6e7b57/mccabe-0.6.1-py2.py3-none-any.whl\n",
            "Installing collected packages: pycodestyle, pyflakes, mccabe, flake8\n",
            "Successfully installed flake8-3.7.9 mccabe-0.6.1 pycodestyle-2.5.0 pyflakes-2.1.1\n"
          ],
          "name": "stdout"
        }
      ]
    },
    {
      "cell_type": "code",
      "metadata": {
        "id": "ZqNLnJXNzXR-",
        "colab_type": "code",
        "outputId": "5932fac8-6004-49a8-ab88-32c690242722",
        "colab": {
          "base_uri": "https://localhost:8080/",
          "height": 1000
        }
      },
      "source": [
        "! flake8 -help"
      ],
      "execution_count": 0,
      "outputs": [
        {
          "output_type": "stream",
          "text": [
            "Usage: flake8 [options] file file ...\n",
            "\n",
            "Options:\n",
            "  --version             show program's version number and exit\n",
            "  -h, --help            show this help message and exit\n",
            "  -v, --verbose         Print more information about what is happening in\n",
            "                        flake8. This option is repeatable and will increase\n",
            "                        verbosity each time it is repeated.\n",
            "  -q, --quiet           Report only file names, or nothing. This option is\n",
            "                        repeatable.\n",
            "  --count               Print total number of errors and warnings to standard\n",
            "                        error and set the exit code to 1 if total is not\n",
            "                        empty.\n",
            "  --diff                Report changes only within line number ranges in the\n",
            "                        unified diff provided on standard in by the user.\n",
            "  --exclude=patterns    Comma-separated list of files or directories to\n",
            "                        exclude. (Default:\n",
            "                        .svn,CVS,.bzr,.hg,.git,__pycache__,.tox,.eggs,*.egg)\n",
            "  --filename=patterns   Only check for filenames matching the patterns in this\n",
            "                        comma-separated list. (Default: *.py)\n",
            "  --stdin-display-name=STDIN_DISPLAY_NAME\n",
            "                        The name used when reporting errors from code passed\n",
            "                        via stdin. This is useful for editors piping the file\n",
            "                        contents to flake8. (Default: stdin)\n",
            "  --format=format       Format errors according to the chosen formatter.\n",
            "  --hang-closing        Hang closing bracket instead of matching indentation\n",
            "                        of opening bracket's line.\n",
            "  --ignore=errors       Comma-separated list of errors and warnings to ignore\n",
            "                        (or skip). For example, ``--ignore=E4,E51,W234``.\n",
            "                        (Default: E121,E123,E126,E226,E24,E704,W503,W504)\n",
            "  --extend-ignore=errors\n",
            "                        Comma-separated list of errors and warnings to add to\n",
            "                        the list of ignored ones. For example, ``--extend-\n",
            "                        ignore=E4,E51,W234``.\n",
            "  --per-file-ignores=PER_FILE_IGNORES\n",
            "                        A pairing of filenames and violation codes that\n",
            "                        defines which violations to ignore in a particular\n",
            "                        file. The filenames can be specified in a manner\n",
            "                        similar to the ``--exclude`` option and the violations\n",
            "                        work similarly to the ``--ignore`` and ``--select``\n",
            "                        options.\n",
            "  --max-line-length=n   Maximum allowed line length for the entirety of this\n",
            "                        run. (Default: 79)\n",
            "  --max-doc-length=n    Maximum allowed doc line length for the entirety of\n",
            "                        this run. (Default: none)\n",
            "  --select=errors       Comma-separated list of errors and warnings to enable.\n",
            "                        For example, ``--select=E4,E51,W234``. (Default:\n",
            "                        E,F,W,C90)\n",
            "  --disable-noqa        Disable the effect of \"# noqa\". This will report\n",
            "                        errors on lines with \"# noqa\" at the end.\n",
            "  --show-source         Show the source generate each error or warning.\n",
            "  --statistics          Count errors and warnings.\n",
            "  --enable-extensions=ENABLE_EXTENSIONS\n",
            "                        Enable plugins and extensions that are otherwise\n",
            "                        disabled by default\n",
            "  --exit-zero           Exit with status code \"0\" even if there are errors.\n",
            "  --install-hook=INSTALL_HOOK\n",
            "                        Install a hook that is run prior to a commit for the\n",
            "                        supported version control system.\n",
            "  -j JOBS, --jobs=JOBS  Number of subprocesses to use to run checks in\n",
            "                        parallel. This is ignored on Windows. The default,\n",
            "                        \"auto\", will auto-detect the number of processors\n",
            "                        available to use. (Default: auto)\n",
            "  --output-file=OUTPUT_FILE\n",
            "                        Redirect report to a file.\n",
            "  --tee                 Write to stdout and output-file.\n",
            "  --append-config=APPEND_CONFIG\n",
            "                        Provide extra config files to parse in addition to the\n",
            "                        files found by Flake8 by default. These files are the\n",
            "                        last ones read and so they take the highest precedence\n",
            "                        when multiple files provide the same option.\n",
            "  --config=CONFIG       Path to the config file that will be the authoritative\n",
            "                        config source. This will cause Flake8 to ignore all\n",
            "                        other configuration files.\n",
            "  --isolated            Ignore all configuration files.\n",
            "  --benchmark           Print benchmark information about this run of Flake8\n",
            "  --bug-report          Print information necessary when preparing a bug\n",
            "                        report\n",
            "\n",
            "Installed plugins:\n"
          ],
          "name": "stdout"
        }
      ]
    },
    {
      "cell_type": "markdown",
      "metadata": {
        "id": "moNyLznMM36N",
        "colab_type": "text"
      },
      "source": [
        "The project aims to create a causal model for the host "
      ]
    },
    {
      "cell_type": "code",
      "metadata": {
        "id": "BigRs4xRWCig",
        "colab_type": "code",
        "colab": {}
      },
      "source": [
        "#checking if the comment works\n",
        "import numpy as np\n",
        "import matplotlib.pyplot as plt\n",
        "import scipy as sp\n",
        "from scipy.integrate import odeint\n",
        "import networkx as nx\n",
        "# from pybel.examples import sialic_acid_graph as sag\n",
        "# import pybel as pb\n",
        "import json\n",
        "import time\n",
        "import csv\n",
        "# from pybel.io.jupyter import to_jupyter\n",
        "import torch\n",
        "import pyro\n",
        "import pandas as pd\n",
        "import numpy as np\n",
        "pyro.set_rng_seed(101)"
      ],
      "execution_count": 0,
      "outputs": []
    },
    {
      "cell_type": "code",
      "metadata": {
        "id": "tyAPYF0WWCil",
        "colab_type": "code",
        "outputId": "1cb5b608-0e3b-4375-8cb2-26074b300ecd",
        "colab": {
          "base_uri": "https://localhost:8080/",
          "height": 72
        }
      },
      "source": [
        "pd.set_option('display.max_rows', None)\n",
        "pd.set_option('display.max_columns', None)\n",
        "pd.set_option('display.width', None)\n",
        "pd.set_option('display.max_colwidth', -1)"
      ],
      "execution_count": 0,
      "outputs": [
        {
          "output_type": "stream",
          "text": [
            "/usr/local/lib/python3.6/dist-packages/ipykernel_launcher.py:4: FutureWarning: Passing a negative integer is deprecated in version 1.0 and will not be supported in future version. Instead, use None to not limit the column width.\n",
            "  after removing the cwd from sys.path.\n"
          ],
          "name": "stderr"
        }
      ]
    },
    {
      "cell_type": "code",
      "metadata": {
        "id": "auSJeziXWCi6",
        "colab_type": "code",
        "outputId": "ef231ca0-42ac-485d-bdd3-46bb9ae3fe3c",
        "colab": {
          "resources": {
            "http://localhost:8080/nbextensions/google.colab/files.js": {
              "data": "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",
              "ok": true,
              "headers": [
                [
                  "content-type",
                  "application/javascript"
                ]
              ],
              "status": 200,
              "status_text": ""
            }
          },
          "base_uri": "https://localhost:8080/",
          "height": 271
        }
      },
      "source": [
        "# from google.colab import files \n",
        "# uploaded = files.upload() \n",
        "# f = open('COVID19.jgf')\n",
        "# bel_statements = json.load(f)"
      ],
      "execution_count": 0,
      "outputs": [
        {
          "output_type": "display_data",
          "data": {
            "text/html": [
              "\n",
              "     <input type=\"file\" id=\"files-7ff61fc1-b374-4af2-8a7d-23437a1e2cbe\" name=\"files[]\" multiple disabled />\n",
              "     <output id=\"result-7ff61fc1-b374-4af2-8a7d-23437a1e2cbe\">\n",
              "      Upload widget is only available when the cell has been executed in the\n",
              "      current browser session. Please rerun this cell to enable.\n",
              "      </output>\n",
              "      <script src=\"/nbextensions/google.colab/files.js\"></script> "
            ],
            "text/plain": [
              "<IPython.core.display.HTML object>"
            ]
          },
          "metadata": {
            "tags": []
          }
        },
        {
          "output_type": "stream",
          "text": [
            "Saving COVID-19-new.json to COVID-19-new.json\n"
          ],
          "name": "stdout"
        },
        {
          "output_type": "error",
          "ename": "FileNotFoundError",
          "evalue": "ignored",
          "traceback": [
            "\u001b[0;31m---------------------------------------------------------------------------\u001b[0m",
            "\u001b[0;31mFileNotFoundError\u001b[0m                         Traceback (most recent call last)",
            "\u001b[0;32m<ipython-input-7-bb8e71915fc5>\u001b[0m in \u001b[0;36m<module>\u001b[0;34m()\u001b[0m\n\u001b[1;32m      1\u001b[0m \u001b[0;32mfrom\u001b[0m \u001b[0mgoogle\u001b[0m\u001b[0;34m.\u001b[0m\u001b[0mcolab\u001b[0m \u001b[0;32mimport\u001b[0m \u001b[0mfiles\u001b[0m\u001b[0;34m\u001b[0m\u001b[0;34m\u001b[0m\u001b[0m\n\u001b[1;32m      2\u001b[0m \u001b[0muploaded\u001b[0m \u001b[0;34m=\u001b[0m \u001b[0mfiles\u001b[0m\u001b[0;34m.\u001b[0m\u001b[0mupload\u001b[0m\u001b[0;34m(\u001b[0m\u001b[0;34m)\u001b[0m\u001b[0;34m\u001b[0m\u001b[0;34m\u001b[0m\u001b[0m\n\u001b[0;32m----> 3\u001b[0;31m \u001b[0mf\u001b[0m \u001b[0;34m=\u001b[0m \u001b[0mopen\u001b[0m\u001b[0;34m(\u001b[0m\u001b[0;34m'COVID19.jgf'\u001b[0m\u001b[0;34m)\u001b[0m\u001b[0;34m\u001b[0m\u001b[0;34m\u001b[0m\u001b[0m\n\u001b[0m\u001b[1;32m      4\u001b[0m \u001b[0mbel_statements\u001b[0m \u001b[0;34m=\u001b[0m \u001b[0mjson\u001b[0m\u001b[0;34m.\u001b[0m\u001b[0mload\u001b[0m\u001b[0;34m(\u001b[0m\u001b[0mf\u001b[0m\u001b[0;34m)\u001b[0m\u001b[0;34m\u001b[0m\u001b[0;34m\u001b[0m\u001b[0m\n",
            "\u001b[0;31mFileNotFoundError\u001b[0m: [Errno 2] No such file or directory: 'COVID19.jgf'"
          ]
        }
      ]
    },
    {
      "cell_type": "code",
      "metadata": {
        "id": "fr6bmgl7WCi-",
        "colab_type": "code",
        "colab": {}
      },
      "source": [
        "# type has the structure of (type_parent, type_children, type_relation):[[edges]]\n",
        "label_dict = {'Abundance':['a', 'r', 'm', 'g', 'p','pop', 'composite', 'complex','frag','fus','loc','pmod','var'],\n",
        "             'Process': ['bp', 'path','act'],\n",
        "             'Transformation':['sec','surf','deg','rxn','tloc','fromLoc','products','reactants','toLoc']}\n",
        "def get_information(jgf_file):\n",
        "    # causal_relations = ['increases', 'decreases', 'directlyIncreases', 'directlyDecreases']\n",
        "    types = []\n",
        "    # nodes = set()\n",
        "    parents = []\n",
        "    parent_types = []\n",
        "    children_types = []\n",
        "    parent_labels = []\n",
        "    children_labels = []\n",
        "    children = []\n",
        "    str_list = []\n",
        "    df = pd.DataFrame()\n",
        "    \n",
        "    for edges in jgf_file['graph']['edges']:\n",
        "        parent = edges['source']\n",
        "        child = edges['target']\n",
        "        relation = edges['relation']\n",
        "        text = edges['label']\n",
        "        if relation.find('crease') > 0:\n",
        "            # nodes.add(parent)\n",
        "            # nodes.add(child)\n",
        "            parents.append(parent)\n",
        "            children.append(child)\n",
        "            str_list.append(parent + '*' + relation + '*' + child)   \n",
        "            parent_type = parent[:parent.find('(')]\n",
        "            children_type = child[:child.find('(')]\n",
        "            types.append(relation)\n",
        "            children_types.append(children_type)\n",
        "            parent_types.append(parent_type)\n",
        "            for label in label_dict:\n",
        "                if parent_type in label_dict[label]:\n",
        "                    parent_labels.append(label)\n",
        "                elif parent_type == '': \n",
        "                    parent_labels.append('Others')\n",
        "            for label in label_dict:\n",
        "                if children_type in label_dict[label]:     \n",
        "                    children_labels.append(label)\n",
        "                elif children_type == '': \n",
        "                    children_labels.append('Others')\n",
        "                    break\n",
        "            # types.setdefault((parent_type,chidren_type,relation), []).append(parent + '*' + relation + '*' + child)\n",
        "    df['parents'] = parents\n",
        "    df['children'] = children\n",
        "    df['types'] = types\n",
        "    df['statements'] = str_list\n",
        "    df['parent_types'] = parent_types\n",
        "    df['parent_labels'] = parent_labels\n",
        "    df['children_types'] = children_types\n",
        "    df['children_labels'] = children_labels\n",
        "    \n",
        "    return df"
      ],
      "execution_count": 0,
      "outputs": []
    },
    {
      "cell_type": "code",
      "metadata": {
        "id": "2XOCMcfWWCjC",
        "colab_type": "code",
        "colab": {}
      },
      "source": [
        "df = get_information(bel_statements)\n",
        "df = df[~df['children_labels'].isin(['Others'])] # filter the two with nested structures"
      ],
      "execution_count": 0,
      "outputs": []
    },
    {
      "cell_type": "code",
      "metadata": {
        "scrolled": true,
        "id": "JxH1zpwwWCjG",
        "colab_type": "code",
        "colab": {}
      },
      "source": [
        "df.head()"
      ],
      "execution_count": 0,
      "outputs": []
    },
    {
      "cell_type": "code",
      "metadata": {
        "id": "I-xDjrKo9RIb",
        "colab_type": "code",
        "colab": {}
      },
      "source": [
        "## identifying clusters\n",
        "new_df = df.groupby(['children', 'types', 'children_types','children_labels']).apply(lambda x: [list(x['parents']), list(x['parent_types']),list(x['parent_labels'])]).apply(pd.Series)"
      ],
      "execution_count": 0,
      "outputs": []
    },
    {
      "cell_type": "code",
      "metadata": {
        "id": "OaWkG_YlWCjY",
        "colab_type": "code",
        "colab": {}
      },
      "source": [
        "new_df = new_df.reset_index(drop = False)\n",
        "new_df.columns = ['children', 'types', 'children_types','children_labels', 'parents', 'parents_types','parent_labels']"
      ],
      "execution_count": 0,
      "outputs": []
    },
    {
      "cell_type": "code",
      "metadata": {
        "id": "QJnHkExhSu0r",
        "colab_type": "code",
        "colab": {}
      },
      "source": [
        "new_df"
      ],
      "execution_count": 0,
      "outputs": []
    },
    {
      "cell_type": "code",
      "metadata": {
        "id": "3g7TUFjKBaI_",
        "colab_type": "code",
        "outputId": "ccca76c5-d304-4dce-b281-59129927aad7",
        "colab": {
          "base_uri": "https://localhost:8080/",
          "height": 155
        }
      },
      "source": [
        "new_df.iloc[16]"
      ],
      "execution_count": 0,
      "outputs": [
        {
          "output_type": "execute_result",
          "data": {
            "text/plain": [
              "children           p(HGNC:ANGPT2)                                                                    \n",
              "types              decreases                                                                         \n",
              "children_types     p                                                                                 \n",
              "children_labels    Abundance                                                                         \n",
              "parents            [p(HGNC:VWF), act(complex(SCOMP:\"AMP Activated Protein Kinase Complex\"), ma(kin))]\n",
              "parents_types      [p, act]                                                                          \n",
              "parent_labels      [Abundance, Process]                                                              \n",
              "Name: 16, dtype: object"
            ]
          },
          "metadata": {
            "tags": []
          },
          "execution_count": 91
        }
      ]
    },
    {
      "cell_type": "markdown",
      "metadata": {
        "id": "rT_2_QvHXrdP",
        "colab_type": "text"
      },
      "source": [
        "# For each row we need to build a SCM "
      ]
    },
    {
      "cell_type": "markdown",
      "metadata": {
        "id": "oEXvvJInWCje",
        "colab_type": "text"
      },
      "source": [
        "## Jeremy's guide for dealing with node types\n",
        "\n",
        "Let's talk about Abundance -> Process first.   If you have multiple Abundance parents, then the function could simply be a weighted sum of abundances followed by an activation function to determine whether the process is on or off.  In the simple case where you have two abundance parents, the Parent-Child function resembles an OR gate if the weights are large, because either abundance (or both) is sufficient to activate the process.  If the weights are small, then the the Parent-Child function resembles an AND gate, because you need both parents in high abundance.\n",
        "\n",
        "\n",
        "7:20\n",
        "Let's talk about  Process -> Transformation next.    In this case, if the process is active, then the transformation is a continuous variable.  If the process in inactive, then the transformation cannot occur, so it is zero.\n",
        "\n",
        "\n",
        "7:21\n",
        "Let's talk about (Abundance*, Process) -> Transformation.  In this case, the transformation is a potentially nonlinear function of abundance if the Process is active, but zero otherwise.\n",
        "\n",
        "\n",
        "7:23\n",
        "if Transformation -> Abundance, then we have a continuous in, and continuous out, but it may be nonlinear.\n",
        "\n",
        "\n",
        "7:24\n",
        "Process -> Abundance implies  continuous if Process is active and 0 otherwise.\n",
        "\n",
        "\n",
        "7:25\n",
        "All of these rules are flipped if the causal relation is decreases instead of increases\n",
        "\n",
        "\n",
        "7:26\n",
        "If Abundance -> Transformation we also have (potentially nonlinear) continuous to continuous.\n"
      ]
    },
    {
      "cell_type": "code",
      "metadata": {
        "id": "_vU8Gfzt931u",
        "colab_type": "code",
        "colab": {}
      },
      "source": [
        "import pyro.distributions as dist\n",
        "def get_distribution(node_type):\n",
        "    if node_type == 'Abundance':\n",
        "        return dist.LogNormal(torch.tensor(0.0),torch.tensor(1.0))\n",
        "    if node_type == 'Process':\n",
        "        return dist.Categorical(torch.tensor([0.5,0.5]))\n",
        "    else:\n",
        "        return dist.LogNormal(torch.tensor(0.0),torch.tensor(1.0))"
      ],
      "execution_count": 0,
      "outputs": []
    },
    {
      "cell_type": "code",
      "metadata": {
        "id": "FI9lXbecWCjn",
        "colab_type": "code",
        "colab": {}
      },
      "source": [
        "def SCM(parent_label,child_label,relation,threshold,w):\n",
        "  parents = []\n",
        "  process = []\n",
        "  abundance = []\n",
        "  transformation = []\n",
        "  for i in range(len(parent_label)):\n",
        "    parent = pyro.sample(\"par_%s\" % i, get_distribution(parent_label[i]))\n",
        "    parents.append(parent)\n",
        "    if parent_label[i] =='Process':\n",
        "      process.append(parent)\n",
        "    if parent_label[i] == 'Abundance':\n",
        "      abundance.append(parent)\n",
        "    if parent_label[i] == 'Transformation':\n",
        "        transformation.append(parent)\n",
        "\n",
        "\n",
        "  if child_label != 'Transformation':\n",
        "    \n",
        "    if relation == 'increases':\n",
        "      ## process is more like an OR switch\n",
        "      if sum(process) > 0 :\n",
        "        child_N =  sum([x*y for x,y in zip(w ,abundance)]) + pyro.sample(\"child_n\", dist.LogNormal(torch.tensor(0.0),torch.tensor(1.0)))\n",
        "        # + sum([x*y*y for x,y in zip(w ,transformation)])\n",
        "      else: \n",
        "        child_N = pyro.sample(\"child_n\", dist.LogNormal(torch.tensor(0.0),torch.tensor(1.0))) \n",
        "      if child_label == 'Process':\n",
        "        check = lambda x : 1.0 if x > threshold else 0.0\n",
        "        child_N = torch.tensor(check(child_N))\n",
        "      child = pyro.sample('child',pyro.distributions.Delta(child_N))\n",
        "      \n",
        "    if relation == 'decreases':\n",
        "      if sum(process) > 0:\n",
        "        child_N = pyro.sample(\"child_n\", dist.LogNormal(torch.tensor(0.0),torch.tensor(1.0)))\n",
        "      else:\n",
        "        child_N =  sum([x*y for x,y in zip(w ,abundance)]) + pyro.sample(\"child_n\", dist.LogNormal(torch.tensor(0.0),torch.tensor(1.0)))\n",
        "       # + sum([x*y*y for x,y in zip(w ,transformation)])\n",
        "      if child_label == 'Process':\n",
        "        check = lambda x : 0.0 if x > threshold else 1.0\n",
        "        child_N = torch.tensor(check(child_N))\n",
        "      child = pyro.sample('child',pyro.distributions.Delta(child_N))\n",
        "    \n",
        "\n",
        "  else:\n",
        "    if relation == 'increases':\n",
        "      ## process is more like an OR switch\n",
        "      if sum(process) > 0 :\n",
        "        child_N =  sum([x*y for x,y in zip(w ,abundance)]) + pyro.sample(\"child_n\", dist.LogNormal(torch.tensor(0.0),torch.tensor(1.0))) + \\\n",
        "        sum([x*y*y for x,y in zip(w ,transformation)])\n",
        "      else: \n",
        "        child_N = pyro.sample(\"child_n\", dist.LogNormal(torch.tensor(0.0),torch.tensor(1.0))) \n",
        "      if child_label == 'Process':\n",
        "        check = lambda x : 1.0 if x > threshold else 0.0\n",
        "        child_N = torch.tensor(check(child_N))\n",
        "      child = pyro.sample('child',pyro.distributions.Delta(child_N))\n",
        "      \n",
        "    if relation == 'decreases':\n",
        "      if sum(process) > 0:\n",
        "        child_N = pyro.sample(\"child_n\", dist.LogNormal(torch.tensor(0.0),torch.tensor(1.0))) \n",
        "      else:\n",
        "        child_N =  sum([x*y for x,y in zip(w ,abundance)]) + pyro.sample(\"child_n\", dist.LogNormal(torch.tensor(0.0),torch.tensor(1.0))) + \\\n",
        "        sum([x*y*y for x,y in zip(w ,transformation)])\n",
        "      if child_label == 'Process':\n",
        "        check = lambda x : 0.0 if x > threshold else 1.0\n",
        "        child_N = torch.tensor(check(child_N))\n",
        "      child = pyro.sample('child',pyro.distributions.Delta(child_N))\n",
        "\n",
        "#     if relation == 'increases':\n",
        "#       if sum(process) > 0:\n",
        "#         child_N =  sum([x*y*y for x,y in zip(w ,parents)]) + pyro.sample(\"child_n\", pyro.distributions.Normal(0, 1)) \n",
        "#       else: \n",
        "#         child_N = pyro.sample(\"child_n\", pyro.distributions.Normal(0, 1)) \n",
        "#       child = pyro.sample('child',pyro.distributions.Delta(child_N))\n",
        "#       # return{'parents': parents,'child': child}\n",
        "\n",
        "#     if relation == 'decreases':\n",
        "#       if sum(process) > 0:\n",
        "#         child_N = pyro.sample(\"child_n\", pyro.distributions.Normal(0, 1)) \n",
        "#       else:\n",
        "#         child_N =  sum([x*y*y for x,y in zip(w ,parents)]) + pyro.sample(\"child_n\", pyro.distributions.Normal(0, 1))\n",
        "#       child = pyro.sample('child',pyro.distributions.Delta(child_N))\n",
        "  #return child.numpy()\n",
        "  return{'parents': parents,'child': child}"
      ],
      "execution_count": 0,
      "outputs": []
    },
    {
      "cell_type": "code",
      "metadata": {
        "id": "FGXbw5MrWZi-",
        "colab_type": "code",
        "outputId": "67123f2a-0f5c-4ea9-c614-3efc40ad4131",
        "colab": {
          "base_uri": "https://localhost:8080/",
          "height": 34
        }
      },
      "source": [
        "# get the model for each row\n",
        "SCM_list = []\n",
        "for i in range(new_df.shape[0]):\n",
        "    if i in [2,3,4]:\n",
        "      continue\n",
        "    test = new_df.iloc[i]\n",
        "    SCM_list.append(SCM(test['parent_labels'],test['children_labels'],test['types'],2,[3]*len(test['parent_labels'])))\n",
        "SCM_list\n",
        "len(SCM_list)"
      ],
      "execution_count": 0,
      "outputs": [
        {
          "output_type": "execute_result",
          "data": {
            "text/plain": [
              "42"
            ]
          },
          "metadata": {
            "tags": []
          },
          "execution_count": 23
        }
      ]
    },
    {
      "cell_type": "markdown",
      "metadata": {
        "id": "cWw5fl02Lye4",
        "colab_type": "text"
      },
      "source": [
        "# Adding a KL Divergence test to check the correctness of distributions we get from SCM against the true distribution of our child nodes. "
      ]
    },
    {
      "cell_type": "code",
      "metadata": {
        "id": "26RNEz-ELyGw",
        "colab_type": "code",
        "colab": {}
      },
      "source": [
        "# get the model for each row\n",
        "#SCM_list23 = []\n",
        "#SCM_list22 = []\n",
        "#SCM_list33 = []\n",
        "#true_children = []\n",
        "#for i in range(new_df.shape[0]):\n",
        "#    if i in [2,3,4]:\n",
        "#        continue\n",
        "#    test = new_df.iloc[i]\n",
        "#    SCM_list22.append(SCM(test['parent_labels'],test['children_labels'],test['types'],2,[2]*len(test['parent_labels'])))\n",
        "#    SCM_list23.append(SCM(test['parent_labels'],test['children_labels'],test['types'],2,[3]*len(test['parent_labels'])))\n",
        "#    SCM_list33.append(SCM(test['parent_labels'],test['children_labels'],test['types'],3,[3]*len(test['parent_labels'])))\n",
        "#    true_children.append(pyro.sample(\"child\", get_distribution(test['children_labels'])))"
      ],
      "execution_count": 0,
      "outputs": []
    },
    {
      "cell_type": "code",
      "metadata": {
        "id": "QO1OXyCqMYpU",
        "colab_type": "code",
        "outputId": "07929066-37f9-41ba-9923-0a4c7a93e44f",
        "colab": {
          "base_uri": "https://localhost:8080/",
          "height": 71
        }
      },
      "source": [
        "import numpy as np\n",
        "from scipy.stats import norm\n",
        "from matplotlib import pyplot as plt\n",
        "import seaborn as sns\n",
        "sns.set()"
      ],
      "execution_count": 0,
      "outputs": [
        {
          "output_type": "stream",
          "text": [
            "/usr/local/lib/python3.6/dist-packages/statsmodels/tools/_testing.py:19: FutureWarning: pandas.util.testing is deprecated. Use the functions in the public API at pandas.testing instead.\n",
            "  import pandas.util.testing as tm\n"
          ],
          "name": "stderr"
        }
      ]
    },
    {
      "cell_type": "code",
      "metadata": {
        "id": "7CI7YJJ0Meef",
        "colab_type": "code",
        "colab": {}
      },
      "source": [
        "def KL(P,Q):\n",
        "    \"\"\" Epsilon is used here to avoid conditional code for\n",
        "    checking that neither P nor Q is equal to 0. \"\"\"\n",
        "    epsilon = 0.00001\n",
        "\n",
        "    # You may want to instead make copies to avoid changing the np arrays.\n",
        "    P = P+epsilon\n",
        "    Q = Q+epsilon\n",
        "\n",
        "    divergence = np.sum(P*np.log(P/Q))\n",
        "    return divergence"
      ],
      "execution_count": 0,
      "outputs": []
    },
    {
      "cell_type": "code",
      "metadata": {
        "id": "lXvLHgs6Mhf1",
        "colab_type": "code",
        "outputId": "f9a01827-4d88-404b-b3fb-bf284020feb2",
        "colab": {
          "base_uri": "https://localhost:8080/",
          "height": 34
        }
      },
      "source": [
        "print(KL(np.asarray(SCM_list23[5]), np.asarray(true_children[5])))"
      ],
      "execution_count": 0,
      "outputs": [
        {
          "output_type": "stream",
          "text": [
            "-0.0001151293546492023\n"
          ],
          "name": "stdout"
        }
      ]
    },
    {
      "cell_type": "markdown",
      "metadata": {
        "id": "8Tu4CplmCEbg",
        "colab_type": "text"
      },
      "source": [
        "#### Linear regression to get weights from SCM\n"
      ]
    },
    {
      "cell_type": "code",
      "metadata": {
        "id": "BB4hYoWtCC4m",
        "colab_type": "code",
        "outputId": "64e02cfe-30e3-4c0f-a86a-267a0aad0ce9",
        "colab": {
          "base_uri": "https://localhost:8080/",
          "height": 204
        }
      },
      "source": [
        "#import pandas as pd\n",
        "#samples_df = pd.DataFrame(SCM_list22)\n",
        "#samples_df.head()\n",
        "#samples_df.tail()"
      ],
      "execution_count": 0,
      "outputs": [
        {
          "output_type": "execute_result",
          "data": {
            "text/html": [
              "<div>\n",
              "<style scoped>\n",
              "    .dataframe tbody tr th:only-of-type {\n",
              "        vertical-align: middle;\n",
              "    }\n",
              "\n",
              "    .dataframe tbody tr th {\n",
              "        vertical-align: top;\n",
              "    }\n",
              "\n",
              "    .dataframe thead th {\n",
              "        text-align: right;\n",
              "    }\n",
              "</style>\n",
              "<table border=\"1\" class=\"dataframe\">\n",
              "  <thead>\n",
              "    <tr style=\"text-align: right;\">\n",
              "      <th></th>\n",
              "      <th>parents</th>\n",
              "      <th>child</th>\n",
              "    </tr>\n",
              "  </thead>\n",
              "  <tbody>\n",
              "    <tr>\n",
              "      <th>37</th>\n",
              "      <td>[tensor(1.0003)]</td>\n",
              "      <td>tensor(3.7504)</td>\n",
              "    </tr>\n",
              "    <tr>\n",
              "      <th>38</th>\n",
              "      <td>[tensor(0.4245)]</td>\n",
              "      <td>tensor(2.8604)</td>\n",
              "    </tr>\n",
              "    <tr>\n",
              "      <th>39</th>\n",
              "      <td>[tensor(0.3862)]</td>\n",
              "      <td>tensor(1.3235)</td>\n",
              "    </tr>\n",
              "    <tr>\n",
              "      <th>40</th>\n",
              "      <td>[tensor(1.8983)]</td>\n",
              "      <td>tensor(-0.4505)</td>\n",
              "    </tr>\n",
              "    <tr>\n",
              "      <th>41</th>\n",
              "      <td>[tensor(1.8402)]</td>\n",
              "      <td>tensor(-1.0768)</td>\n",
              "    </tr>\n",
              "  </tbody>\n",
              "</table>\n",
              "</div>"
            ],
            "text/plain": [
              "             parents            child\n",
              "37  [tensor(1.0003)]  tensor(3.7504) \n",
              "38  [tensor(0.4245)]  tensor(2.8604) \n",
              "39  [tensor(0.3862)]  tensor(1.3235) \n",
              "40  [tensor(1.8983)]  tensor(-0.4505)\n",
              "41  [tensor(1.8402)]  tensor(-1.0768)"
            ]
          },
          "metadata": {
            "tags": []
          },
          "execution_count": 31
        }
      ]
    },
    {
      "cell_type": "code",
      "metadata": {
        "id": "_1eAZ3M6CC_e",
        "colab_type": "code",
        "colab": {}
      },
      "source": [
        "#parent_matrix = []\n",
        "#child_matrix = []\n",
        "#for i in range(len(samples_df)):\n",
        "#    parent_row = [0] * len((max(new_df['parent_labels'], key=len)))\n",
        "#    for j in range(len(samples_df['parents'][i])):\n",
        "#        parent_row[j] = samples_df['parents'][i][j].numpy().item()\n",
        "#    parent_matrix.append(parent_row)\n",
        "#    child_matrix.append(samples_df['child'][i].numpy().item())"
      ],
      "execution_count": 0,
      "outputs": []
    },
    {
      "cell_type": "code",
      "metadata": {
        "id": "fY4Ya0ZLCC9Z",
        "colab_type": "code",
        "colab": {}
      },
      "source": [
        "from sklearn.linear_model import LinearRegression\n",
        "from sklearn import metrics\n",
        "regressor = LinearRegression()  \n",
        "#regressor.fit(parent_matrix, child_matrix) #training the algorithm"
      ],
      "execution_count": 0,
      "outputs": []
    },
    {
      "cell_type": "code",
      "metadata": {
        "id": "hh7wfVdlCC7W",
        "colab_type": "code",
        "colab": {}
      },
      "source": [
        "#To retrieve the intercept:\n",
        "#print(regressor.intercept_)\n",
        "#For retrieving the slope:\n",
        "#print(regressor.coef_)"
      ],
      "execution_count": 0,
      "outputs": []
    },
    {
      "cell_type": "code",
      "metadata": {
        "id": "syztrRip-9Ij",
        "colab_type": "code",
        "colab": {}
      },
      "source": [
        "samples_2= []\n",
        "test = new_df.iloc[16]\n",
        "for i in range(100):\n",
        "  samples_2.append((SCM(test['parent_labels'],test['children_labels'],test['types'],2,[2]*len(test['parent_labels']))))"
      ],
      "execution_count": 0,
      "outputs": []
    },
    {
      "cell_type": "code",
      "metadata": {
        "id": "ZwtSq2EpIaA_",
        "colab_type": "code",
        "outputId": "249e78f3-7458-4620-c727-1ca33d5d2a9b",
        "colab": {
          "base_uri": "https://localhost:8080/",
          "height": 198
        }
      },
      "source": [
        "samples_2_df.head()"
      ],
      "execution_count": 0,
      "outputs": [
        {
          "output_type": "execute_result",
          "data": {
            "text/html": [
              "<div>\n",
              "<style scoped>\n",
              "    .dataframe tbody tr th:only-of-type {\n",
              "        vertical-align: middle;\n",
              "    }\n",
              "\n",
              "    .dataframe tbody tr th {\n",
              "        vertical-align: top;\n",
              "    }\n",
              "\n",
              "    .dataframe thead th {\n",
              "        text-align: right;\n",
              "    }\n",
              "</style>\n",
              "<table border=\"1\" class=\"dataframe\">\n",
              "  <thead>\n",
              "    <tr style=\"text-align: right;\">\n",
              "      <th></th>\n",
              "      <th>parents</th>\n",
              "      <th>child</th>\n",
              "      <th>parent1</th>\n",
              "      <th>parent2</th>\n",
              "    </tr>\n",
              "  </thead>\n",
              "  <tbody>\n",
              "    <tr>\n",
              "      <th>0</th>\n",
              "      <td>[tensor(0.3249), tensor(0)]</td>\n",
              "      <td>tensor(2.2323)</td>\n",
              "      <td>tensor(0.3249)</td>\n",
              "      <td>tensor(0)</td>\n",
              "    </tr>\n",
              "    <tr>\n",
              "      <th>1</th>\n",
              "      <td>[tensor(6.4018), tensor(1)]</td>\n",
              "      <td>tensor(0.4974)</td>\n",
              "      <td>tensor(6.4018)</td>\n",
              "      <td>tensor(1)</td>\n",
              "    </tr>\n",
              "    <tr>\n",
              "      <th>2</th>\n",
              "      <td>[tensor(2.5888), tensor(0)]</td>\n",
              "      <td>tensor(5.5890)</td>\n",
              "      <td>tensor(2.5888)</td>\n",
              "      <td>tensor(0)</td>\n",
              "    </tr>\n",
              "    <tr>\n",
              "      <th>3</th>\n",
              "      <td>[tensor(0.7808), tensor(0)]</td>\n",
              "      <td>tensor(2.8100)</td>\n",
              "      <td>tensor(0.7808)</td>\n",
              "      <td>tensor(0)</td>\n",
              "    </tr>\n",
              "    <tr>\n",
              "      <th>4</th>\n",
              "      <td>[tensor(0.8992), tensor(1)]</td>\n",
              "      <td>tensor(1.1178)</td>\n",
              "      <td>tensor(0.8992)</td>\n",
              "      <td>tensor(1)</td>\n",
              "    </tr>\n",
              "  </tbody>\n",
              "</table>\n",
              "</div>"
            ],
            "text/plain": [
              "                       parents           child         parent1    parent2\n",
              "0  [tensor(0.3249), tensor(0)]  tensor(2.2323)  tensor(0.3249)  tensor(0)\n",
              "1  [tensor(6.4018), tensor(1)]  tensor(0.4974)  tensor(6.4018)  tensor(1)\n",
              "2  [tensor(2.5888), tensor(0)]  tensor(5.5890)  tensor(2.5888)  tensor(0)\n",
              "3  [tensor(0.7808), tensor(0)]  tensor(2.8100)  tensor(0.7808)  tensor(0)\n",
              "4  [tensor(0.8992), tensor(1)]  tensor(1.1178)  tensor(0.8992)  tensor(1)"
            ]
          },
          "metadata": {
            "tags": []
          },
          "execution_count": 82
        }
      ]
    },
    {
      "cell_type": "code",
      "metadata": {
        "id": "in_bgdetAZIW",
        "colab_type": "code",
        "colab": {}
      },
      "source": [
        "samples_2_df=pd.DataFrame(samples_2)\n",
        "samples_2_df[['parent1','parent2']] = pd.DataFrame(samples_2_df['parents'].values.tolist(), index= samples_2_df.index)"
      ],
      "execution_count": 0,
      "outputs": []
    },
    {
      "cell_type": "code",
      "metadata": {
        "id": "6ZQJRfkRHNkH",
        "colab_type": "code",
        "outputId": "df84dfa1-dcc6-4ff4-d549-1e777cdd0efb",
        "colab": {
          "base_uri": "https://localhost:8080/",
          "height": 34
        }
      },
      "source": [
        "sample2_fit=regressor.fit(samples_2_df[['parent1','parent2']].values,samples_2_df['child'])\n",
        "sample2_fit"
      ],
      "execution_count": 0,
      "outputs": [
        {
          "output_type": "execute_result",
          "data": {
            "text/plain": [
              "LinearRegression(copy_X=True, fit_intercept=True, n_jobs=None, normalize=False)"
            ]
          },
          "metadata": {
            "tags": []
          },
          "execution_count": 88
        }
      ]
    },
    {
      "cell_type": "code",
      "metadata": {
        "id": "7LoT8Mn2Plmb",
        "colab_type": "code",
        "outputId": "67685b0f-61c6-4543-bfb3-82a0ffca9609",
        "colab": {
          "base_uri": "https://localhost:8080/",
          "height": 52
        }
      },
      "source": [
        "#To retrieve the intercept:\n",
        "print(sample2_fit.intercept_)\n",
        "#For retrieving the slope:\n",
        "print(sample2_fit.coef_)"
      ],
      "execution_count": 0,
      "outputs": [
        {
          "output_type": "stream",
          "text": [
            "2.754476079811798\n",
            "[ 1.56884789 -3.67540574]\n"
          ],
          "name": "stdout"
        }
      ]
    },
    {
      "cell_type": "markdown",
      "metadata": {
        "id": "NGFZWSEwZLfk",
        "colab_type": "text"
      },
      "source": [
        "#Counterfactual function"
      ]
    },
    {
      "cell_type": "code",
      "metadata": {
        "id": "NfEMC2SxMhpM",
        "colab_type": "code",
        "colab": {}
      },
      "source": [
        "# counterfactual function to get the distribution of target variable by sampling\n",
        "def counterfactual(model,observed_variable, observed_val,exogenous_variable,cf_variable,cf_val,target_variable):\n",
        "    target = []\n",
        "    # get the conditional model\n",
        "    conditions = {}\n",
        "    for i in range(len(observed_variable)):\n",
        "        conditions[observed_variable[i]] = torch.tensor(observed_val[i])\n",
        "    conditioned_model = pyro.condition(model, data=conditions)\n",
        "    # get the posterior and marginal distribution\n",
        "    posterior = pyro.infer.Importance(conditioned_model, num_samples=1000).run()\n",
        "    marginal = EmpiricalMarginal(posterior,exogenous_variable)\n",
        "    # get the do model\n",
        "    dos = {}\n",
        "    for i in range(len(cf_variable)):\n",
        "        dos[cf_variable[i]] = torch.tensor(cf_val[i])\n",
        "    do_model = pyro.do(model, data=dos)\n",
        "    # sample target variable under updated posterior and do model\n",
        "    for i in range(1000):\n",
        "        samples = marginal()\n",
        "        exog = {}\n",
        "        for i in range(len(exogenous_variable)):\n",
        "            exog[exogenous_variable[i]] = torch.tensor(samples[i])\n",
        "        cf_model = pyro.condition(do_model, data= exog)\n",
        "        trace_handler = pyro.poutine.trace(cf_model)\n",
        "        trace = trace_handler.get_trace()\n",
        "\n",
        "        target.append(trace.nodes[target_variable]['value'].numpy().item())\n",
        "\n",
        "    return target"
      ],
      "execution_count": 0,
      "outputs": []
    },
    {
      "cell_type": "markdown",
      "metadata": {
        "id": "y1-sio_oWCjv",
        "colab_type": "text"
      },
      "source": [
        "## To do:\n",
        "1. code the SCM for the new data (with 16 nodes) Zishen:\n",
        "    - there are three facts we need to pay attention when building the model, which need to be confirmed by going through the meeting recording \n",
        "2. answer counterfactual questions mentioned in the meeting recording (some one need to go through it) Pallavi and Somya\n",
        "3. get the bio-context of the new graph Somya Pallavi\n"
      ]
    },
    {
      "cell_type": "markdown",
      "metadata": {
        "id": "yzViPYhIY7zX",
        "colab_type": "text"
      },
      "source": [
        "# Looking into the new data"
      ]
    },
    {
      "cell_type": "code",
      "metadata": {
        "id": "XFWN7TPJVXOG",
        "colab_type": "code",
        "outputId": "c5e0ba86-5a56-466b-bb06-2fe5fe98126d",
        "colab": {
          "resources": {
            "http://localhost:8080/nbextensions/google.colab/files.js": {
              "data": "Ly8gQ29weXJpZ2h0IDIwMTcgR29vZ2xlIExMQwovLwovLyBMaWNlbnNlZCB1bmRlciB0aGUgQXBhY2hlIExpY2Vuc2UsIFZlcnNpb24gMi4wICh0aGUgIkxpY2Vuc2UiKTsKLy8geW91IG1heSBub3QgdXNlIHRoaXMgZmlsZSBleGNlcHQgaW4gY29tcGxpYW5jZSB3aXRoIHRoZSBMaWNlbnNlLgovLyBZb3UgbWF5IG9idGFpbiBhIGNvcHkgb2YgdGhlIExpY2Vuc2UgYXQKLy8KLy8gICAgICBodHRwOi8vd3d3LmFwYWNoZS5vcmcvbGljZW5zZXMvTElDRU5TRS0yLjAKLy8KLy8gVW5sZXNzIHJlcXVpcmVkIGJ5IGFwcGxpY2FibGUgbGF3IG9yIGFncmVlZCB0byBpbiB3cml0aW5nLCBzb2Z0d2FyZQovLyBkaXN0cmlidXRlZCB1bmRlciB0aGUgTGljZW5zZSBpcyBkaXN0cmlidXRlZCBvbiBhbiAiQVMgSVMiIEJBU0lTLAovLyBXSVRIT1VUIFdBUlJBTlRJRVMgT1IgQ09ORElUSU9OUyBPRiBBTlkgS0lORCwgZWl0aGVyIGV4cHJlc3Mgb3IgaW1wbGllZC4KLy8gU2VlIHRoZSBMaWNlbnNlIGZvciB0aGUgc3BlY2lmaWMgbGFuZ3VhZ2UgZ292ZXJuaW5nIHBlcm1pc3Npb25zIGFuZAovLyBsaW1pdGF0aW9ucyB1bmRlciB0aGUgTGljZW5zZS4KCi8qKgogKiBAZmlsZW92ZXJ2aWV3IEhlbHBlcnMgZm9yIGdvb2dsZS5jb2xhYiBQeXRob24gbW9kdWxlLgogKi8KKGZ1bmN0aW9uKHNjb3BlKSB7CmZ1bmN0aW9uIHNwYW4odGV4dCwgc3R5bGVBdHRyaWJ1dGVzID0ge30pIHsKICBjb25zdCBlbGVtZW50ID0gZG9jdW1lbnQuY3JlYXRlRWxlbWVudCgnc3BhbicpOwogIGVsZW1lbnQudGV4dENvbnRlbnQgPSB0ZXh0OwogIGZvciAoY29uc3Qga2V5IG9mIE9iamVjdC5rZXlzKHN0eWxlQXR0cmlidXRlcykpIHsKICAgIGVsZW1lbnQuc3R5bGVba2V5XSA9IHN0eWxlQXR0cmlidXRlc1trZXldOwogIH0KICByZXR1cm4gZWxlbWVudDsKfQoKLy8gTWF4IG51bWJlciBvZiBieXRlcyB3aGljaCB3aWxsIGJlIHVwbG9hZGVkIGF0IGEgdGltZS4KY29uc3QgTUFYX1BBWUxPQURfU0laRSA9IDEwMCAqIDEwMjQ7Ci8vIE1heCBhbW91bnQgb2YgdGltZSB0byBibG9jayB3YWl0aW5nIGZvciB0aGUgdXNlci4KY29uc3QgRklMRV9DSEFOR0VfVElNRU9VVF9NUyA9IDMwICogMTAwMDsKCmZ1bmN0aW9uIF91cGxvYWRGaWxlcyhpbnB1dElkLCBvdXRwdXRJZCkgewogIGNvbnN0IHN0ZXBzID0gdXBsb2FkRmlsZXNTdGVwKGlucHV0SWQsIG91dHB1dElkKTsKICBjb25zdCBvdXRwdXRFbGVtZW50ID0gZG9jdW1lbnQuZ2V0RWxlbWVudEJ5SWQob3V0cHV0SWQpOwogIC8vIENhY2hlIHN0ZXBzIG9uIHRoZSBvdXRwdXRFbGVtZW50IHRvIG1ha2UgaXQgYXZhaWxhYmxlIGZvciB0aGUgbmV4dCBjYWxsCiAgLy8gdG8gdXBsb2FkRmlsZXNDb250aW51ZSBmcm9tIFB5dGhvbi4KICBvdXRwdXRFbGVtZW50LnN0ZXBzID0gc3RlcHM7CgogIHJldHVybiBfdXBsb2FkRmlsZXNDb250aW51ZShvdXRwdXRJZCk7Cn0KCi8vIFRoaXMgaXMgcm91Z2hseSBhbiBhc3luYyBnZW5lcmF0b3IgKG5vdCBzdXBwb3J0ZWQgaW4gdGhlIGJyb3dzZXIgeWV0KSwKLy8gd2hlcmUgdGhlcmUgYXJlIG11bHRpcGxlIGFzeW5jaHJvbm91cyBzdGVwcyBhbmQgdGhlIFB5dGhvbiBzaWRlIGlzIGdvaW5nCi8vIHRvIHBvbGwgZm9yIGNvbXBsZXRpb24gb2YgZWFjaCBzdGVwLgovLyBUaGlzIHVzZXMgYSBQcm9taXNlIHRvIGJsb2NrIHRoZSBweXRob24gc2lkZSBvbiBjb21wbGV0aW9uIG9mIGVhY2ggc3RlcCwKLy8gdGhlbiBwYXNzZXMgdGhlIHJlc3VsdCBvZiB0aGUgcHJldmlvdXMgc3RlcCBhcyB0aGUgaW5wdXQgdG8gdGhlIG5leHQgc3RlcC4KZnVuY3Rpb24gX3VwbG9hZEZpbGVzQ29udGludWUob3V0cHV0SWQpIHsKICBjb25zdCBvdXRwdXRFbGVtZW50ID0gZG9jdW1lbnQuZ2V0RWxlbWVudEJ5SWQob3V0cHV0SWQpOwogIGNvbnN0IHN0ZXBzID0gb3V0cHV0RWxlbWVudC5zdGVwczsKCiAgY29uc3QgbmV4dCA9IHN0ZXBzLm5leHQob3V0cHV0RWxlbWVudC5sYXN0UHJvbWlzZVZhbHVlKTsKICByZXR1cm4gUHJvbWlzZS5yZXNvbHZlKG5leHQudmFsdWUucHJvbWlzZSkudGhlbigodmFsdWUpID0+IHsKICAgIC8vIENhY2hlIHRoZSBsYXN0IHByb21pc2UgdmFsdWUgdG8gbWFrZSBpdCBhdmFpbGFibGUgdG8gdGhlIG5leHQKICAgIC8vIHN0ZXAgb2YgdGhlIGdlbmVyYXRvci4KICAgIG91dHB1dEVsZW1lbnQubGFzdFByb21pc2VWYWx1ZSA9IHZhbHVlOwogICAgcmV0dXJuIG5leHQudmFsdWUucmVzcG9uc2U7CiAgfSk7Cn0KCi8qKgogKiBHZW5lcmF0b3IgZnVuY3Rpb24gd2hpY2ggaXMgY2FsbGVkIGJldHdlZW4gZWFjaCBhc3luYyBzdGVwIG9mIHRoZSB1cGxvYWQKICogcHJvY2Vzcy4KICogQHBhcmFtIHtzdHJpbmd9IGlucHV0SWQgRWxlbWVudCBJRCBvZiB0aGUgaW5wdXQgZmlsZSBwaWNrZXIgZWxlbWVudC4KICogQHBhcmFtIHtzdHJpbmd9IG91dHB1dElkIEVsZW1lbnQgSUQgb2YgdGhlIG91dHB1dCBkaXNwbGF5LgogKiBAcmV0dXJuIHshSXRlcmFibGU8IU9iamVjdD59IEl0ZXJhYmxlIG9mIG5leHQgc3RlcHMuCiAqLwpmdW5jdGlvbiogdXBsb2FkRmlsZXNTdGVwKGlucHV0SWQsIG91dHB1dElkKSB7CiAgY29uc3QgaW5wdXRFbGVtZW50ID0gZG9jdW1lbnQuZ2V0RWxlbWVudEJ5SWQoaW5wdXRJZCk7CiAgaW5wdXRFbGVtZW50LmRpc2FibGVkID0gZmFsc2U7CgogIGNvbnN0IG91dHB1dEVsZW1lbnQgPSBkb2N1bWVudC5nZXRFbGVtZW50QnlJZChvdXRwdXRJZCk7CiAgb3V0cHV0RWxlbWVudC5pbm5lckhUTUwgPSAnJzsKCiAgY29uc3QgcGlja2VkUHJvbWlzZSA9IG5ldyBQcm9taXNlKChyZXNvbHZlKSA9PiB7CiAgICBpbnB1dEVsZW1lbnQuYWRkRXZlbnRMaXN0ZW5lcignY2hhbmdlJywgKGUpID0+IHsKICAgICAgcmVzb2x2ZShlLnRhcmdldC5maWxlcyk7CiAgICB9KTsKICB9KTsKCiAgY29uc3QgY2FuY2VsID0gZG9jdW1lbnQuY3JlYXRlRWxlbWVudCgnYnV0dG9uJyk7CiAgaW5wdXRFbGVtZW50LnBhcmVudEVsZW1lbnQuYXBwZW5kQ2hpbGQoY2FuY2VsKTsKICBjYW5jZWwudGV4dENvbnRlbnQgPSAnQ2FuY2VsIHVwbG9hZCc7CiAgY29uc3QgY2FuY2VsUHJvbWlzZSA9IG5ldyBQcm9taXNlKChyZXNvbHZlKSA9PiB7CiAgICBjYW5jZWwub25jbGljayA9ICgpID0+IHsKICAgICAgcmVzb2x2ZShudWxsKTsKICAgIH07CiAgfSk7CgogIC8vIENhbmNlbCB1cGxvYWQgaWYgdXNlciBoYXNuJ3QgcGlja2VkIGFueXRoaW5nIGluIHRpbWVvdXQuCiAgY29uc3QgdGltZW91dFByb21pc2UgPSBuZXcgUHJvbWlzZSgocmVzb2x2ZSkgPT4gewogICAgc2V0VGltZW91dCgoKSA9PiB7CiAgICAgIHJlc29sdmUobnVsbCk7CiAgICB9LCBGSUxFX0NIQU5HRV9USU1FT1VUX01TKTsKICB9KTsKCiAgLy8gV2FpdCBmb3IgdGhlIHVzZXIgdG8gcGljayB0aGUgZmlsZXMuCiAgY29uc3QgZmlsZXMgPSB5aWVsZCB7CiAgICBwcm9taXNlOiBQcm9taXNlLnJhY2UoW3BpY2tlZFByb21pc2UsIHRpbWVvdXRQcm9taXNlLCBjYW5jZWxQcm9taXNlXSksCiAgICByZXNwb25zZTogewogICAgICBhY3Rpb246ICdzdGFydGluZycsCiAgICB9CiAgfTsKCiAgaWYgKCFmaWxlcykgewogICAgcmV0dXJuIHsKICAgICAgcmVzcG9uc2U6IHsKICAgICAgICBhY3Rpb246ICdjb21wbGV0ZScsCiAgICAgIH0KICAgIH07CiAgfQoKICBjYW5jZWwucmVtb3ZlKCk7CgogIC8vIERpc2FibGUgdGhlIGlucHV0IGVsZW1lbnQgc2luY2UgZnVydGhlciBwaWNrcyBhcmUgbm90IGFsbG93ZWQuCiAgaW5wdXRFbGVtZW50LmRpc2FibGVkID0gdHJ1ZTsKCiAgZm9yIChjb25zdCBmaWxlIG9mIGZpbGVzKSB7CiAgICBjb25zdCBsaSA9IGRvY3VtZW50LmNyZWF0ZUVsZW1lbnQoJ2xpJyk7CiAgICBsaS5hcHBlbmQoc3BhbihmaWxlLm5hbWUsIHtmb250V2VpZ2h0OiAnYm9sZCd9KSk7CiAgICBsaS5hcHBlbmQoc3BhbigKICAgICAgICBgKCR7ZmlsZS50eXBlIHx8ICduL2EnfSkgLSAke2ZpbGUuc2l6ZX0gYnl0ZXMsIGAgKwogICAgICAgIGBsYXN0IG1vZGlmaWVkOiAkewogICAgICAgICAgICBmaWxlLmxhc3RNb2RpZmllZERhdGUgPyBmaWxlLmxhc3RNb2RpZmllZERhdGUudG9Mb2NhbGVEYXRlU3RyaW5nKCkgOgogICAgICAgICAgICAgICAgICAgICAgICAgICAgICAgICAgICAnbi9hJ30gLSBgKSk7CiAgICBjb25zdCBwZXJjZW50ID0gc3BhbignMCUgZG9uZScpOwogICAgbGkuYXBwZW5kQ2hpbGQocGVyY2VudCk7CgogICAgb3V0cHV0RWxlbWVudC5hcHBlbmRDaGlsZChsaSk7CgogICAgY29uc3QgZmlsZURhdGFQcm9taXNlID0gbmV3IFByb21pc2UoKHJlc29sdmUpID0+IHsKICAgICAgY29uc3QgcmVhZGVyID0gbmV3IEZpbGVSZWFkZXIoKTsKICAgICAgcmVhZGVyLm9ubG9hZCA9IChlKSA9PiB7CiAgICAgICAgcmVzb2x2ZShlLnRhcmdldC5yZXN1bHQpOwogICAgICB9OwogICAgICByZWFkZXIucmVhZEFzQXJyYXlCdWZmZXIoZmlsZSk7CiAgICB9KTsKICAgIC8vIFdhaXQgZm9yIHRoZSBkYXRhIHRvIGJlIHJlYWR5LgogICAgbGV0IGZpbGVEYXRhID0geWllbGQgewogICAgICBwcm9taXNlOiBmaWxlRGF0YVByb21pc2UsCiAgICAgIHJlc3BvbnNlOiB7CiAgICAgICAgYWN0aW9uOiAnY29udGludWUnLAogICAgICB9CiAgICB9OwoKICAgIC8vIFVzZSBhIGNodW5rZWQgc2VuZGluZyB0byBhdm9pZCBtZXNzYWdlIHNpemUgbGltaXRzLiBTZWUgYi82MjExNTY2MC4KICAgIGxldCBwb3NpdGlvbiA9IDA7CiAgICB3aGlsZSAocG9zaXRpb24gPCBmaWxlRGF0YS5ieXRlTGVuZ3RoKSB7CiAgICAgIGNvbnN0IGxlbmd0aCA9IE1hdGgubWluKGZpbGVEYXRhLmJ5dGVMZW5ndGggLSBwb3NpdGlvbiwgTUFYX1BBWUxPQURfU0laRSk7CiAgICAgIGNvbnN0IGNodW5rID0gbmV3IFVpbnQ4QXJyYXkoZmlsZURhdGEsIHBvc2l0aW9uLCBsZW5ndGgpOwogICAgICBwb3NpdGlvbiArPSBsZW5ndGg7CgogICAgICBjb25zdCBiYXNlNjQgPSBidG9hKFN0cmluZy5mcm9tQ2hhckNvZGUuYXBwbHkobnVsbCwgY2h1bmspKTsKICAgICAgeWllbGQgewogICAgICAgIHJlc3BvbnNlOiB7CiAgICAgICAgICBhY3Rpb246ICdhcHBlbmQnLAogICAgICAgICAgZmlsZTogZmlsZS5uYW1lLAogICAgICAgICAgZGF0YTogYmFzZTY0LAogICAgICAgIH0sCiAgICAgIH07CiAgICAgIHBlcmNlbnQudGV4dENvbnRlbnQgPQogICAgICAgICAgYCR7TWF0aC5yb3VuZCgocG9zaXRpb24gLyBmaWxlRGF0YS5ieXRlTGVuZ3RoKSAqIDEwMCl9JSBkb25lYDsKICAgIH0KICB9CgogIC8vIEFsbCBkb25lLgogIHlpZWxkIHsKICAgIHJlc3BvbnNlOiB7CiAgICAgIGFjdGlvbjogJ2NvbXBsZXRlJywKICAgIH0KICB9Owp9CgpzY29wZS5nb29nbGUgPSBzY29wZS5nb29nbGUgfHwge307CnNjb3BlLmdvb2dsZS5jb2xhYiA9IHNjb3BlLmdvb2dsZS5jb2xhYiB8fCB7fTsKc2NvcGUuZ29vZ2xlLmNvbGFiLl9maWxlcyA9IHsKICBfdXBsb2FkRmlsZXMsCiAgX3VwbG9hZEZpbGVzQ29udGludWUsCn07Cn0pKHNlbGYpOwo=",
              "ok": true,
              "headers": [
                [
                  "content-type",
                  "application/javascript"
                ]
              ],
              "status": 200,
              "status_text": ""
            }
          },
          "base_uri": "https://localhost:8080/",
          "height": 75
        }
      },
      "source": [
        "from google.colab import files \n",
        "uploaded = files.upload()\n",
        "with open('COVID-19-new.json') as f:\n",
        "    covid19kg_dict=json.load(f)"
      ],
      "execution_count": 0,
      "outputs": [
        {
          "output_type": "display_data",
          "data": {
            "text/html": [
              "\n",
              "     <input type=\"file\" id=\"files-5edccdaf-f3d1-4b42-94ae-6be10bf859e2\" name=\"files[]\" multiple disabled />\n",
              "     <output id=\"result-5edccdaf-f3d1-4b42-94ae-6be10bf859e2\">\n",
              "      Upload widget is only available when the cell has been executed in the\n",
              "      current browser session. Please rerun this cell to enable.\n",
              "      </output>\n",
              "      <script src=\"/nbextensions/google.colab/files.js\"></script> "
            ],
            "text/plain": [
              "<IPython.core.display.HTML object>"
            ]
          },
          "metadata": {
            "tags": []
          }
        },
        {
          "output_type": "stream",
          "text": [
            "Saving COVID-19-new.json to COVID-19-new.json\n"
          ],
          "name": "stdout"
        }
      ]
    },
    {
      "cell_type": "code",
      "metadata": {
        "id": "JVoPHJaPWCjv",
        "colab_type": "code",
        "colab": {}
      },
      "source": [
        "#adding the new file data\n",
        "\n",
        "parents=[]\n",
        "children=[]\n",
        "edgetype=[]\n",
        "parent_type=[]\n",
        "children_type=[]\n",
        "parent_labels = []\n",
        "children_labels = []\n",
        "nodes = set()\n",
        "\n",
        "label_dict = {'Abundance':['a', 'r', 'm', 'g', 'p','pop', 'composite', 'complex','frag','fus','loc','pmod','var'],\n",
        "             'Process': ['bp', 'path','act'],\n",
        "             'Transformation':['sec','surf','deg','rxn','tloc','fromLoc','products','reactants','toLoc']}\n",
        "for eachedge in covid19kg_dict[0]['nanopub']['assertions']:\n",
        "    parents.append(eachedge['subject'])\n",
        "    children.append(eachedge['object'])\n",
        "    edgetype.append(eachedge['relation'])\n",
        "    nodes.add(eachedge['subject'])\n",
        "    nodes.add(eachedge['object'])\n",
        "    p=eachedge['subject']\n",
        "    c=eachedge['object']\n",
        "    ptype = p[:p.find('(')]\n",
        "    ctype = c[:c.find('(')]\n",
        "    parent_type.append(ptype)\n",
        "    children_type.append(ctype)\n",
        "    for label in label_dict:\n",
        "      if ptype in label_dict[label]:\n",
        "        parent_labels.append(label)\n",
        "      elif ptype == '': \n",
        "        parent_labels.append('Others')\n",
        "    for label in label_dict:\n",
        "      if ctype in label_dict[label]:     \n",
        "        children_labels.append(label)\n",
        "      elif ctype == '': \n",
        "        children_labels.append('Others')\n",
        "        breal\n"
      ],
      "execution_count": 0,
      "outputs": []
    },
    {
      "cell_type": "code",
      "metadata": {
        "id": "iCXjvz9eVZbS",
        "colab_type": "code",
        "colab": {}
      },
      "source": [
        "newcovid_df=pd.DataFrame(list(zip(parents,parent_type,edgetype,children,children_type, parent_labels, children_labels)),columns=['Parent','Parent_type','Relation','Child','Child_type', 'Parent_label', 'Child_label'])"
      ],
      "execution_count": 0,
      "outputs": []
    },
    {
      "cell_type": "code",
      "metadata": {
        "id": "Y1bub6Le7zgt",
        "colab_type": "code",
        "colab": {}
      },
      "source": [
        "ailias_dict = {'bp(GO:\"tumor necrosis factor-mediated signaling pathway\")': 'TNF',\n",
        "               'bp(GO:\"epidermal growth factor receptor signaling pathway\")': 'EGFR',\n",
        "               'act(p(HGNC:EGF))':'EGF',\n",
        "               'act(p(HGNC:ADAM17))': 'ADAM17',\n",
        "               'bp(GO:\"positive regulation of interleukin-6 production\")': 'IL_6_AMP',\n",
        "               'act(complex(GO:\"NF-kappaB complex\"))': 'NF_xB',\n",
        "               'bp(GO:\"pattern recognition receptor signaling pathway\")': 'PRR',\n",
        "               'a(TAX:\"Severe acute respiratory syndrome coronavirus 2\")': 'SARS_2',\n",
        "               'act(complex(p(HGNC:IL6),p(HGNC:STAT3)))': 'IL6_STAT3',\n",
        "               'act(p(HGNC:IL6R))': 'IL_6',\n",
        "               'act(p(HGNC:AGTR1))': 'ATIR',\n",
        "               'a(CHEBI:\"angiotensin II\")': 'AngII',\n",
        "               'act(p(HGNC:ACE2))': 'ACE2',\n",
        "               'deg(p(HGNC:ACE2))': 'deg',\n",
        "               'path(MESH:\"Severe Acute Respiratory Syndrome\")': 'ARDS',\n",
        "               'act(complex(GO:\"NF-kappaB p50/p65 complex\"))': 'NF_xB' }\n",
        "newcovid_df['Parent_alias'] = newcovid_df['Parent'].apply(lambda x : ailias_dict[x])\n",
        "newcovid_df['Child_alias'] = newcovid_df['Child'].apply(lambda x : ailias_dict[x])\n",
        "nodes = [ailias_dict[i] for i in nodes]"
      ],
      "execution_count": 0,
      "outputs": []
    },
    {
      "cell_type": "code",
      "metadata": {
        "id": "rQR9HtJP-ADm",
        "colab_type": "code",
        "outputId": "66e450af-911f-4b75-91f5-7f6aa38d4d97",
        "colab": {
          "base_uri": "https://localhost:8080/",
          "height": 374
        }
      },
      "source": [
        "newcovid_df.sort_values('Parent').head()"
      ],
      "execution_count": 0,
      "outputs": [
        {
          "output_type": "execute_result",
          "data": {
            "text/html": [
              "<div>\n",
              "<style scoped>\n",
              "    .dataframe tbody tr th:only-of-type {\n",
              "        vertical-align: middle;\n",
              "    }\n",
              "\n",
              "    .dataframe tbody tr th {\n",
              "        vertical-align: top;\n",
              "    }\n",
              "\n",
              "    .dataframe thead th {\n",
              "        text-align: right;\n",
              "    }\n",
              "</style>\n",
              "<table border=\"1\" class=\"dataframe\">\n",
              "  <thead>\n",
              "    <tr style=\"text-align: right;\">\n",
              "      <th></th>\n",
              "      <th>Parent</th>\n",
              "      <th>Parent_type</th>\n",
              "      <th>Relation</th>\n",
              "      <th>Child</th>\n",
              "      <th>Child_type</th>\n",
              "      <th>Parent_label</th>\n",
              "      <th>Child_label</th>\n",
              "      <th>Parent_alias</th>\n",
              "      <th>Child_alias</th>\n",
              "    </tr>\n",
              "  </thead>\n",
              "  <tbody>\n",
              "    <tr>\n",
              "      <th>13</th>\n",
              "      <td>a(CHEBI:\"angiotensin II\")</td>\n",
              "      <td>a</td>\n",
              "      <td>increases</td>\n",
              "      <td>act(p(HGNC:AGTR1))</td>\n",
              "      <td>act</td>\n",
              "      <td>Abundance</td>\n",
              "      <td>Process</td>\n",
              "      <td>AngII</td>\n",
              "      <td>ATIR</td>\n",
              "    </tr>\n",
              "    <tr>\n",
              "      <th>8</th>\n",
              "      <td>a(TAX:\"Severe acute respiratory syndrome coronavirus 2\")</td>\n",
              "      <td>a</td>\n",
              "      <td>increases</td>\n",
              "      <td>bp(GO:\"pattern recognition receptor signaling pathway\")</td>\n",
              "      <td>bp</td>\n",
              "      <td>Abundance</td>\n",
              "      <td>Process</td>\n",
              "      <td>SARS_2</td>\n",
              "      <td>PRR</td>\n",
              "    </tr>\n",
              "    <tr>\n",
              "      <th>16</th>\n",
              "      <td>a(TAX:\"Severe acute respiratory syndrome coronavirus 2\")</td>\n",
              "      <td>a</td>\n",
              "      <td>increases</td>\n",
              "      <td>deg(p(HGNC:ACE2))</td>\n",
              "      <td>deg</td>\n",
              "      <td>Abundance</td>\n",
              "      <td>Transformation</td>\n",
              "      <td>SARS_2</td>\n",
              "      <td>deg</td>\n",
              "    </tr>\n",
              "    <tr>\n",
              "      <th>6</th>\n",
              "      <td>act(complex(GO:\"NF-kappaB complex\"))</td>\n",
              "      <td>act</td>\n",
              "      <td>increases</td>\n",
              "      <td>bp(GO:\"positive regulation of interleukin-6 production\")</td>\n",
              "      <td>bp</td>\n",
              "      <td>Process</td>\n",
              "      <td>Process</td>\n",
              "      <td>NF_xB</td>\n",
              "      <td>IL_6_AMP</td>\n",
              "    </tr>\n",
              "    <tr>\n",
              "      <th>9</th>\n",
              "      <td>act(complex(p(HGNC:IL6),p(HGNC:STAT3)))</td>\n",
              "      <td>act</td>\n",
              "      <td>increases</td>\n",
              "      <td>bp(GO:\"positive regulation of interleukin-6 production\")</td>\n",
              "      <td>bp</td>\n",
              "      <td>Process</td>\n",
              "      <td>Process</td>\n",
              "      <td>IL6_STAT3</td>\n",
              "      <td>IL_6_AMP</td>\n",
              "    </tr>\n",
              "  </tbody>\n",
              "</table>\n",
              "</div>"
            ],
            "text/plain": [
              "                                                      Parent Parent_type  \\\n",
              "13  a(CHEBI:\"angiotensin II\")                                 a            \n",
              "8   a(TAX:\"Severe acute respiratory syndrome coronavirus 2\")  a            \n",
              "16  a(TAX:\"Severe acute respiratory syndrome coronavirus 2\")  a            \n",
              "6   act(complex(GO:\"NF-kappaB complex\"))                      act          \n",
              "9   act(complex(p(HGNC:IL6),p(HGNC:STAT3)))                   act          \n",
              "\n",
              "     Relation                                                     Child  \\\n",
              "13  increases  act(p(HGNC:AGTR1))                                         \n",
              "8   increases  bp(GO:\"pattern recognition receptor signaling pathway\")    \n",
              "16  increases  deg(p(HGNC:ACE2))                                          \n",
              "6   increases  bp(GO:\"positive regulation of interleukin-6 production\")   \n",
              "9   increases  bp(GO:\"positive regulation of interleukin-6 production\")   \n",
              "\n",
              "   Child_type Parent_label     Child_label Parent_alias Child_alias  \n",
              "13  act        Abundance    Process         AngII        ATIR        \n",
              "8   bp         Abundance    Process         SARS_2       PRR         \n",
              "16  deg        Abundance    Transformation  SARS_2       deg         \n",
              "6   bp         Process      Process         NF_xB        IL_6_AMP    \n",
              "9   bp         Process      Process         IL6_STAT3    IL_6_AMP    "
            ]
          },
          "metadata": {
            "tags": []
          },
          "execution_count": 12
        }
      ]
    },
    {
      "cell_type": "code",
      "metadata": {
        "id": "wlP7UuesYE4G",
        "colab_type": "code",
        "colab": {}
      },
      "source": [
        "def SCM_model():\n",
        "#   ## structural causal model\n",
        "# def struct_model2(exogenous_dists):\n",
        "#     X = sample(\"X\", exogenous_dists[\"N_x\"])\n",
        "#     #Ny_dist = dist.Normal(0.0, 1.0)\n",
        "#     Y_dist = dist.TransformedDistribution(exogenous_dists[\"N_y\"], AffineTransform(4*X, torch.tensor(1.0)))\n",
        "#     Y = pyro.sample('Y', Y_dist)\n",
        "#     return {'X': X, 'Y': Y}\n",
        "\n",
        "# Y = 4 * X + pyro.sample('Ny', dist.Normal(0.0, 1.0))\n",
        "# Y = pyro.sample('Y', dist.Normal(Y, 0.01))\n",
        "\n",
        "\n",
        "  threshold = 0.5\n",
        "  # the threshold should be determined carefully (e.g. 0.5)\n",
        "  check_increase = lambda x : 1.0 if x > threshold else 0.0\n",
        "  check_decrease = lambda x : 0.0 if x > threshold else 1.0\n",
        "  lognormal_dist = dist.LogNormal(torch.tensor(0.0), torch.tensor(0.5))\n",
        "  lognormal_dist_noise = dist.Gamma(torch.tensor(0.5),torch.tensor(2.))\n",
        "  normal_dist = dist.Normal(torch.tensor(0.0),torch.tensor(0.1))\n",
        "  samples = {}\n",
        "\n",
        "  SARS_N = pyro.sample('SARS_N',lognormal_dist) \n",
        "  # SARS_2 = pyro.sample('SARS_2',pyro.distributions.Delta(SARS_N))\n",
        "  SARS_2 = pyro.sample('SARS_2',dist.Normal(SARS_N, 0.01))\n",
        "  samples['SARS_2'] = SARS_2\n",
        "  \n",
        "  PRR_N = pyro.sample(\"PRR_N\", normal_dist)\n",
        "  PRR = torch.tensor(check_increase(PRR_N + SARS_2))\n",
        "  PRR = pyro.sample('PRR',pyro.distributions.Delta(PRR))\n",
        "  # PRR = pyro.sample('PRR',dist.TransformedDistribution(lognormal_dist,AffineTransform(PRR, torch.tensor(1.0))))\n",
        "  # PRR = pyro.sample('PRR',pyro.distributions.Normal(PRR, 0.01))\n",
        "  samples['PRR'] = PRR\n",
        "\n",
        "  deg_N = pyro.sample(\"deg_N\", normal_dist)\n",
        "  deg = SARS_2 + SARS_2*SARS_2 + deg_N\n",
        "  # deg = pyro.sample('deg',pyro.distributions.Delta(deg))\n",
        "  # deg = pyro.sample('deg',dist.TransformedDistribution(lognormal_dist,AffineTransform(deg, torch.tensor(1.0))))\n",
        "  deg = pyro.sample('deg',pyro.distributions.Normal(deg, 0.01))\n",
        "  samples['deg'] = deg\n",
        "\n",
        "  ACE2_N = pyro.sample(\"ACE2_N\", normal_dist)\n",
        "  ACE2 = torch.tensor(check_decrease(deg + ACE2_N))\n",
        "  ACE2 = pyro.sample('ACE2',pyro.distributions.Delta(ACE2)) \n",
        "  samples['ACE2'] = ACE2 \n",
        "\n",
        "  AngII_N = pyro.sample('AngII_N',lognormal_dist_noise)\n",
        "  if ACE2 == 0:\n",
        "    AngII = pyro.sample('AngII',lognormal_dist)\n",
        "  else: \n",
        "    # AngII = pyro.sample('AngII',pyro.distributions.Delta(AngII_N))\n",
        "    # AngII = pyro.sample('AngII',dist.TransformedDistribution(lognormal_dist,AffineTransform(AngII_N, torch.tensor(1.0))))\n",
        "    AngII = pyro.sample('AngII',pyro.distributions.Normal(AngII_N, 0.01))\n",
        "  samples['AngII'] = AngII\n",
        "  \n",
        "  ATIR_N = pyro.sample(\"ATIR_N\", normal_dist)\n",
        "  ATIR = torch.tensor(check_increase(AngII + ATIR_N))\n",
        "  ATIR = pyro.sample('ATIR',pyro.distributions.Delta(ATIR))\n",
        "  samples['ATIR'] = ATIR\n",
        "\n",
        "  ADAM17_N = pyro.sample(\"ADAM17_N\", normal_dist)\n",
        "  ADAM17 = torch.tensor(check_increase(ATIR + ADAM17_N))\n",
        "  ADAM17 = pyro.sample('ADAM17',pyro.distributions.Delta(ADAM17))\n",
        "  samples['ADAM17'] = ADAM17\n",
        "\n",
        "  TNF_N = pyro.sample(\"TNF_N\", normal_dist)\n",
        "  TNF = torch.tensor(check_increase(ADAM17 + TNF_N))\n",
        "  TNF = pyro.sample('TNF',pyro.distributions.Delta(TNF))\n",
        "  samples['TNF'] = TNF\n",
        "\n",
        "  EGF_N = pyro.sample(\"EGF_N\", normal_dist)\n",
        "  EGF = torch.tensor(check_increase(ADAM17 + EGF_N))\n",
        "  EGF = pyro.sample('EGF',pyro.distributions.Delta(EGF))\n",
        "  samples['EGF'] = EGF\n",
        "\n",
        "  EGFR_N = pyro.sample(\"EGFR_N\", normal_dist)\n",
        "  EGFR = torch.tensor(check_increase(EGF + EGFR_N))\n",
        "  EGFR = pyro.sample('EGFR',pyro.distributions.Delta(EGFR))\n",
        "  samples['EGFR'] = EGFR\n",
        "\n",
        "  IL_6_N = pyro.sample(\"IL_6_N\", normal_dist)\n",
        "  IL_6 = torch.tensor(check_increase(ADAM17 + IL_6_N))\n",
        "  IL_6 = pyro.sample('IL_6',pyro.distributions.Delta(IL_6))\n",
        "  samples['IL_6'] = IL_6\n",
        "\n",
        "  IL6_STAT3_N = pyro.sample(\"IL6_STAT3_N\", normal_dist)\n",
        "  IL6_STAT3 = torch.tensor(check_increase(IL_6 + IL6_STAT3_N))\n",
        "  IL6_STAT3 = pyro.sample('IL6_STAT3',pyro.distributions.Delta(IL6_STAT3))\n",
        "  samples['IL6_STAT3'] = IL6_STAT3\n",
        "\n",
        "# TNF PRR EGFR (ATRI while there is a edge in the graph) code as AND gate\n",
        "  NF_xB_N = pyro.sample(\"NF_xB_N\", normal_dist)\n",
        "  if TNF + PRR + EGFR + NF_xB_N > 2.5:    # the threshold should be determined carefully\n",
        "    NF_xB = torch.tensor(1.0)\n",
        "  else: \n",
        "    NF_xB = torch.tensor(0.0)\n",
        "  NF_xB = pyro.sample('NF_xB',pyro.distributions.Delta(NF_xB))\n",
        "  samples['NF_xB'] = NF_xB\n",
        "\n",
        "# NFXB IL6STAT3 \n",
        "  IL_6_AMP_N = pyro.sample(\"IL_6_AMP_N\", normal_dist)\n",
        "  if IL6_STAT3 + NF_xB + IL_6_AMP_N > 1.5:   # the threshold should be determined carefully\n",
        "    IL_6_AMP = torch.tensor(1.0)\n",
        "  else: \n",
        "    IL_6_AMP = torch.tensor(0.0)\n",
        "  IL_6_AMP = pyro.sample('IL_6_AMP',pyro.distributions.Delta(IL_6_AMP))\n",
        "  samples['IL_6_AMP'] = IL_6_AMP\n",
        "\n",
        "  ARDS_N = pyro.sample(\"ARDS_N\", normal_dist)\n",
        "  ARDS = torch.tensor(check_increase(IL_6_AMP + ARDS_N))\n",
        "  ARDS = pyro.sample('ARDS',pyro.distributions.Delta(ARDS))\n",
        "  samples['ARDS'] = ARDS\n",
        "\n",
        "  return samples"
      ],
      "execution_count": 0,
      "outputs": []
    },
    {
      "cell_type": "code",
      "metadata": {
        "id": "hoaZC95EBI6-",
        "colab_type": "code",
        "outputId": "b60bcacf-da26-408a-a7b1-fd6450f0825c",
        "colab": {
          "base_uri": "https://localhost:8080/",
          "height": 276
        }
      },
      "source": [
        "pyro.set_rng_seed(101)\n",
        "SCM_model()"
      ],
      "execution_count": 0,
      "outputs": [
        {
          "output_type": "execute_result",
          "data": {
            "text/plain": [
              "{'ACE2': tensor(0.),\n",
              " 'ADAM17': tensor(1.),\n",
              " 'ARDS': tensor(0.),\n",
              " 'ATIR': tensor(1.),\n",
              " 'AngII': tensor(1.7264),\n",
              " 'EGF': tensor(1.),\n",
              " 'EGFR': tensor(1.),\n",
              " 'IL6_STAT3': tensor(1.),\n",
              " 'IL_6': tensor(1.),\n",
              " 'IL_6_AMP': tensor(0.),\n",
              " 'NF_xB': tensor(0.),\n",
              " 'PRR': tensor(0.),\n",
              " 'SARS_2': tensor(0.4908),\n",
              " 'TNF': tensor(1.),\n",
              " 'deg': tensor(0.7879)}"
            ]
          },
          "metadata": {
            "tags": []
          },
          "execution_count": 14
        }
      ]
    },
    {
      "cell_type": "code",
      "metadata": {
        "id": "0wD36isrOGKi",
        "colab_type": "code",
        "colab": {}
      },
      "source": [
        "from pyro.infer import Importance, EmpiricalMarginal\n",
        "from torch.distributions.transforms import AffineTransform\n",
        "# counterfactual function to get the distribution of target variable by sampling\n",
        "def counterfactual(model,observed_variable, observed_val,exogenous_variable,cf_variable,cf_val,target_variable):\n",
        "    target = []\n",
        "    # get the conditional model\n",
        "    conditions = {}\n",
        "    for i in range(len(observed_variable)):\n",
        "        conditions[observed_variable[i]] = torch.tensor(observed_val[i])\n",
        "    conditioned_model = pyro.condition(model, data=conditions)\n",
        "    # get the posterior and marginal distribution\n",
        "    posterior = pyro.infer.Importance(conditioned_model, num_samples=1000).run()\n",
        "    marginal = EmpiricalMarginal(posterior,exogenous_variable)\n",
        "    # get the do model\n",
        "    dos = {}\n",
        "    for i in range(len(cf_variable)):\n",
        "        dos[cf_variable[i]] = torch.tensor(cf_val[i])\n",
        "    do_model = pyro.do(model, data=dos)\n",
        "    # sample target variable under updated posterior and do model\n",
        "    for i in range(1000):\n",
        "        samples = marginal()\n",
        "        exog = {}\n",
        "        for i in range(len(exogenous_variable)):\n",
        "            exog[exogenous_variable[i]] = torch.tensor(samples[i])\n",
        "        cf_model = pyro.condition(do_model, data= exog)\n",
        "        trace_handler = pyro.poutine.trace(cf_model)\n",
        "        trace = trace_handler.get_trace()\n",
        "\n",
        "        target.append(trace.nodes[target_variable]['value'].numpy().item())\n",
        "\n",
        "    return np.mean(target)"
      ],
      "execution_count": 0,
      "outputs": []
    },
    {
      "cell_type": "markdown",
      "metadata": {
        "id": "_L8mKHyXY8aW",
        "colab_type": "text"
      },
      "source": [
        "One thing we notice is that when ACE-2 is inhibited, we see Interleukin 6 (IL-6) activation, which is a pro-inflammatory cytokine that leads to Acute respiratory distress syndrome (ARDS).   Furthermore, there are several drugs that affect intermediates in the pathway from ACE-2 to IL-6.   First question: does the current covid-19 knowledge graph contain this information?  Second:  Can we generate a simulation of ACE-2 inhibition leading to IL-6 activation?   Third, can we identify a protein in the pathway from ACE-2 to IL-6 that is the target of a drug?  Fourth question, conditioned on what we know about normal ACE-2 to IL-6 pathway, what is the effect of ACE-2 inhibition on IL-6 activation when we simulate drug-induced knockout of the protein target?"
      ]
    },
    {
      "cell_type": "code",
      "metadata": {
        "id": "xXaxClBiMLVj",
        "colab_type": "code",
        "outputId": "9e6c82a8-ec3a-4b5f-d3ed-bf495cb57736",
        "colab": {
          "base_uri": "https://localhost:8080/",
          "height": 71
        }
      },
      "source": [
        "target = counterfactual(SCM_model, ['SARS_2', 'ACE2','ARDS'], [1.,0.,1.], ['SARS_N', 'PRR_N', 'deg_N', \n",
        "                                                     'ACE2_N', 'AngII_N', 'ATIR_N', \n",
        "                                                     'ADAM17_N', 'TNF_N', 'EGF_N', \n",
        "                                                     'EGFR_N', 'IL_6_N', 'IL6_STAT3_N', \n",
        "                                                     'NF_xB_N', 'IL_6_AMP_N','ARDS_N' ],\n",
        "                ['ACE2'], [1.], 'ARDS' )\n",
        "\n",
        "print(target)\n",
        "\n",
        "# SARS_2=1, ACE_2 = 0 => ARDS = 1 \n",
        "\n",
        "## Can we generate a simulation of ACE-2 inhibition leading to IL-6 activation? \n",
        "## this is the intervention problem? basically P(IL_6 = 1| do(ACE_2 = 0))\n",
        "\n",
        "## Third, can we identify a protein in the pathway from ACE-2 to IL-6 that is the target of a drug\n",
        "## Ask Jeremy\n",
        "\n",
        "## 4th conditioned on what we know about normal ACE-2 to IL-6 pathway, what is the effect of ACE-2\n",
        "## inhibition on IL-6 activation when we simulate drug-induced knockout of the protein target\n",
        "## \n"
      ],
      "execution_count": 0,
      "outputs": [
        {
          "output_type": "stream",
          "text": [
            "/usr/local/lib/python3.6/dist-packages/ipykernel_launcher.py:24: UserWarning: To copy construct from a tensor, it is recommended to use sourceTensor.clone().detach() or sourceTensor.clone().detach().requires_grad_(True), rather than torch.tensor(sourceTensor).\n"
          ],
          "name": "stderr"
        },
        {
          "output_type": "stream",
          "text": [
            "0.204\n"
          ],
          "name": "stdout"
        }
      ]
    },
    {
      "cell_type": "code",
      "metadata": {
        "id": "0X7nTJD90j4H",
        "colab_type": "code",
        "outputId": "b9cf9dd3-9250-4732-d5d1-00ae9138c18d",
        "colab": {
          "base_uri": "https://localhost:8080/",
          "height": 71
        }
      },
      "source": [
        "target = counterfactual(SCM_model, ['SARS_2', 'ACE2','ARDS'], [1.,0.,1.], ['SARS_N', 'PRR_N', 'deg_N', \n",
        "                                                     'ACE2_N', 'AngII_N', 'ATIR_N', \n",
        "                                                     'ADAM17_N', 'TNF_N', 'EGF_N', \n",
        "                                                     'EGFR_N', 'IL_6_N', 'IL6_STAT3_N', \n",
        "                                                     'NF_xB_N', 'IL_6_AMP_N','ARDS_N' ],\n",
        "                ['ACE2'], [1.], 'ARDS' )\n",
        "print(target)"
      ],
      "execution_count": 0,
      "outputs": [
        {
          "output_type": "stream",
          "text": [
            "/usr/local/lib/python3.6/dist-packages/ipykernel_launcher.py:24: UserWarning: To copy construct from a tensor, it is recommended to use sourceTensor.clone().detach() or sourceTensor.clone().detach().requires_grad_(True), rather than torch.tensor(sourceTensor).\n"
          ],
          "name": "stderr"
        },
        {
          "output_type": "stream",
          "text": [
            "0.044\n"
          ],
          "name": "stdout"
        }
      ]
    },
    {
      "cell_type": "code",
      "metadata": {
        "id": "X0FmXi3jGFou",
        "colab_type": "code",
        "outputId": "b4ae2f4b-6f2d-4a20-fdd3-6201d81c0ef4",
        "colab": {
          "base_uri": "https://localhost:8080/",
          "height": 71
        }
      },
      "source": [
        "target = counterfactual(SCM_model, ['SARS_2', 'ACE2','ARDS'], [1.,0.,1.], ['SARS_N', 'PRR_N', 'deg_N', \n",
        "                                                     'ACE2_N', 'AngII_N', 'ATIR_N', \n",
        "                                                     'ADAM17_N', 'TNF_N', 'EGF_N', \n",
        "                                                     'EGFR_N', 'IL_6_N', 'IL6_STAT3_N', \n",
        "                                                     'NF_xB_N', 'IL_6_AMP_N','ARDS_N' ],\n",
        "                ['IL_6'], [0.], 'ARDS' )\n",
        "\n",
        "print(target)"
      ],
      "execution_count": 0,
      "outputs": [
        {
          "output_type": "stream",
          "text": [
            "/usr/local/lib/python3.6/dist-packages/ipykernel_launcher.py:24: UserWarning: To copy construct from a tensor, it is recommended to use sourceTensor.clone().detach() or sourceTensor.clone().detach().requires_grad_(True), rather than torch.tensor(sourceTensor).\n"
          ],
          "name": "stderr"
        },
        {
          "output_type": "stream",
          "text": [
            "0.0\n"
          ],
          "name": "stdout"
        }
      ]
    },
    {
      "cell_type": "code",
      "metadata": {
        "id": "AI3n0tNrkE1d",
        "colab_type": "code",
        "outputId": "cf04be62-b135-4559-e019-c53fa8af0d4c",
        "colab": {
          "base_uri": "https://localhost:8080/",
          "height": 71
        }
      },
      "source": [
        "target = counterfactual(SCM_model, ['SARS_2', 'ACE2','ARDS'], [1.,0.,1.], ['SARS_N', 'PRR_N', 'deg_N', \n",
        "                                                     'ACE2_N', 'AngII_N', 'ATIR_N', \n",
        "                                                     'ADAM17_N', 'TNF_N', 'EGF_N', \n",
        "                                                     'EGFR_N', 'IL_6_N', 'IL6_STAT3_N', \n",
        "                                                     'NF_xB_N', 'IL_6_AMP_N','ARDS_N' ],\n",
        "                ['IL6_STAT3'], [0.], 'ARDS' )\n",
        "\n",
        "print(target)"
      ],
      "execution_count": 0,
      "outputs": [
        {
          "output_type": "stream",
          "text": [
            "/usr/local/lib/python3.6/dist-packages/ipykernel_launcher.py:24: UserWarning: To copy construct from a tensor, it is recommended to use sourceTensor.clone().detach() or sourceTensor.clone().detach().requires_grad_(True), rather than torch.tensor(sourceTensor).\n"
          ],
          "name": "stderr"
        },
        {
          "output_type": "stream",
          "text": [
            "0.0\n"
          ],
          "name": "stdout"
        }
      ]
    },
    {
      "cell_type": "code",
      "metadata": {
        "id": "Ih5rDkPyJjdL",
        "colab_type": "code",
        "colab": {}
      },
      "source": [
        ""
      ],
      "execution_count": 0,
      "outputs": []
    },
    {
      "cell_type": "code",
      "metadata": {
        "id": "Kklv3NNrccIy",
        "colab_type": "code",
        "colab": {}
      },
      "source": [
        "# the intervention probability\n",
        "def intervention(model,do_variable, do_val, target_variable):\n",
        "    # get the conditions for the do model\n",
        "    conditions = {}\n",
        "    for i in range(len(do_variable)):\n",
        "        conditions[do_variable[i]] = torch.tensor(do_val[i])\n",
        "    do_model = pyro.do(model, data=conditions)\n",
        "    posterior = pyro.infer.Importance(do_model, num_samples=1000).run()\n",
        "    marginal = EmpiricalMarginal(posterior,target_variable)\n",
        "    target = [marginal().item() for i in range(1000)]\n",
        "    return np.mean(target)               "
      ],
      "execution_count": 0,
      "outputs": []
    },
    {
      "cell_type": "code",
      "metadata": {
        "id": "_VxiZ9trdil2",
        "colab_type": "code",
        "outputId": "52c768eb-81b7-4220-9d0f-84c4aac3eb52",
        "colab": {
          "base_uri": "https://localhost:8080/",
          "height": 34
        }
      },
      "source": [
        "intervention(SCM_model,['ACE2'],[0.0],'ARDS')"
      ],
      "execution_count": 0,
      "outputs": [
        {
          "output_type": "execute_result",
          "data": {
            "text/plain": [
              "0.814"
            ]
          },
          "metadata": {
            "tags": []
          },
          "execution_count": 85
        }
      ]
    },
    {
      "cell_type": "code",
      "metadata": {
        "id": "QjoLrPXrrZze",
        "colab_type": "code",
        "outputId": "d01389e6-14dc-4664-8a33-594a8a45a035",
        "colab": {
          "base_uri": "https://localhost:8080/",
          "height": 34
        }
      },
      "source": [
        "intervention(SCM_model,['PRR'],[1.0],'ARDS')"
      ],
      "execution_count": 0,
      "outputs": [
        {
          "output_type": "execute_result",
          "data": {
            "text/plain": [
              "0.87"
            ]
          },
          "metadata": {
            "tags": []
          },
          "execution_count": 86
        }
      ]
    },
    {
      "cell_type": "code",
      "metadata": {
        "id": "blLFTbzPBM5O",
        "colab_type": "code",
        "outputId": "08b204a5-9253-4fd0-ff73-f84b8ce7584d",
        "colab": {
          "base_uri": "https://localhost:8080/",
          "height": 34
        }
      },
      "source": [
        "intervention(SCM_model,['ACE2'],[1.0],'ARDS')"
      ],
      "execution_count": 0,
      "outputs": [
        {
          "output_type": "execute_result",
          "data": {
            "text/plain": [
              "0.138"
            ]
          },
          "metadata": {
            "tags": []
          },
          "execution_count": 77
        }
      ]
    },
    {
      "cell_type": "code",
      "metadata": {
        "id": "STe7QSctzRPa",
        "colab_type": "code",
        "outputId": "1155504c-7bd2-4aca-9f3c-efca86c59693",
        "colab": {
          "base_uri": "https://localhost:8080/",
          "height": 34
        }
      },
      "source": [
        "## what would ARDS be if IL_6_STAT3 is set to low?\n",
        "intervention(SCM_model, ['IL6_STAT3'], [0.0], 'ARDS')"
      ],
      "execution_count": 0,
      "outputs": [
        {
          "output_type": "execute_result",
          "data": {
            "text/plain": [
              "0.0"
            ]
          },
          "metadata": {
            "tags": []
          },
          "execution_count": 22
        }
      ]
    },
    {
      "cell_type": "code",
      "metadata": {
        "id": "Ovy-EOxHf2WU",
        "colab_type": "code",
        "outputId": "7e95e36d-7195-4b55-b8e9-4beb6606398f",
        "colab": {
          "base_uri": "https://localhost:8080/",
          "height": 34
        }
      },
      "source": [
        "### what would ARDS be if PRR is set to low\n",
        "intervention(SCM_model, ['PRR'], [0.0], 'ARDS')"
      ],
      "execution_count": 0,
      "outputs": [
        {
          "output_type": "execute_result",
          "data": {
            "text/plain": [
              "0.0"
            ]
          },
          "metadata": {
            "tags": []
          },
          "execution_count": 81
        }
      ]
    },
    {
      "cell_type": "code",
      "metadata": {
        "id": "__OHY3CpmzQJ",
        "colab_type": "code",
        "colab": {}
      },
      "source": [
        "intervention(SCM_model, ['PRR'], [0.0], 'ARDS')"
      ],
      "execution_count": 0,
      "outputs": []
    },
    {
      "cell_type": "code",
      "metadata": {
        "id": "63l8ham75h5j",
        "colab_type": "code",
        "outputId": "961b791a-32a1-47f8-88a4-5a164f637b8b",
        "colab": {
          "base_uri": "https://localhost:8080/",
          "height": 72
        }
      },
      "source": [
        "# One of the major pathways for NF-κB activation after coronavirus infection\n",
        "# is the MyD88 pathway through pattern recognition receptors (PRRs), leading to the\n",
        "# induction of a variety of pro-inflammatory cytokines, including interleukin-6 (IL-6),\n",
        "# tumor necrosis factor alpha (TNFα) and chemokines\n",
        "\n",
        "target = counterfactual(SCM_model, ['PRR', 'NF_xB','ARDS'], [1.,1.,1.], ['SARS_N', 'PRR_N', 'deg_N', \n",
        "                                                     'ACE2_N', 'AngII_N', 'ATIR_N', \n",
        "                                                     'ADAM17_N', 'TNF_N', 'EGF_N', \n",
        "                                                     'EGFR_N', 'IL_6_N', 'IL6_STAT3_N', \n",
        "                                                     'NF_xB_N', 'IL_6_AMP_N','ARDS_N' ],\n",
        "                ['PRR'], [0.], 'ARDS' )\n",
        "print(np.mean(target))"
      ],
      "execution_count": 0,
      "outputs": [
        {
          "output_type": "stream",
          "text": [
            "/usr/local/lib/python3.6/dist-packages/ipykernel_launcher.py:24: UserWarning: To copy construct from a tensor, it is recommended to use sourceTensor.clone().detach() or sourceTensor.clone().detach().requires_grad_(True), rather than torch.tensor(sourceTensor).\n"
          ],
          "name": "stderr"
        },
        {
          "output_type": "stream",
          "text": [
            "0.0\n"
          ],
          "name": "stdout"
        }
      ]
    },
    {
      "cell_type": "code",
      "metadata": {
        "id": "-2NRVJI7hKH0",
        "colab_type": "code",
        "colab": {}
      },
      "source": [
        "#  But even if you just have the true DGP, you can already ask counterfactual questions. \n",
        "#  For example,set the parameters so that when when SARS-CoV-2 is high, ACE-2 is low ,\n",
        "#   and ARDS is high.  Now, ask the question, what would ARDS be if IL-6-STAT3 or \n",
        "#   sIL-6R\\alpha was set to low (perhaps by a drug)"
      ],
      "execution_count": 0,
      "outputs": []
    },
    {
      "cell_type": "markdown",
      "metadata": {
        "id": "oJVNY8Wr2nyW",
        "colab_type": "text"
      },
      "source": [
        ""
      ]
    },
    {
      "cell_type": "markdown",
      "metadata": {
        "id": "GqYiPyJ_2MA6",
        "colab_type": "text"
      },
      "source": [
        "But even if you just have the true DGP, you can already ask counterfactual questions.  For example,set the parameters so that when when SARS-CoV-2 is high, ACE-2 is low , and ARDS is high.  Now, ask the question, what would ARDS be if IL-6-STAT3 or sIL-6R\\alpha was set to low (perhaps by a drug)"
      ]
    },
    {
      "cell_type": "markdown",
      "metadata": {
        "id": "Ee1e6IKb2KFI",
        "colab_type": "text"
      },
      "source": [
        ""
      ]
    }
  ]
}