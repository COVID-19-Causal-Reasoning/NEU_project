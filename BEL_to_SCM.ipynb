{
  "nbformat": 4,
  "nbformat_minor": 0,
  "metadata": {
    "kernelspec": {
      "display_name": "Python 3",
      "language": "python",
      "name": "python3"
    },
    "language_info": {
      "codemirror_mode": {
        "name": "ipython",
        "version": 3
      },
      "file_extension": ".py",
      "mimetype": "text/x-python",
      "name": "python",
      "nbconvert_exporter": "python",
      "pygments_lexer": "ipython3",
      "version": "3.7.3"
    },
    "colab": {
      "name": "BEL to SCM.ipynb",
      "provenance": [],
      "collapsed_sections": [],
      "toc_visible": true,
      "include_colab_link": true
    }
  },
  "cells": [
    {
      "cell_type": "markdown",
      "metadata": {
        "id": "view-in-github",
        "colab_type": "text"
      },
      "source": [
        "<a href=\"https://colab.research.google.com/github/Pallavi-Kolambkar/NEU_project/blob/master/BEL_to_SCM.ipynb\" target=\"_parent\"><img src=\"https://colab.research.google.com/assets/colab-badge.svg\" alt=\"Open In Colab\"/></a>"
      ]
    },
    {
      "cell_type": "code",
      "metadata": {
        "id": "AFWF7y2sWPVv",
        "colab_type": "code",
        "outputId": "278cd6d1-2ae1-4af1-8c6f-671ec06d0669",
        "colab": {
          "base_uri": "https://localhost:8080/",
          "height": 221
        }
      },
      "source": [
        "!pip install http://download.pytorch.org/whl/cpu/torch-0.4.0-cp27-cp27mu-linux_x86_64.whl \n",
        "!pip install pyro-ppl"
      ],
      "execution_count": 0,
      "outputs": [
        {
          "output_type": "stream",
          "text": [
            "\u001b[31mERROR: torch-0.4.0-cp27-cp27mu-linux_x86_64.whl is not a supported wheel on this platform.\u001b[0m\n",
            "Collecting pyro-ppl\n",
            "\u001b[?25l  Downloading https://files.pythonhosted.org/packages/c0/77/4db4946f6b5bf0601869c7b7594def42a7197729167484e1779fff5ca0d6/pyro_ppl-1.3.1-py3-none-any.whl (520kB)\n",
            "\u001b[K     |████████████████████████████████| 522kB 2.8MB/s \n",
            "\u001b[?25hRequirement already satisfied: opt-einsum>=2.3.2 in /usr/local/lib/python3.6/dist-packages (from pyro-ppl) (3.2.1)\n",
            "Requirement already satisfied: numpy>=1.7 in /usr/local/lib/python3.6/dist-packages (from pyro-ppl) (1.18.2)\n",
            "Requirement already satisfied: tqdm>=4.36 in /usr/local/lib/python3.6/dist-packages (from pyro-ppl) (4.38.0)\n",
            "Requirement already satisfied: torch>=1.4.0 in /usr/local/lib/python3.6/dist-packages (from pyro-ppl) (1.4.0)\n",
            "Collecting pyro-api>=0.1.1\n",
            "  Downloading https://files.pythonhosted.org/packages/c2/bc/6cdbd1929e32fff62a33592633c2cc0393c7f7739131ccc9c9c4e28ac8dd/pyro_api-0.1.1-py3-none-any.whl\n",
            "Installing collected packages: pyro-api, pyro-ppl\n",
            "Successfully installed pyro-api-0.1.1 pyro-ppl-1.3.1\n"
          ],
          "name": "stdout"
        }
      ]
    },
    {
      "cell_type": "code",
      "metadata": {
        "id": "BigRs4xRWCig",
        "colab_type": "code",
        "colab": {}
      },
      "source": [
        "#checking if the comment works\n",
        "import numpy as np\n",
        "import matplotlib.pyplot as plt\n",
        "import scipy as sp\n",
        "from scipy.integrate import odeint\n",
        "import networkx as nx\n",
        "# from pybel.examples import sialic_acid_graph as sag\n",
        "# import pybel as pb\n",
        "import json\n",
        "import time\n",
        "import csv\n",
        "# from pybel.io.jupyter import to_jupyter\n",
        "import torch\n",
        "import pyro\n",
        "import pandas as pd\n",
        "import numpy as np\n",
        "pyro.set_rng_seed(101)"
      ],
      "execution_count": 0,
      "outputs": []
    },
    {
      "cell_type": "code",
      "metadata": {
        "id": "tyAPYF0WWCil",
        "colab_type": "code",
        "outputId": "7628b4c5-ad42-4bd6-b98c-c3daa2ac2a43",
        "colab": {
          "base_uri": "https://localhost:8080/",
          "height": 71
        }
      },
      "source": [
        "pd.set_option('display.max_rows', None)\n",
        "pd.set_option('display.max_columns', None)\n",
        "pd.set_option('display.width', None)\n",
        "pd.set_option('display.max_colwidth', -1)"
      ],
      "execution_count": 0,
      "outputs": [
        {
          "output_type": "stream",
          "text": [
            "/usr/local/lib/python3.6/dist-packages/ipykernel_launcher.py:4: FutureWarning: Passing a negative integer is deprecated in version 1.0 and will not be supported in future version. Instead, use None to not limit the column width.\n",
            "  after removing the cwd from sys.path.\n"
          ],
          "name": "stderr"
        }
      ]
    },
    {
      "cell_type": "code",
      "metadata": {
        "id": "auSJeziXWCi6",
        "colab_type": "code",
        "outputId": "452301b7-af49-45d8-f499-4b2b76817364",
        "colab": {
          "resources": {
            "http://localhost:8080/nbextensions/google.colab/files.js": {
              "data": "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",
              "ok": true,
              "headers": [
                [
                  "content-type",
                  "application/javascript"
                ]
              ],
              "status": 200,
              "status_text": ""
            }
          },
          "base_uri": "https://localhost:8080/",
          "height": 71
        }
      },
      "source": [
        "from google.colab import files \n",
        "uploaded = files.upload() \n",
        "f = open('COVID19.jgf')\n",
        "bel_statements = json.load(f)"
      ],
      "execution_count": 0,
      "outputs": [
        {
          "output_type": "display_data",
          "data": {
            "text/html": [
              "\n",
              "     <input type=\"file\" id=\"files-a8ce36d5-6d87-4995-b7ff-3e53c10295c2\" name=\"files[]\" multiple disabled />\n",
              "     <output id=\"result-a8ce36d5-6d87-4995-b7ff-3e53c10295c2\">\n",
              "      Upload widget is only available when the cell has been executed in the\n",
              "      current browser session. Please rerun this cell to enable.\n",
              "      </output>\n",
              "      <script src=\"/nbextensions/google.colab/files.js\"></script> "
            ],
            "text/plain": [
              "<IPython.core.display.HTML object>"
            ]
          },
          "metadata": {
            "tags": []
          }
        },
        {
          "output_type": "stream",
          "text": [
            "Saving COVID19.jgf to COVID19.jgf\n"
          ],
          "name": "stdout"
        }
      ]
    },
    {
      "cell_type": "code",
      "metadata": {
        "id": "fr6bmgl7WCi-",
        "colab_type": "code",
        "colab": {}
      },
      "source": [
        "# type has the structure of (type_parent, type_children, type_relation):[[edges]]\n",
        "label_dict = {'Abundance':['a', 'r', 'm', 'g', 'p','pop', 'composite', 'complex','frag','fus','loc','pmod','var'],\n",
        "             'Process': ['bp', 'path','act'],\n",
        "             'Transformation':['sec','surf','deg','rxn','tloc','fromLoc','products','reactants','toLoc']}\n",
        "def get_information(jgf_file):\n",
        "    # causal_relations = ['increases', 'decreases', 'directlyIncreases', 'directlyDecreases']\n",
        "    types = []\n",
        "    # nodes = set()\n",
        "    parents = []\n",
        "    parent_types = []\n",
        "    children_types = []\n",
        "    parent_labels = []\n",
        "    children_labels = []\n",
        "    children = []\n",
        "    str_list = []\n",
        "    df = pd.DataFrame()\n",
        "    \n",
        "    for edges in jgf_file['graph']['edges']:\n",
        "        parent = edges['source']\n",
        "        child = edges['target']\n",
        "        relation = edges['relation']\n",
        "        text = edges['label']\n",
        "        if relation.find('crease') > 0:\n",
        "            # nodes.add(parent)\n",
        "            # nodes.add(child)\n",
        "            parents.append(parent)\n",
        "            children.append(child)\n",
        "            str_list.append(parent + '*' + relation + '*' + child)   \n",
        "            parent_type = parent[:parent.find('(')]\n",
        "            children_type = child[:child.find('(')]\n",
        "            types.append(relation)\n",
        "            children_types.append(children_type)\n",
        "            parent_types.append(parent_type)\n",
        "            for label in label_dict:\n",
        "                if parent_type in label_dict[label]:\n",
        "                    parent_labels.append(label)\n",
        "                elif parent_type == '': \n",
        "                    parent_labels.append('Others')\n",
        "            for label in label_dict:\n",
        "                if children_type in label_dict[label]:     \n",
        "                    children_labels.append(label)\n",
        "                elif children_type == '': \n",
        "                    children_labels.append('Others')\n",
        "                    break\n",
        "            # types.setdefault((parent_type,chidren_type,relation), []).append(parent + '*' + relation + '*' + child)\n",
        "    df['parents'] = parents\n",
        "    df['children'] = children\n",
        "    df['types'] = types\n",
        "    df['statements'] = str_list\n",
        "    df['parent_types'] = parent_types\n",
        "    df['parent_labels'] = parent_labels\n",
        "    df['children_types'] = children_types\n",
        "    df['children_labels'] = children_labels\n",
        "    \n",
        "    return df"
      ],
      "execution_count": 0,
      "outputs": []
    },
    {
      "cell_type": "code",
      "metadata": {
        "id": "2XOCMcfWWCjC",
        "colab_type": "code",
        "colab": {}
      },
      "source": [
        "df = get_information(bel_statements)\n",
        "df = df[~df['children_labels'].isin(['Others'])] # filter the two with nested structures"
      ],
      "execution_count": 0,
      "outputs": []
    },
    {
      "cell_type": "code",
      "metadata": {
        "scrolled": true,
        "id": "JxH1zpwwWCjG",
        "colab_type": "code",
        "colab": {}
      },
      "source": [
        "df.head()"
      ],
      "execution_count": 0,
      "outputs": []
    },
    {
      "cell_type": "code",
      "metadata": {
        "id": "I-xDjrKo9RIb",
        "colab_type": "code",
        "colab": {}
      },
      "source": [
        "## identifying clusters\n",
        "new_df = df.groupby(['children', 'types', 'children_types','children_labels']).apply(lambda x: [list(x['parents']), list(x['parent_types']),list(x['parent_labels'])]).apply(pd.Series)"
      ],
      "execution_count": 0,
      "outputs": []
    },
    {
      "cell_type": "code",
      "metadata": {
        "id": "OaWkG_YlWCjY",
        "colab_type": "code",
        "colab": {}
      },
      "source": [
        "new_df = new_df.reset_index(drop = False)\n",
        "new_df.columns = ['children', 'types', 'children_types','children_labels', 'parents', 'parents_types','parent_labels']"
      ],
      "execution_count": 0,
      "outputs": []
    },
    {
      "cell_type": "code",
      "metadata": {
        "id": "QJnHkExhSu0r",
        "colab_type": "code",
        "colab": {}
      },
      "source": [
        "new_df"
      ],
      "execution_count": 0,
      "outputs": []
    },
    {
      "cell_type": "code",
      "metadata": {
        "id": "3g7TUFjKBaI_",
        "colab_type": "code",
        "outputId": "ccca76c5-d304-4dce-b281-59129927aad7",
        "colab": {
          "base_uri": "https://localhost:8080/",
          "height": 155
        }
      },
      "source": [
        "new_df.iloc[16]"
      ],
      "execution_count": 0,
      "outputs": [
        {
          "output_type": "execute_result",
          "data": {
            "text/plain": [
              "children           p(HGNC:ANGPT2)                                                                    \n",
              "types              decreases                                                                         \n",
              "children_types     p                                                                                 \n",
              "children_labels    Abundance                                                                         \n",
              "parents            [p(HGNC:VWF), act(complex(SCOMP:\"AMP Activated Protein Kinase Complex\"), ma(kin))]\n",
              "parents_types      [p, act]                                                                          \n",
              "parent_labels      [Abundance, Process]                                                              \n",
              "Name: 16, dtype: object"
            ]
          },
          "metadata": {
            "tags": []
          },
          "execution_count": 91
        }
      ]
    },
    {
      "cell_type": "markdown",
      "metadata": {
        "id": "rT_2_QvHXrdP",
        "colab_type": "text"
      },
      "source": [
        "# For each row we need to build a SCM "
      ]
    },
    {
      "cell_type": "markdown",
      "metadata": {
        "id": "oEXvvJInWCje",
        "colab_type": "text"
      },
      "source": [
        "## Jeremy's guide for dealing with node types\n",
        "\n",
        "Let's talk about Abundance -> Process first.   If you have multiple Abundance parents, then the function could simply be a weighted sum of abundances followed by an activation function to determine whether the process is on or off.  In the simple case where you have two abundance parents, the Parent-Child function resembles an OR gate if the weights are large, because either abundance (or both) is sufficient to activate the process.  If the weights are small, then the the Parent-Child function resembles an AND gate, because you need both parents in high abundance.\n",
        "\n",
        "\n",
        "7:20\n",
        "Let's talk about  Process -> Transformation next.    In this case, if the process is active, then the transformation is a continuous variable.  If the process in inactive, then the transformation cannot occur, so it is zero.\n",
        "\n",
        "\n",
        "7:21\n",
        "Let's talk about (Abundance*, Process) -> Transformation.  In this case, the transformation is a potentially nonlinear function of abundance if the Process is active, but zero otherwise.\n",
        "\n",
        "\n",
        "7:23\n",
        "if Transformation -> Abundance, then we have a continuous in, and continuous out, but it may be nonlinear.\n",
        "\n",
        "\n",
        "7:24\n",
        "Process -> Abundance implies  continuous if Process is active and 0 otherwise.\n",
        "\n",
        "\n",
        "7:25\n",
        "All of these rules are flipped if the causal relation is decreases instead of increases\n",
        "\n",
        "\n",
        "7:26\n",
        "If Abundance -> Transformation we also have (potentially nonlinear) continuous to continuous.\n"
      ]
    },
    {
      "cell_type": "code",
      "metadata": {
        "id": "_vU8Gfzt931u",
        "colab_type": "code",
        "colab": {}
      },
      "source": [
        "import pyro.distributions as dist\n",
        "def get_distribution(node_type):\n",
        "    if node_type == 'Abundance':\n",
        "        return dist.LogNormal(torch.tensor(0.0),torch.tensor(1.0))\n",
        "    if node_type == 'Process':\n",
        "        return dist.Categorical(torch.tensor([0.5,0.5]))\n",
        "    else:\n",
        "        return dist.LogNormal(torch.tensor(0.0),torch.tensor(1.0))"
      ],
      "execution_count": 0,
      "outputs": []
    },
    {
      "cell_type": "code",
      "metadata": {
        "id": "FI9lXbecWCjn",
        "colab_type": "code",
        "colab": {}
      },
      "source": [
        "def SCM(parent_label,child_label,relation,threshold,w):\n",
        "  parents = []\n",
        "  process = []\n",
        "  abundance = []\n",
        "  transformation = []\n",
        "  for i in range(len(parent_label)):\n",
        "    parent = pyro.sample(\"par_%s\" % i, get_distribution(parent_label[i]))\n",
        "    parents.append(parent)\n",
        "    if parent_label[i] =='Process':\n",
        "      process.append(parent)\n",
        "    if parent_label[i] == 'Abundance':\n",
        "      abundance.append(parent)\n",
        "    if parent_label[i] == 'Transformation':\n",
        "        transformation.append(parent)\n",
        "\n",
        "\n",
        "  if child_label != 'Transformation':\n",
        "    \n",
        "    if relation == 'increases':\n",
        "      ## process is more like an OR switch\n",
        "      if sum(process) > 0 :\n",
        "        child_N =  sum([x*y for x,y in zip(w ,abundance)]) + pyro.sample(\"child_n\", dist.LogNormal(torch.tensor(0.0),torch.tensor(1.0)))\n",
        "        # + sum([x*y*y for x,y in zip(w ,transformation)])\n",
        "      else: \n",
        "        child_N = pyro.sample(\"child_n\", dist.LogNormal(torch.tensor(0.0),torch.tensor(1.0))) \n",
        "      if child_label == 'Process':\n",
        "        check = lambda x : 1.0 if x > threshold else 0.0\n",
        "        child_N = torch.tensor(check(child_N))\n",
        "      child = pyro.sample('child',pyro.distributions.Delta(child_N))\n",
        "      \n",
        "    if relation == 'decreases':\n",
        "      if sum(process) > 0:\n",
        "        child_N = pyro.sample(\"child_n\", dist.LogNormal(torch.tensor(0.0),torch.tensor(1.0)))\n",
        "      else:\n",
        "        child_N =  sum([x*y for x,y in zip(w ,abundance)]) + pyro.sample(\"child_n\", dist.LogNormal(torch.tensor(0.0),torch.tensor(1.0)))\n",
        "       # + sum([x*y*y for x,y in zip(w ,transformation)])\n",
        "      if child_label == 'Process':\n",
        "        check = lambda x : 0.0 if x > threshold else 1.0\n",
        "        child_N = torch.tensor(check(child_N))\n",
        "      child = pyro.sample('child',pyro.distributions.Delta(child_N))\n",
        "    \n",
        "\n",
        "  else:\n",
        "    if relation == 'increases':\n",
        "      ## process is more like an OR switch\n",
        "      if sum(process) > 0 :\n",
        "        child_N =  sum([x*y for x,y in zip(w ,abundance)]) + pyro.sample(\"child_n\", dist.LogNormal(torch.tensor(0.0),torch.tensor(1.0))) + \\\n",
        "        sum([x*y*y for x,y in zip(w ,transformation)])\n",
        "      else: \n",
        "        child_N = pyro.sample(\"child_n\", dist.LogNormal(torch.tensor(0.0),torch.tensor(1.0))) \n",
        "      if child_label == 'Process':\n",
        "        check = lambda x : 1.0 if x > threshold else 0.0\n",
        "        child_N = torch.tensor(check(child_N))\n",
        "      child = pyro.sample('child',pyro.distributions.Delta(child_N))\n",
        "      \n",
        "    if relation == 'decreases':\n",
        "      if sum(process) > 0:\n",
        "        child_N = pyro.sample(\"child_n\", dist.LogNormal(torch.tensor(0.0),torch.tensor(1.0))) \n",
        "      else:\n",
        "        child_N =  sum([x*y for x,y in zip(w ,abundance)]) + pyro.sample(\"child_n\", dist.LogNormal(torch.tensor(0.0),torch.tensor(1.0))) + \\\n",
        "        sum([x*y*y for x,y in zip(w ,transformation)])\n",
        "      if child_label == 'Process':\n",
        "        check = lambda x : 0.0 if x > threshold else 1.0\n",
        "        child_N = torch.tensor(check(child_N))\n",
        "      child = pyro.sample('child',pyro.distributions.Delta(child_N))\n",
        "\n",
        "#     if relation == 'increases':\n",
        "#       if sum(process) > 0:\n",
        "#         child_N =  sum([x*y*y for x,y in zip(w ,parents)]) + pyro.sample(\"child_n\", pyro.distributions.Normal(0, 1)) \n",
        "#       else: \n",
        "#         child_N = pyro.sample(\"child_n\", pyro.distributions.Normal(0, 1)) \n",
        "#       child = pyro.sample('child',pyro.distributions.Delta(child_N))\n",
        "#       # return{'parents': parents,'child': child}\n",
        "\n",
        "#     if relation == 'decreases':\n",
        "#       if sum(process) > 0:\n",
        "#         child_N = pyro.sample(\"child_n\", pyro.distributions.Normal(0, 1)) \n",
        "#       else:\n",
        "#         child_N =  sum([x*y*y for x,y in zip(w ,parents)]) + pyro.sample(\"child_n\", pyro.distributions.Normal(0, 1))\n",
        "#       child = pyro.sample('child',pyro.distributions.Delta(child_N))\n",
        "  #return child.numpy()\n",
        "  return{'parents': parents,'child': child}"
      ],
      "execution_count": 0,
      "outputs": []
    },
    {
      "cell_type": "code",
      "metadata": {
        "id": "FGXbw5MrWZi-",
        "colab_type": "code",
        "outputId": "67123f2a-0f5c-4ea9-c614-3efc40ad4131",
        "colab": {
          "base_uri": "https://localhost:8080/",
          "height": 34
        }
      },
      "source": [
        "# get the model for each row\n",
        "SCM_list = []\n",
        "for i in range(new_df.shape[0]):\n",
        "    if i in [2,3,4]:\n",
        "      continue\n",
        "    test = new_df.iloc[i]\n",
        "    SCM_list.append(SCM(test['parent_labels'],test['children_labels'],test['types'],2,[3]*len(test['parent_labels'])))\n",
        "SCM_list\n",
        "len(SCM_list)"
      ],
      "execution_count": 0,
      "outputs": [
        {
          "output_type": "execute_result",
          "data": {
            "text/plain": [
              "42"
            ]
          },
          "metadata": {
            "tags": []
          },
          "execution_count": 23
        }
      ]
    },
    {
      "cell_type": "markdown",
      "metadata": {
        "id": "cWw5fl02Lye4",
        "colab_type": "text"
      },
      "source": [
        "# Adding a KL Divergence test to check the correctness of distributions we get from SCM against the true distribution of our child nodes. "
      ]
    },
    {
      "cell_type": "code",
      "metadata": {
        "id": "26RNEz-ELyGw",
        "colab_type": "code",
        "colab": {}
      },
      "source": [
        "# get the model for each row\n",
        "#SCM_list23 = []\n",
        "#SCM_list22 = []\n",
        "#SCM_list33 = []\n",
        "#true_children = []\n",
        "#for i in range(new_df.shape[0]):\n",
        "#    if i in [2,3,4]:\n",
        "#        continue\n",
        "#    test = new_df.iloc[i]\n",
        "#    SCM_list22.append(SCM(test['parent_labels'],test['children_labels'],test['types'],2,[2]*len(test['parent_labels'])))\n",
        "#    SCM_list23.append(SCM(test['parent_labels'],test['children_labels'],test['types'],2,[3]*len(test['parent_labels'])))\n",
        "#    SCM_list33.append(SCM(test['parent_labels'],test['children_labels'],test['types'],3,[3]*len(test['parent_labels'])))\n",
        "#    true_children.append(pyro.sample(\"child\", get_distribution(test['children_labels'])))"
      ],
      "execution_count": 0,
      "outputs": []
    },
    {
      "cell_type": "code",
      "metadata": {
        "id": "QO1OXyCqMYpU",
        "colab_type": "code",
        "outputId": "04f449a9-f037-4d7d-a31b-e00fc6bf3551",
        "colab": {
          "base_uri": "https://localhost:8080/",
          "height": 71
        }
      },
      "source": [
        "import numpy as np\n",
        "from scipy.stats import norm\n",
        "from matplotlib import pyplot as plt\n",
        "import seaborn as sns\n",
        "sns.set()"
      ],
      "execution_count": 0,
      "outputs": [
        {
          "output_type": "stream",
          "text": [
            "/usr/local/lib/python3.6/dist-packages/statsmodels/tools/_testing.py:19: FutureWarning: pandas.util.testing is deprecated. Use the functions in the public API at pandas.testing instead.\n",
            "  import pandas.util.testing as tm\n"
          ],
          "name": "stderr"
        }
      ]
    },
    {
      "cell_type": "code",
      "metadata": {
        "id": "7CI7YJJ0Meef",
        "colab_type": "code",
        "colab": {}
      },
      "source": [
        "def KL(P,Q):\n",
        "    \"\"\" Epsilon is used here to avoid conditional code for\n",
        "    checking that neither P nor Q is equal to 0. \"\"\"\n",
        "    epsilon = 0.00001\n",
        "\n",
        "    # You may want to instead make copies to avoid changing the np arrays.\n",
        "    P = P+epsilon\n",
        "    Q = Q+epsilon\n",
        "\n",
        "    divergence = np.sum(P*np.log(P/Q))\n",
        "    return divergence"
      ],
      "execution_count": 0,
      "outputs": []
    },
    {
      "cell_type": "code",
      "metadata": {
        "id": "lXvLHgs6Mhf1",
        "colab_type": "code",
        "outputId": "f9a01827-4d88-404b-b3fb-bf284020feb2",
        "colab": {
          "base_uri": "https://localhost:8080/",
          "height": 34
        }
      },
      "source": [
        "print(KL(np.asarray(SCM_list23[5]), np.asarray(true_children[5])))"
      ],
      "execution_count": 0,
      "outputs": [
        {
          "output_type": "stream",
          "text": [
            "-0.0001151293546492023\n"
          ],
          "name": "stdout"
        }
      ]
    },
    {
      "cell_type": "markdown",
      "metadata": {
        "id": "8Tu4CplmCEbg",
        "colab_type": "text"
      },
      "source": [
        "#### Linear regression to get weights from SCM\n"
      ]
    },
    {
      "cell_type": "code",
      "metadata": {
        "id": "BB4hYoWtCC4m",
        "colab_type": "code",
        "outputId": "64e02cfe-30e3-4c0f-a86a-267a0aad0ce9",
        "colab": {
          "base_uri": "https://localhost:8080/",
          "height": 204
        }
      },
      "source": [
        "#import pandas as pd\n",
        "#samples_df = pd.DataFrame(SCM_list22)\n",
        "#samples_df.head()\n",
        "#samples_df.tail()"
      ],
      "execution_count": 0,
      "outputs": [
        {
          "output_type": "execute_result",
          "data": {
            "text/html": [
              "<div>\n",
              "<style scoped>\n",
              "    .dataframe tbody tr th:only-of-type {\n",
              "        vertical-align: middle;\n",
              "    }\n",
              "\n",
              "    .dataframe tbody tr th {\n",
              "        vertical-align: top;\n",
              "    }\n",
              "\n",
              "    .dataframe thead th {\n",
              "        text-align: right;\n",
              "    }\n",
              "</style>\n",
              "<table border=\"1\" class=\"dataframe\">\n",
              "  <thead>\n",
              "    <tr style=\"text-align: right;\">\n",
              "      <th></th>\n",
              "      <th>parents</th>\n",
              "      <th>child</th>\n",
              "    </tr>\n",
              "  </thead>\n",
              "  <tbody>\n",
              "    <tr>\n",
              "      <th>37</th>\n",
              "      <td>[tensor(1.0003)]</td>\n",
              "      <td>tensor(3.7504)</td>\n",
              "    </tr>\n",
              "    <tr>\n",
              "      <th>38</th>\n",
              "      <td>[tensor(0.4245)]</td>\n",
              "      <td>tensor(2.8604)</td>\n",
              "    </tr>\n",
              "    <tr>\n",
              "      <th>39</th>\n",
              "      <td>[tensor(0.3862)]</td>\n",
              "      <td>tensor(1.3235)</td>\n",
              "    </tr>\n",
              "    <tr>\n",
              "      <th>40</th>\n",
              "      <td>[tensor(1.8983)]</td>\n",
              "      <td>tensor(-0.4505)</td>\n",
              "    </tr>\n",
              "    <tr>\n",
              "      <th>41</th>\n",
              "      <td>[tensor(1.8402)]</td>\n",
              "      <td>tensor(-1.0768)</td>\n",
              "    </tr>\n",
              "  </tbody>\n",
              "</table>\n",
              "</div>"
            ],
            "text/plain": [
              "             parents            child\n",
              "37  [tensor(1.0003)]  tensor(3.7504) \n",
              "38  [tensor(0.4245)]  tensor(2.8604) \n",
              "39  [tensor(0.3862)]  tensor(1.3235) \n",
              "40  [tensor(1.8983)]  tensor(-0.4505)\n",
              "41  [tensor(1.8402)]  tensor(-1.0768)"
            ]
          },
          "metadata": {
            "tags": []
          },
          "execution_count": 31
        }
      ]
    },
    {
      "cell_type": "code",
      "metadata": {
        "id": "_1eAZ3M6CC_e",
        "colab_type": "code",
        "colab": {}
      },
      "source": [
        "#parent_matrix = []\n",
        "#child_matrix = []\n",
        "#for i in range(len(samples_df)):\n",
        "#    parent_row = [0] * len((max(new_df['parent_labels'], key=len)))\n",
        "#    for j in range(len(samples_df['parents'][i])):\n",
        "#        parent_row[j] = samples_df['parents'][i][j].numpy().item()\n",
        "#    parent_matrix.append(parent_row)\n",
        "#    child_matrix.append(samples_df['child'][i].numpy().item())"
      ],
      "execution_count": 0,
      "outputs": []
    },
    {
      "cell_type": "code",
      "metadata": {
        "id": "fY4Ya0ZLCC9Z",
        "colab_type": "code",
        "outputId": "8668327b-4c1f-4be0-9269-a6714ffa7cd5",
        "colab": {
          "base_uri": "https://localhost:8080/",
          "height": 34
        }
      },
      "source": [
        "from sklearn.linear_model import LinearRegression\n",
        "from sklearn import metrics\n",
        "regressor = LinearRegression()  \n",
        "#regressor.fit(parent_matrix, child_matrix) #training the algorithm"
      ],
      "execution_count": 0,
      "outputs": [
        {
          "output_type": "execute_result",
          "data": {
            "text/plain": [
              "LinearRegression(copy_X=True, fit_intercept=True, n_jobs=None, normalize=False)"
            ]
          },
          "metadata": {
            "tags": []
          },
          "execution_count": 28
        }
      ]
    },
    {
      "cell_type": "code",
      "metadata": {
        "id": "hh7wfVdlCC7W",
        "colab_type": "code",
        "colab": {}
      },
      "source": [
        "#To retrieve the intercept:\n",
        "#print(regressor.intercept_)\n",
        "#For retrieving the slope:\n",
        "#print(regressor.coef_)"
      ],
      "execution_count": 0,
      "outputs": []
    },
    {
      "cell_type": "code",
      "metadata": {
        "id": "syztrRip-9Ij",
        "colab_type": "code",
        "colab": {}
      },
      "source": [
        "samples_2= []\n",
        "test = new_df.iloc[16]\n",
        "for i in range(100):\n",
        "  samples_2.append((SCM(test['parent_labels'],test['children_labels'],test['types'],2,[2]*len(test['parent_labels']))))"
      ],
      "execution_count": 0,
      "outputs": []
    },
    {
      "cell_type": "code",
      "metadata": {
        "id": "ZwtSq2EpIaA_",
        "colab_type": "code",
        "outputId": "249e78f3-7458-4620-c727-1ca33d5d2a9b",
        "colab": {
          "base_uri": "https://localhost:8080/",
          "height": 198
        }
      },
      "source": [
        "samples_2_df.head()"
      ],
      "execution_count": 0,
      "outputs": [
        {
          "output_type": "execute_result",
          "data": {
            "text/html": [
              "<div>\n",
              "<style scoped>\n",
              "    .dataframe tbody tr th:only-of-type {\n",
              "        vertical-align: middle;\n",
              "    }\n",
              "\n",
              "    .dataframe tbody tr th {\n",
              "        vertical-align: top;\n",
              "    }\n",
              "\n",
              "    .dataframe thead th {\n",
              "        text-align: right;\n",
              "    }\n",
              "</style>\n",
              "<table border=\"1\" class=\"dataframe\">\n",
              "  <thead>\n",
              "    <tr style=\"text-align: right;\">\n",
              "      <th></th>\n",
              "      <th>parents</th>\n",
              "      <th>child</th>\n",
              "      <th>parent1</th>\n",
              "      <th>parent2</th>\n",
              "    </tr>\n",
              "  </thead>\n",
              "  <tbody>\n",
              "    <tr>\n",
              "      <th>0</th>\n",
              "      <td>[tensor(0.3249), tensor(0)]</td>\n",
              "      <td>tensor(2.2323)</td>\n",
              "      <td>tensor(0.3249)</td>\n",
              "      <td>tensor(0)</td>\n",
              "    </tr>\n",
              "    <tr>\n",
              "      <th>1</th>\n",
              "      <td>[tensor(6.4018), tensor(1)]</td>\n",
              "      <td>tensor(0.4974)</td>\n",
              "      <td>tensor(6.4018)</td>\n",
              "      <td>tensor(1)</td>\n",
              "    </tr>\n",
              "    <tr>\n",
              "      <th>2</th>\n",
              "      <td>[tensor(2.5888), tensor(0)]</td>\n",
              "      <td>tensor(5.5890)</td>\n",
              "      <td>tensor(2.5888)</td>\n",
              "      <td>tensor(0)</td>\n",
              "    </tr>\n",
              "    <tr>\n",
              "      <th>3</th>\n",
              "      <td>[tensor(0.7808), tensor(0)]</td>\n",
              "      <td>tensor(2.8100)</td>\n",
              "      <td>tensor(0.7808)</td>\n",
              "      <td>tensor(0)</td>\n",
              "    </tr>\n",
              "    <tr>\n",
              "      <th>4</th>\n",
              "      <td>[tensor(0.8992), tensor(1)]</td>\n",
              "      <td>tensor(1.1178)</td>\n",
              "      <td>tensor(0.8992)</td>\n",
              "      <td>tensor(1)</td>\n",
              "    </tr>\n",
              "  </tbody>\n",
              "</table>\n",
              "</div>"
            ],
            "text/plain": [
              "                       parents           child         parent1    parent2\n",
              "0  [tensor(0.3249), tensor(0)]  tensor(2.2323)  tensor(0.3249)  tensor(0)\n",
              "1  [tensor(6.4018), tensor(1)]  tensor(0.4974)  tensor(6.4018)  tensor(1)\n",
              "2  [tensor(2.5888), tensor(0)]  tensor(5.5890)  tensor(2.5888)  tensor(0)\n",
              "3  [tensor(0.7808), tensor(0)]  tensor(2.8100)  tensor(0.7808)  tensor(0)\n",
              "4  [tensor(0.8992), tensor(1)]  tensor(1.1178)  tensor(0.8992)  tensor(1)"
            ]
          },
          "metadata": {
            "tags": []
          },
          "execution_count": 82
        }
      ]
    },
    {
      "cell_type": "code",
      "metadata": {
        "id": "in_bgdetAZIW",
        "colab_type": "code",
        "colab": {}
      },
      "source": [
        "samples_2_df=pd.DataFrame(samples_2)\n",
        "samples_2_df[['parent1','parent2']] = pd.DataFrame(samples_2_df['parents'].values.tolist(), index= samples_2_df.index)"
      ],
      "execution_count": 0,
      "outputs": []
    },
    {
      "cell_type": "code",
      "metadata": {
        "id": "6ZQJRfkRHNkH",
        "colab_type": "code",
        "outputId": "df84dfa1-dcc6-4ff4-d549-1e777cdd0efb",
        "colab": {
          "base_uri": "https://localhost:8080/",
          "height": 34
        }
      },
      "source": [
        "sample2_fit=regressor.fit(samples_2_df[['parent1','parent2']].values,samples_2_df['child'])\n",
        "sample2_fit"
      ],
      "execution_count": 0,
      "outputs": [
        {
          "output_type": "execute_result",
          "data": {
            "text/plain": [
              "LinearRegression(copy_X=True, fit_intercept=True, n_jobs=None, normalize=False)"
            ]
          },
          "metadata": {
            "tags": []
          },
          "execution_count": 88
        }
      ]
    },
    {
      "cell_type": "code",
      "metadata": {
        "id": "7LoT8Mn2Plmb",
        "colab_type": "code",
        "outputId": "67685b0f-61c6-4543-bfb3-82a0ffca9609",
        "colab": {
          "base_uri": "https://localhost:8080/",
          "height": 52
        }
      },
      "source": [
        "#To retrieve the intercept:\n",
        "print(sample2_fit.intercept_)\n",
        "#For retrieving the slope:\n",
        "print(sample2_fit.coef_)"
      ],
      "execution_count": 0,
      "outputs": [
        {
          "output_type": "stream",
          "text": [
            "2.754476079811798\n",
            "[ 1.56884789 -3.67540574]\n"
          ],
          "name": "stdout"
        }
      ]
    },
    {
      "cell_type": "markdown",
      "metadata": {
        "id": "NGFZWSEwZLfk",
        "colab_type": "text"
      },
      "source": [
        "#Counterfactual function"
      ]
    },
    {
      "cell_type": "code",
      "metadata": {
        "id": "NfEMC2SxMhpM",
        "colab_type": "code",
        "colab": {}
      },
      "source": [
        "# counterfactual function to get the distribution of target variable by sampling\n",
        "def counterfactual(model,observed_variable, observed_val,exogenous_variable,cf_variable,cf_val,target_variable):\n",
        "    target = []\n",
        "    # get the conditional model\n",
        "    conditions = {}\n",
        "    for i in range(len(observed_variable)):\n",
        "        conditions[observed_variable[i]] = torch.tensor(observed_val[i])\n",
        "    conditioned_model = pyro.condition(model, data=conditions)\n",
        "    # get the posterior and marginal distribution\n",
        "    posterior = pyro.infer.Importance(conditioned_model, num_samples=1000).run()\n",
        "    marginal = EmpiricalMarginal(posterior,exogenous_variable)\n",
        "    # get the do model\n",
        "    dos = {}\n",
        "    for i in range(len(cf_variable)):\n",
        "        dos[cf_variable[i]] = torch.tensor(cf_val[i])\n",
        "    do_model = pyro.do(model, data=dos)\n",
        "    # sample target variable under updated posterior and do model\n",
        "    for i in range(1000):\n",
        "        samples = marginal()\n",
        "        exog = {}\n",
        "        for i in range(len(exogenous_variable)):\n",
        "            exog[exogenous_variable[i]] = torch.tensor(samples[i])\n",
        "        cf_model = pyro.condition(do_model, data= exog)\n",
        "        trace_handler = pyro.poutine.trace(cf_model)\n",
        "        trace = trace_handler.get_trace()\n",
        "\n",
        "        target.append(trace.nodes[target_variable]['value'].numpy().item())\n",
        "\n",
        "    return target"
      ],
      "execution_count": 0,
      "outputs": []
    },
    {
      "cell_type": "markdown",
      "metadata": {
        "id": "y1-sio_oWCjv",
        "colab_type": "text"
      },
      "source": [
        "## To do:\n",
        "1. type is causal relationship\n",
        "2. we need to group parent and children type according to CBN legend\n",
        "3. Start building SCM using the prior distribution guide Jeremy gave us\n",
        "4. Train a linear model to confirm if the threshold / distribution works on the sample generated from SCM\n",
        "5. Automate this process and test it on different BEL models we have\n",
        "\n",
        "## Future scope\n",
        "1. Counterfactuals and interventions"
      ]
    },
    {
      "cell_type": "markdown",
      "metadata": {
        "id": "yzViPYhIY7zX",
        "colab_type": "text"
      },
      "source": [
        "# Looking into the new data"
      ]
    },
    {
      "cell_type": "code",
      "metadata": {
        "id": "XFWN7TPJVXOG",
        "colab_type": "code",
        "colab": {}
      },
      "source": [
        "with open('COVID-19-new.json') as f:\n",
        "    covid19kg_dict=json.load(f)"
      ],
      "execution_count": 0,
      "outputs": []
    },
    {
      "cell_type": "code",
      "metadata": {
        "id": "JVoPHJaPWCjv",
        "colab_type": "code",
        "colab": {}
      },
      "source": [
        "#adding the new file data\n",
        "\n",
        "parents=[]\n",
        "children=[]\n",
        "edgetype=[]\n",
        "parent_type=[]\n",
        "children_type=[]\n",
        "\n",
        "for eachedge in covid19kg_dict[0]['nanopub']['assertions']:\n",
        "    parents.append(eachedge['subject'])\n",
        "    children.append(eachedge['object'])\n",
        "    edgetype.append(eachedge['relation'])\n",
        "    p=eachedge['subject']\n",
        "    c=eachedge['object']\n",
        "    ptype = p[:p.find('(')]\n",
        "    ctype = c[:c.find('(')]\n",
        "    parent_type.append(ptype)\n",
        "    children_type.append(ctype)\n"
      ],
      "execution_count": 0,
      "outputs": []
    },
    {
      "cell_type": "code",
      "metadata": {
        "id": "iCXjvz9eVZbS",
        "colab_type": "code",
        "colab": {}
      },
      "source": [
        "newcovid_df=pd.DataFrame(list(zip(parents,parent_type,edgetype,children,children_type)),columns=['Parent','Parent_type','Relation','Child','Child_type'])"
      ],
      "execution_count": 0,
      "outputs": []
    },
    {
      "cell_type": "code",
      "metadata": {
        "id": "Wr-gtKYqVb2S",
        "colab_type": "code",
        "outputId": "c61729d1-813c-4b52-a47e-d511c7096e50",
        "colab": {
          "base_uri": "https://localhost:8080/",
          "height": 705
        }
      },
      "source": [
        "newcovid_df"
      ],
      "execution_count": 0,
      "outputs": [
        {
          "output_type": "execute_result",
          "data": {
            "text/html": [
              "<div>\n",
              "<style scoped>\n",
              "    .dataframe tbody tr th:only-of-type {\n",
              "        vertical-align: middle;\n",
              "    }\n",
              "\n",
              "    .dataframe tbody tr th {\n",
              "        vertical-align: top;\n",
              "    }\n",
              "\n",
              "    .dataframe thead th {\n",
              "        text-align: right;\n",
              "    }\n",
              "</style>\n",
              "<table border=\"1\" class=\"dataframe\">\n",
              "  <thead>\n",
              "    <tr style=\"text-align: right;\">\n",
              "      <th></th>\n",
              "      <th>Parent</th>\n",
              "      <th>Parent_type</th>\n",
              "      <th>Relation</th>\n",
              "      <th>Child</th>\n",
              "      <th>Child_type</th>\n",
              "    </tr>\n",
              "  </thead>\n",
              "  <tbody>\n",
              "    <tr>\n",
              "      <th>0</th>\n",
              "      <td>bp(GO:\"epidermal growth factor receptor signaling pathway\")</td>\n",
              "      <td>bp</td>\n",
              "      <td>increases</td>\n",
              "      <td>act(complex(GO:\"NF-kappaB complex\"))</td>\n",
              "      <td>act</td>\n",
              "    </tr>\n",
              "    <tr>\n",
              "      <th>1</th>\n",
              "      <td>act(p(HGNC:EGF))</td>\n",
              "      <td>act</td>\n",
              "      <td>increases</td>\n",
              "      <td>bp(GO:\"epidermal growth factor receptor signaling pathway\")</td>\n",
              "      <td>bp</td>\n",
              "    </tr>\n",
              "    <tr>\n",
              "      <th>2</th>\n",
              "      <td>act(p(HGNC:ADAM17))</td>\n",
              "      <td>act</td>\n",
              "      <td>increases</td>\n",
              "      <td>bp(GO:\"tumor necrosis factor-mediated signaling pathway\")</td>\n",
              "      <td>bp</td>\n",
              "    </tr>\n",
              "    <tr>\n",
              "      <th>3</th>\n",
              "      <td>act(p(HGNC:ADAM17))</td>\n",
              "      <td>act</td>\n",
              "      <td>increases</td>\n",
              "      <td>act(p(HGNC:EGF))</td>\n",
              "      <td>act</td>\n",
              "    </tr>\n",
              "    <tr>\n",
              "      <th>4</th>\n",
              "      <td>bp(GO:\"positive regulation of interleukin-6 production\")</td>\n",
              "      <td>bp</td>\n",
              "      <td>increases</td>\n",
              "      <td>path(MESH:\"Severe Acute Respiratory Syndrome\")</td>\n",
              "      <td>path</td>\n",
              "    </tr>\n",
              "    <tr>\n",
              "      <th>5</th>\n",
              "      <td>act(complex(GO:\"NF-kappaB complex\"))</td>\n",
              "      <td>act</td>\n",
              "      <td>increases</td>\n",
              "      <td>bp(GO:\"positive regulation of interleukin-6 production\")</td>\n",
              "      <td>bp</td>\n",
              "    </tr>\n",
              "    <tr>\n",
              "      <th>6</th>\n",
              "      <td>bp(GO:\"pattern recognition receptor signaling pathway\")</td>\n",
              "      <td>bp</td>\n",
              "      <td>increases</td>\n",
              "      <td>act(complex(GO:\"NF-kappaB complex\"))</td>\n",
              "      <td>act</td>\n",
              "    </tr>\n",
              "    <tr>\n",
              "      <th>7</th>\n",
              "      <td>a(TAX:\"Severe acute respiratory syndrome coronavirus 2\")</td>\n",
              "      <td>a</td>\n",
              "      <td>increases</td>\n",
              "      <td>bp(GO:\"pattern recognition receptor signaling pathway\")</td>\n",
              "      <td>bp</td>\n",
              "    </tr>\n",
              "    <tr>\n",
              "      <th>8</th>\n",
              "      <td>act(complex(p(HGNC:IL6),p(HGNC:STAT3)))</td>\n",
              "      <td>act</td>\n",
              "      <td>increases</td>\n",
              "      <td>bp(GO:\"positive regulation of interleukin-6 production\")</td>\n",
              "      <td>bp</td>\n",
              "    </tr>\n",
              "    <tr>\n",
              "      <th>9</th>\n",
              "      <td>act(p(HGNC:IL6R))</td>\n",
              "      <td>act</td>\n",
              "      <td>increases</td>\n",
              "      <td>act(complex(p(HGNC:IL6),p(HGNC:STAT3)))</td>\n",
              "      <td>act</td>\n",
              "    </tr>\n",
              "    <tr>\n",
              "      <th>10</th>\n",
              "      <td>act(p(HGNC:ADAM17))</td>\n",
              "      <td>act</td>\n",
              "      <td>increases</td>\n",
              "      <td>act(p(HGNC:IL6R))</td>\n",
              "      <td>act</td>\n",
              "    </tr>\n",
              "    <tr>\n",
              "      <th>11</th>\n",
              "      <td>act(p(HGNC:AGTR1))</td>\n",
              "      <td>act</td>\n",
              "      <td>directlyIncreases</td>\n",
              "      <td>act(p(HGNC:ADAM17))</td>\n",
              "      <td>act</td>\n",
              "    </tr>\n",
              "    <tr>\n",
              "      <th>12</th>\n",
              "      <td>a(CHEBI:\"angiotensin II\")</td>\n",
              "      <td>a</td>\n",
              "      <td>increases</td>\n",
              "      <td>act(p(HGNC:AGTR1))</td>\n",
              "      <td>act</td>\n",
              "    </tr>\n",
              "    <tr>\n",
              "      <th>13</th>\n",
              "      <td>act(p(HGNC:ACE2))</td>\n",
              "      <td>act</td>\n",
              "      <td>directlyDecreases</td>\n",
              "      <td>a(CHEBI:\"angiotensin II\")</td>\n",
              "      <td>a</td>\n",
              "    </tr>\n",
              "    <tr>\n",
              "      <th>14</th>\n",
              "      <td>deg(p(HGNC:ACE2))</td>\n",
              "      <td>deg</td>\n",
              "      <td>directlyDecreases</td>\n",
              "      <td>act(p(HGNC:ACE2))</td>\n",
              "      <td>act</td>\n",
              "    </tr>\n",
              "    <tr>\n",
              "      <th>15</th>\n",
              "      <td>a(TAX:\"Severe acute respiratory syndrome coronavirus 2\")</td>\n",
              "      <td>a</td>\n",
              "      <td>increases</td>\n",
              "      <td>deg(p(HGNC:ACE2))</td>\n",
              "      <td>deg</td>\n",
              "    </tr>\n",
              "  </tbody>\n",
              "</table>\n",
              "</div>"
            ],
            "text/plain": [
              "                                                         Parent Parent_type  \\\n",
              "0   bp(GO:\"epidermal growth factor receptor signaling pathway\")  bp           \n",
              "1   act(p(HGNC:EGF))                                             act          \n",
              "2   act(p(HGNC:ADAM17))                                          act          \n",
              "3   act(p(HGNC:ADAM17))                                          act          \n",
              "4   bp(GO:\"positive regulation of interleukin-6 production\")     bp           \n",
              "5   act(complex(GO:\"NF-kappaB complex\"))                         act          \n",
              "6   bp(GO:\"pattern recognition receptor signaling pathway\")      bp           \n",
              "7   a(TAX:\"Severe acute respiratory syndrome coronavirus 2\")     a            \n",
              "8   act(complex(p(HGNC:IL6),p(HGNC:STAT3)))                      act          \n",
              "9   act(p(HGNC:IL6R))                                            act          \n",
              "10  act(p(HGNC:ADAM17))                                          act          \n",
              "11  act(p(HGNC:AGTR1))                                           act          \n",
              "12  a(CHEBI:\"angiotensin II\")                                    a            \n",
              "13  act(p(HGNC:ACE2))                                            act          \n",
              "14  deg(p(HGNC:ACE2))                                            deg          \n",
              "15  a(TAX:\"Severe acute respiratory syndrome coronavirus 2\")     a            \n",
              "\n",
              "             Relation  \\\n",
              "0   increases           \n",
              "1   increases           \n",
              "2   increases           \n",
              "3   increases           \n",
              "4   increases           \n",
              "5   increases           \n",
              "6   increases           \n",
              "7   increases           \n",
              "8   increases           \n",
              "9   increases           \n",
              "10  increases           \n",
              "11  directlyIncreases   \n",
              "12  increases           \n",
              "13  directlyDecreases   \n",
              "14  directlyDecreases   \n",
              "15  increases           \n",
              "\n",
              "                                                          Child Child_type  \n",
              "0   act(complex(GO:\"NF-kappaB complex\"))                         act        \n",
              "1   bp(GO:\"epidermal growth factor receptor signaling pathway\")  bp         \n",
              "2   bp(GO:\"tumor necrosis factor-mediated signaling pathway\")    bp         \n",
              "3   act(p(HGNC:EGF))                                             act        \n",
              "4   path(MESH:\"Severe Acute Respiratory Syndrome\")               path       \n",
              "5   bp(GO:\"positive regulation of interleukin-6 production\")     bp         \n",
              "6   act(complex(GO:\"NF-kappaB complex\"))                         act        \n",
              "7   bp(GO:\"pattern recognition receptor signaling pathway\")      bp         \n",
              "8   bp(GO:\"positive regulation of interleukin-6 production\")     bp         \n",
              "9   act(complex(p(HGNC:IL6),p(HGNC:STAT3)))                      act        \n",
              "10  act(p(HGNC:IL6R))                                            act        \n",
              "11  act(p(HGNC:ADAM17))                                          act        \n",
              "12  act(p(HGNC:AGTR1))                                           act        \n",
              "13  a(CHEBI:\"angiotensin II\")                                    a          \n",
              "14  act(p(HGNC:ACE2))                                            act        \n",
              "15  deg(p(HGNC:ACE2))                                            deg        "
            ]
          },
          "metadata": {
            "tags": []
          },
          "execution_count": 46
        }
      ]
    },
    {
      "cell_type": "code",
      "metadata": {
        "id": "wlP7UuesYE4G",
        "colab_type": "code",
        "outputId": "f7b70878-6088-4d9e-9427-28a758460d17",
        "colab": {
          "base_uri": "https://localhost:8080/",
          "height": 50
        }
      },
      "source": [
        "newcovid_df['Relation'].unique()"
      ],
      "execution_count": 0,
      "outputs": [
        {
          "output_type": "execute_result",
          "data": {
            "text/plain": [
              "array(['increases', 'directlyIncreases', 'directlyDecreases'],\n",
              "      dtype=object)"
            ]
          },
          "metadata": {
            "tags": []
          },
          "execution_count": 45
        }
      ]
    },
    {
      "cell_type": "code",
      "metadata": {
        "id": "31knXsSZj3eV",
        "colab_type": "code",
        "colab": {}
      },
      "source": [
        ""
      ],
      "execution_count": 0,
      "outputs": []
    }
  ]
}