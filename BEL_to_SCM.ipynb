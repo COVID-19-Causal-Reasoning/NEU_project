{
  "nbformat": 4,
  "nbformat_minor": 0,
  "metadata": {
    "kernelspec": {
      "display_name": "Python 3",
      "language": "python",
      "name": "python3"
    },
    "language_info": {
      "codemirror_mode": {
        "name": "ipython",
        "version": 3
      },
      "file_extension": ".py",
      "mimetype": "text/x-python",
      "name": "python",
      "nbconvert_exporter": "python",
      "pygments_lexer": "ipython3",
      "version": "3.7.3"
    },
    "colab": {
      "name": "BEL to SCM.ipynb",
      "provenance": [],
      "collapsed_sections": [],
      "toc_visible": true,
      "include_colab_link": true
    }
  },
  "cells": [
    {
      "cell_type": "markdown",
      "metadata": {
        "id": "view-in-github",
        "colab_type": "text"
      },
      "source": [
        "<a href=\"https://colab.research.google.com/github/Pallavi-Kolambkar/NEU_project/blob/master/BEL_to_SCM.ipynb\" target=\"_parent\"><img src=\"https://colab.research.google.com/assets/colab-badge.svg\" alt=\"Open In Colab\"/></a>"
      ]
    },
    {
      "cell_type": "markdown",
      "metadata": {
        "id": "CfG7YE5S2VlI",
        "colab_type": "text"
      },
      "source": [
        "# Package installation\n",
        "\n",
        "To successfully run the notebook, we need to install packages listed below:\n",
        "* pyro http://download.pytorch.org/whl/cpu/torch-0.4.0-cp27-cp27mu-linux_x86_64.whl \n",
        "* covid19kg https://github.com/COVID-19-Causal-Reasoning/covid19kg"
      ]
    },
    {
      "cell_type": "markdown",
      "metadata": {
        "id": "Nw8q7j5I3rU9",
        "colab_type": "text"
      },
      "source": [
        "# Background of the Project"
      ]
    },
    {
      "cell_type": "markdown",
      "metadata": {
        "id": "moNyLznMM36N",
        "colab_type": "text"
      },
      "source": [
        "The project aims to create a causal model to study the host response to the SARS-CoV2 infection. The unique trait about the virus is the growing abundance of a particular Interleukin protein namely the Interleukin-6 protein(IL-6). Refering to the paper \"COVID-19: a new virus, but an old cytokine release syndrome\" by Toshio Hirano and Masaaki Murakami, one possible machanism to explain the inclination of IL-6 can be the creation of a IL-6 amplification cytokine storm. This project looks into the two possible targets leading to the creation of the IL-6 amplification cycle and uses intervention and counterfactual queries to support the observations seen in the paper.\n",
        "\n",
        " \n",
        "\n",
        "\n",
        "\n",
        "\n"
      ]
    },
    {
      "cell_type": "code",
      "metadata": {
        "id": "BigRs4xRWCig",
        "colab_type": "code",
        "colab": {}
      },
      "source": [
        "#import all packages\n",
        "\n",
        "import numpy as np\n",
        "import matplotlib.pyplot as plt\n",
        "import scipy as sp\n",
        "import json\n",
        "import time\n",
        "import csv\n",
        "import torch\n",
        "import pyro\n",
        "import pandas as pd\n",
        "import covid19kg\n",
        "from scipy.stats import norm\n",
        "from sklearn.linear_model import LinearRegression\n",
        "from sklearn import metrics\n",
        "from pyro.infer import Importance, EmpiricalMarginal\n",
        "from torch.distributions.transforms import AffineTransform\n",
        "pyro.set_rng_seed(101)"
      ],
      "execution_count": 0,
      "outputs": []
    },
    {
      "cell_type": "code",
      "metadata": {
        "id": "tyAPYF0WWCil",
        "colab_type": "code",
        "outputId": "a0956277-cd8b-4fcd-b7a6-fe6c73d651e4",
        "colab": {
          "base_uri": "https://localhost:8080/",
          "height": 71
        }
      },
      "source": [
        "pd.set_option('display.max_rows', None)\n",
        "pd.set_option('display.max_columns', None)\n",
        "pd.set_option('display.width', None)\n",
        "pd.set_option('display.max_colwidth', -1)"
      ],
      "execution_count": 0,
      "outputs": [
        {
          "output_type": "stream",
          "text": [
            "/usr/local/lib/python3.6/dist-packages/ipykernel_launcher.py:4: FutureWarning: Passing a negative integer is deprecated in version 1.0 and will not be supported in future version. Instead, use None to not limit the column width.\n",
            "  after removing the cwd from sys.path.\n"
          ],
          "name": "stderr"
        }
      ]
    },
    {
      "cell_type": "markdown",
      "metadata": {
        "id": "LpLoyS9G4Anl",
        "colab_type": "text"
      },
      "source": [
        "# Data Clean"
      ]
    },
    {
      "cell_type": "code",
      "metadata": {
        "id": "XFWN7TPJVXOG",
        "colab_type": "code",
        "outputId": "b127c7fd-dc95-400b-8bcb-64d0d6dba82c",
        "colab": {
          "resources": {
            "http://localhost:8080/nbextensions/google.colab/files.js": {
              "data": "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",
              "ok": true,
              "headers": [
                [
                  "content-type",
                  "application/javascript"
                ]
              ],
              "status": 200,
              "status_text": ""
            }
          },
          "base_uri": "https://localhost:8080/",
          "height": 74
        }
      },
      "source": [
        "# load the data from covid19kg in JSON format\n",
        "# graph = covid19kg.get_graph()\n",
        "# pb.to_jgif_file(graph, 'covid19kg.jgf')\n",
        "# f = open('COVID19.jgf')\n",
        "# covid19kg_dict = json.load(f)\n",
        "\n",
        "# load the data if using google colab\n",
        "from google.colab import files \n",
        "uploaded = files.upload()\n",
        "with open('COVID-19-new.json') as f:\n",
        "    covid19kg_dict=json.load(f)"
      ],
      "execution_count": 0,
      "outputs": [
        {
          "output_type": "display_data",
          "data": {
            "text/html": [
              "\n",
              "     <input type=\"file\" id=\"files-d48e7bbf-5c39-4392-9cd5-919b6218ce3b\" name=\"files[]\" multiple disabled />\n",
              "     <output id=\"result-d48e7bbf-5c39-4392-9cd5-919b6218ce3b\">\n",
              "      Upload widget is only available when the cell has been executed in the\n",
              "      current browser session. Please rerun this cell to enable.\n",
              "      </output>\n",
              "      <script src=\"/nbextensions/google.colab/files.js\"></script> "
            ],
            "text/plain": [
              "<IPython.core.display.HTML object>"
            ]
          },
          "metadata": {
            "tags": []
          }
        },
        {
          "output_type": "stream",
          "text": [
            "Saving COVID-19-new.json to COVID-19-new.json\n"
          ],
          "name": "stdout"
        }
      ]
    },
    {
      "cell_type": "code",
      "metadata": {
        "id": "GBpBGPEu5lPI",
        "colab_type": "code",
        "colab": {}
      },
      "source": [
        "#convert the json data into dataframe\n",
        "\n",
        "parents=[]\n",
        "children=[]\n",
        "edgetype=[]\n",
        "parent_type=[]\n",
        "children_type=[]\n",
        "parent_labels = []\n",
        "children_labels = []\n",
        "nodes = set()\n",
        "\n",
        "label_dict = {'Abundance':['a', 'r', 'm', 'g', 'p','pop', 'composite',\n",
        "                           'complex','frag','fus','loc','pmod','var'],\n",
        "             'Process': ['bp', 'path','act'],\n",
        "             'Transformation':['sec','surf','deg','rxn','tloc','fromLoc',\n",
        "                               'products','reactants','toLoc']}\n",
        "             \n",
        "for eachedge in covid19kg_dict[0]['nanopub']['assertions']:\n",
        "    parents.append(eachedge['subject'])\n",
        "    children.append(eachedge['object'])\n",
        "    edgetype.append(eachedge['relation'])\n",
        "    nodes.add(eachedge['subject'])\n",
        "    nodes.add(eachedge['object'])\n",
        "    p=eachedge['subject']\n",
        "    c=eachedge['object']\n",
        "    ptype = p[:p.find('(')]\n",
        "    ctype = c[:c.find('(')]\n",
        "    parent_type.append(ptype)\n",
        "    children_type.append(ctype)\n",
        "    for label in label_dict:\n",
        "      if ptype in label_dict[label]:\n",
        "        parent_labels.append(label)\n",
        "      elif ptype == '': \n",
        "        parent_labels.append('Others')\n",
        "    for label in label_dict:\n",
        "      if ctype in label_dict[label]:     \n",
        "        children_labels.append(label)\n",
        "      elif ctype == '': \n",
        "        children_labels.append('Others')\n",
        "        breal\n"
      ],
      "execution_count": 0,
      "outputs": []
    },
    {
      "cell_type": "code",
      "metadata": {
        "id": "ukXKhdJr74Po",
        "colab_type": "code",
        "colab": {}
      },
      "source": [
        "newcovid_df = pd.DataFrame(list(zip(parents, parent_type, edgetype, children,\n",
        "                                    children_type, parent_labels, \n",
        "                                    children_labels)), columns = ['Parent',\n",
        "                                                                  'Parent_type',\n",
        "                                                                  'Relation',\n",
        "                                                                  'Child',\n",
        "                                                                  'Child_type',\n",
        "                                                                  'Parent_label',\n",
        "                                                                  'Child_label'\n",
        "                                                                  ])"
      ],
      "execution_count": 0,
      "outputs": []
    },
    {
      "cell_type": "code",
      "metadata": {
        "id": "xAKHohev77I6",
        "colab_type": "code",
        "colab": {}
      },
      "source": [
        "ailias_dict = {'bp(GO:\"tumor necrosis factor-mediated signaling pathway\")':\n",
        "               'TNF',\n",
        "               'bp(GO:\"epidermal growth factor receptor signaling pathway\")':\n",
        "               'EGFR',\n",
        "               'act(p(HGNC:EGF))':'EGF',\n",
        "               'act(p(HGNC:ADAM17))': 'ADAM17',\n",
        "               'bp(GO:\"positive regulation of interleukin-6 production\")':\n",
        "               'IL_6_AMP',\n",
        "               'act(complex(GO:\"NF-kappaB complex\"))': 'NF_xB',\n",
        "               'bp(GO:\"pattern recognition receptor signaling pathway\")': 'PRR',\n",
        "               'a(TAX:\"Severe acute respiratory syndrome coronavirus 2\")':\n",
        "               'SARS_2',\n",
        "               'act(complex(p(HGNC:IL6),p(HGNC:STAT3)))': 'IL6_STAT3',\n",
        "               'act(p(HGNC:IL6R))': 'IL_6',\n",
        "               'act(p(HGNC:AGTR1))': 'ATIR',\n",
        "               'a(CHEBI:\"angiotensin II\")': 'AngII',\n",
        "               'act(p(HGNC:ACE2))': 'ACE2',\n",
        "               'deg(p(HGNC:ACE2))': 'deg',\n",
        "               'path(MESH:\"Severe Acute Respiratory Syndrome\")': 'ARDS',\n",
        "               'act(complex(GO:\"NF-kappaB p50/p65 complex\"))': 'NF_xB' }\n",
        "newcovid_df['Parent_alias'] = newcovid_df['Parent'].apply(\n",
        "    lambda x : ailias_dict[x])\n",
        "newcovid_df['Child_alias'] = newcovid_df['Child'].apply(\n",
        "    lambda x : ailias_dict[x])\n",
        "nodes = [ailias_dict[i] for i in nodes]"
      ],
      "execution_count": 0,
      "outputs": []
    },
    {
      "cell_type": "code",
      "metadata": {
        "id": "AGkjMFLz7_FG",
        "colab_type": "code",
        "outputId": "705c2e6e-7ea0-4916-96ed-de492faedf13",
        "colab": {
          "base_uri": "https://localhost:8080/",
          "height": 272
        }
      },
      "source": [
        "newcovid_df.sort_values('Parent').head()"
      ],
      "execution_count": 0,
      "outputs": [
        {
          "output_type": "execute_result",
          "data": {
            "text/html": [
              "<div>\n",
              "<style scoped>\n",
              "    .dataframe tbody tr th:only-of-type {\n",
              "        vertical-align: middle;\n",
              "    }\n",
              "\n",
              "    .dataframe tbody tr th {\n",
              "        vertical-align: top;\n",
              "    }\n",
              "\n",
              "    .dataframe thead th {\n",
              "        text-align: right;\n",
              "    }\n",
              "</style>\n",
              "<table border=\"1\" class=\"dataframe\">\n",
              "  <thead>\n",
              "    <tr style=\"text-align: right;\">\n",
              "      <th></th>\n",
              "      <th>Parent</th>\n",
              "      <th>Parent_type</th>\n",
              "      <th>Relation</th>\n",
              "      <th>Child</th>\n",
              "      <th>Child_type</th>\n",
              "      <th>Parent_label</th>\n",
              "      <th>Child_label</th>\n",
              "      <th>Parent_alias</th>\n",
              "      <th>Child_alias</th>\n",
              "    </tr>\n",
              "  </thead>\n",
              "  <tbody>\n",
              "    <tr>\n",
              "      <th>13</th>\n",
              "      <td>a(CHEBI:\"angiotensin II\")</td>\n",
              "      <td>a</td>\n",
              "      <td>increases</td>\n",
              "      <td>act(p(HGNC:AGTR1))</td>\n",
              "      <td>act</td>\n",
              "      <td>Abundance</td>\n",
              "      <td>Process</td>\n",
              "      <td>AngII</td>\n",
              "      <td>ATIR</td>\n",
              "    </tr>\n",
              "    <tr>\n",
              "      <th>8</th>\n",
              "      <td>a(TAX:\"Severe acute respiratory syndrome coronavirus 2\")</td>\n",
              "      <td>a</td>\n",
              "      <td>increases</td>\n",
              "      <td>bp(GO:\"pattern recognition receptor signaling pathway\")</td>\n",
              "      <td>bp</td>\n",
              "      <td>Abundance</td>\n",
              "      <td>Process</td>\n",
              "      <td>SARS_2</td>\n",
              "      <td>PRR</td>\n",
              "    </tr>\n",
              "    <tr>\n",
              "      <th>16</th>\n",
              "      <td>a(TAX:\"Severe acute respiratory syndrome coronavirus 2\")</td>\n",
              "      <td>a</td>\n",
              "      <td>increases</td>\n",
              "      <td>deg(p(HGNC:ACE2))</td>\n",
              "      <td>deg</td>\n",
              "      <td>Abundance</td>\n",
              "      <td>Transformation</td>\n",
              "      <td>SARS_2</td>\n",
              "      <td>deg</td>\n",
              "    </tr>\n",
              "    <tr>\n",
              "      <th>6</th>\n",
              "      <td>act(complex(GO:\"NF-kappaB complex\"))</td>\n",
              "      <td>act</td>\n",
              "      <td>increases</td>\n",
              "      <td>bp(GO:\"positive regulation of interleukin-6 production\")</td>\n",
              "      <td>bp</td>\n",
              "      <td>Process</td>\n",
              "      <td>Process</td>\n",
              "      <td>NF_xB</td>\n",
              "      <td>IL_6_AMP</td>\n",
              "    </tr>\n",
              "    <tr>\n",
              "      <th>9</th>\n",
              "      <td>act(complex(p(HGNC:IL6),p(HGNC:STAT3)))</td>\n",
              "      <td>act</td>\n",
              "      <td>increases</td>\n",
              "      <td>bp(GO:\"positive regulation of interleukin-6 production\")</td>\n",
              "      <td>bp</td>\n",
              "      <td>Process</td>\n",
              "      <td>Process</td>\n",
              "      <td>IL6_STAT3</td>\n",
              "      <td>IL_6_AMP</td>\n",
              "    </tr>\n",
              "  </tbody>\n",
              "</table>\n",
              "</div>"
            ],
            "text/plain": [
              "                                                      Parent Parent_type  \\\n",
              "13  a(CHEBI:\"angiotensin II\")                                 a            \n",
              "8   a(TAX:\"Severe acute respiratory syndrome coronavirus 2\")  a            \n",
              "16  a(TAX:\"Severe acute respiratory syndrome coronavirus 2\")  a            \n",
              "6   act(complex(GO:\"NF-kappaB complex\"))                      act          \n",
              "9   act(complex(p(HGNC:IL6),p(HGNC:STAT3)))                   act          \n",
              "\n",
              "     Relation                                                     Child  \\\n",
              "13  increases  act(p(HGNC:AGTR1))                                         \n",
              "8   increases  bp(GO:\"pattern recognition receptor signaling pathway\")    \n",
              "16  increases  deg(p(HGNC:ACE2))                                          \n",
              "6   increases  bp(GO:\"positive regulation of interleukin-6 production\")   \n",
              "9   increases  bp(GO:\"positive regulation of interleukin-6 production\")   \n",
              "\n",
              "   Child_type Parent_label     Child_label Parent_alias Child_alias  \n",
              "13  act        Abundance    Process         AngII        ATIR        \n",
              "8   bp         Abundance    Process         SARS_2       PRR         \n",
              "16  deg        Abundance    Transformation  SARS_2       deg         \n",
              "6   bp         Process      Process         NF_xB        IL_6_AMP    \n",
              "9   bp         Process      Process         IL6_STAT3    IL_6_AMP    "
            ]
          },
          "metadata": {
            "tags": []
          },
          "execution_count": 41
        }
      ]
    },
    {
      "cell_type": "markdown",
      "metadata": {
        "id": "n6pYy5J48D1C",
        "colab_type": "text"
      },
      "source": [
        "# The SCM"
      ]
    },
    {
      "cell_type": "markdown",
      "metadata": {
        "id": "5vaAAgSDPbcW",
        "colab_type": "text"
      },
      "source": [
        "We classified all nodes into three types: Abundance, Process and Transformation. Abundance and Transformation are sampled from log normal distribution and Process should be sampled from Bernoulli distribution. (The details of classification could be found https://github.com/belbio/bel_specifications/blob/master/specifications/bel_v2_1_0.yaml)\n",
        "\n",
        "Based on the nodes types, we have three basic types of parent-child pairs. For Abundance to Process, we used a logic gate corresponding to the relation type 'increase' or 'decrease'. For Process to Abundance, we first check if Process is active, than sampled the value based on child's distribution. For Abundance to Transformation, we used quadratic function to get the node's value. For more complex situation, we combined these three basic cases together. (We used AND gate for multiple Process parents here which should be further validated when applied to other graph)"
      ]
    },
    {
      "cell_type": "code",
      "metadata": {
        "id": "bOP2t7RJL2y4",
        "colab_type": "code",
        "colab": {}
      },
      "source": [
        "\n",
        "\n",
        "def check_increase(x):\n",
        "    \"\"\"\n",
        "    Description: Helper function for SCM_model(), \n",
        "                 to be used with increasing type edges\n",
        "    Parameters:  Result of parents' equation (x)\n",
        "    Returns:     1.0 if value is greater than set threshold\n",
        "                 else 0.0\n",
        "    \"\"\"\n",
        "    threshold = 0.5\n",
        "    if x > threshold:\n",
        "        return 1.0\n",
        "    else:\n",
        "        return 0.0\n",
        "\n",
        "def check_decrease(x):\n",
        "    \"\"\"\n",
        "    Description: Helper function for SCM_model(), \n",
        "                 to be used with decreasing type edges\n",
        "    Parameters:  Result of parents' equation (x)\n",
        "    Returns:     0.0 if value is greater than set threshold\n",
        "                 else 1.0\n",
        "    \"\"\"\n",
        "    threshold = 0.5\n",
        "    if x > threshold:\n",
        "        return 0.0\n",
        "    else:\n",
        "        return 1.0\n"
      ],
      "execution_count": 0,
      "outputs": []
    },
    {
      "cell_type": "code",
      "metadata": {
        "id": "wlP7UuesYE4G",
        "colab_type": "code",
        "colab": {}
      },
      "source": [
        "def SCM_model():\n",
        "    \"\"\"\n",
        "    Description: This function is to be build a Structural Causal Model for\n",
        "                 Covid-19-new knowledge graph\n",
        "    Parameters: None\n",
        "    Returns: sampled values for all nodes of the graph in tensor format\n",
        "    \"\"\"\n",
        "\n",
        "    threshold = 0.5\n",
        "    # the threshold should be determined carefully (e.g. 0.5)\n",
        "    lognormal_dist = dist.LogNormal(torch.tensor(0.0), torch.tensor(0.5))\n",
        "    lognormal_dist_noise = dist.Gamma(torch.tensor(0.5),torch.tensor(2.))\n",
        "    normal_dist = dist.Normal(torch.tensor(0.0),torch.tensor(0.1))\n",
        "    samples = {}\n",
        "\n",
        "    SARS_N = pyro.sample('SARS_N',lognormal_dist) \n",
        "    # SARS_2 = pyro.sample('SARS_2',pyro.distributions.Delta(SARS_N))\n",
        "    SARS_2 = pyro.sample('SARS_2',dist.Normal(SARS_N, 0.01))\n",
        "    samples['SARS_2'] = SARS_2\n",
        "\n",
        "    PRR_N = pyro.sample(\"PRR_N\", normal_dist)\n",
        "    PRR = torch.tensor(check_increase(PRR_N + SARS_2))\n",
        "    PRR = pyro.sample('PRR',pyro.distributions.Delta(PRR))\n",
        "    samples['PRR'] = PRR\n",
        "\n",
        "    deg_N = pyro.sample(\"deg_N\", normal_dist)\n",
        "    deg = SARS_2 + SARS_2*SARS_2 + deg_N\n",
        "    # deg = pyro.sample('deg',pyro.distributions.Delta(deg))\n",
        "    deg = pyro.sample('deg',pyro.distributions.Normal(deg, 0.01))\n",
        "    samples['deg'] = deg\n",
        "\n",
        "    ACE2_N = pyro.sample(\"ACE2_N\", normal_dist)\n",
        "    ACE2 = torch.tensor(check_decrease(deg + ACE2_N))\n",
        "    ACE2 = pyro.sample('ACE2',pyro.distributions.Delta(ACE2)) \n",
        "    samples['ACE2'] = ACE2 \n",
        "\n",
        "    AngII_N = pyro.sample('AngII_N',lognormal_dist_noise)\n",
        "    if ACE2 == 0:\n",
        "        AngII = pyro.sample('AngII',lognormal_dist)\n",
        "    else:\n",
        "        AngII = pyro.sample('AngII',pyro.distributions.Normal(AngII_N, 0.01))\n",
        "    samples['AngII'] = AngII\n",
        "\n",
        "    ATIR_N = pyro.sample(\"ATIR_N\", normal_dist)\n",
        "    ATIR = torch.tensor(check_increase(AngII + ATIR_N))\n",
        "    ATIR = pyro.sample('ATIR',pyro.distributions.Delta(ATIR))\n",
        "    samples['ATIR'] = ATIR\n",
        "\n",
        "    ADAM17_N = pyro.sample(\"ADAM17_N\", normal_dist)\n",
        "    ADAM17 = torch.tensor(check_increase(ATIR + ADAM17_N))\n",
        "    ADAM17 = pyro.sample('ADAM17',pyro.distributions.Delta(ADAM17))\n",
        "    samples['ADAM17'] = ADAM17\n",
        "\n",
        "    TNF_N = pyro.sample(\"TNF_N\", normal_dist)\n",
        "    TNF = torch.tensor(check_increase(ADAM17 + TNF_N))\n",
        "    TNF = pyro.sample('TNF',pyro.distributions.Delta(TNF))\n",
        "    samples['TNF'] = TNF\n",
        "\n",
        "    EGF_N = pyro.sample(\"EGF_N\", normal_dist)\n",
        "    EGF = torch.tensor(check_increase(ADAM17 + EGF_N))\n",
        "    EGF = pyro.sample('EGF',pyro.distributions.Delta(EGF))\n",
        "    samples['EGF'] = EGF\n",
        "\n",
        "    EGFR_N = pyro.sample(\"EGFR_N\", normal_dist)\n",
        "    EGFR = torch.tensor(check_increase(EGF + EGFR_N))\n",
        "    EGFR = pyro.sample('EGFR',pyro.distributions.Delta(EGFR))\n",
        "    samples['EGFR'] = EGFR\n",
        "\n",
        "    IL_6_N = pyro.sample(\"IL_6_N\", normal_dist)\n",
        "    IL_6 = torch.tensor(check_increase(ADAM17 + IL_6_N))\n",
        "    IL_6 = pyro.sample('IL_6',pyro.distributions.Delta(IL_6))\n",
        "    samples['IL_6'] = IL_6\n",
        "\n",
        "    IL6_STAT3_N = pyro.sample(\"IL6_STAT3_N\", normal_dist)\n",
        "    IL6_STAT3 = torch.tensor(check_increase(IL_6 + IL6_STAT3_N))\n",
        "    IL6_STAT3 = pyro.sample('IL6_STAT3',pyro.distributions.Delta(IL6_STAT3))\n",
        "    samples['IL6_STAT3'] = IL6_STAT3\n",
        "\n",
        "    # TNF PRR EGFR (ATRI while there is a edge in the graph) code as AND gate\n",
        "    NF_xB_N = pyro.sample(\"NF_xB_N\", normal_dist)\n",
        "    # the threshold should be determined carefully\n",
        "    if TNF + PRR + EGFR + NF_xB_N > 2.5:\n",
        "        NF_xB = torch.tensor(1.0)\n",
        "    else: \n",
        "        NF_xB = torch.tensor(0.0)\n",
        "    NF_xB = pyro.sample('NF_xB',pyro.distributions.Delta(NF_xB))\n",
        "    samples['NF_xB'] = NF_xB\n",
        "\n",
        "    # NFXB IL6STAT3 \n",
        "    IL_6_AMP_N = pyro.sample(\"IL_6_AMP_N\", normal_dist)\n",
        "    # the threshold should be determined carefully\n",
        "    if IL6_STAT3 + NF_xB + IL_6_AMP_N > 1.5:\n",
        "        IL_6_AMP = torch.tensor(1.0)\n",
        "    else: \n",
        "        IL_6_AMP = torch.tensor(0.0)\n",
        "    IL_6_AMP = pyro.sample('IL_6_AMP',pyro.distributions.Delta(IL_6_AMP))\n",
        "    samples['IL_6_AMP'] = IL_6_AMP\n",
        "\n",
        "    ARDS_N = pyro.sample(\"ARDS_N\", normal_dist)\n",
        "    ARDS = torch.tensor(check_increase(IL_6_AMP + ARDS_N))\n",
        "    ARDS = pyro.sample('ARDS',pyro.distributions.Delta(ARDS))\n",
        "    samples['ARDS'] = ARDS\n",
        "\n",
        "    return samples"
      ],
      "execution_count": 0,
      "outputs": []
    },
    {
      "cell_type": "code",
      "metadata": {
        "id": "v8IkxBRJ8NPy",
        "colab_type": "code",
        "colab": {}
      },
      "source": [
        "pyro.set_rng_seed(101)\n",
        "SCM_model()"
      ],
      "execution_count": 0,
      "outputs": []
    },
    {
      "cell_type": "markdown",
      "metadata": {
        "id": "m6svS91o8gRD",
        "colab_type": "text"
      },
      "source": [
        "# The Intervention function"
      ]
    },
    {
      "cell_type": "code",
      "metadata": {
        "id": "9yNNonJf8fQ7",
        "colab_type": "code",
        "colab": {}
      },
      "source": [
        "\n",
        "\n",
        "def intervention(model, do_variable, do_val, target_variable):\n",
        "    \"\"\"\n",
        "      Description: This is a function to perform intervention\n",
        "      query for sampling\n",
        "      Parameters:  Structural Causal Model (model),\n",
        "               a list of variables to be intervened (do_variable),\n",
        "               list of values for intervened variables in\n",
        "               same order (do_val),\n",
        "               target variable (target_variable)\n",
        "      Returns:  probability of target variable in given setting\n",
        "    \"\"\"\n",
        "    # get the conditions for the do model\n",
        "    conditions = {}\n",
        "    for i in range(len(do_variable)):\n",
        "        conditions[do_variable[i]] = torch.tensor(do_val[i])\n",
        "    do_model = pyro.do(model, data=conditions)\n",
        "    posterior = pyro.infer.Importance(do_model, num_samples=1000).run()\n",
        "    marginal = EmpiricalMarginal(posterior, target_variable)\n",
        "    target = [marginal().item() for i in range(1000)]\n",
        "    return np.mean(target)"
      ],
      "execution_count": 0,
      "outputs": []
    },
    {
      "cell_type": "markdown",
      "metadata": {
        "id": "lLYJWGIWQ_gO",
        "colab_type": "text"
      },
      "source": [
        "Performed some intervention for sanity check and debugging.\n",
        "We know that inhibition of ACE_2 can contribute to ARDS. Which implies that if ACE_2 is inhibited (set to 0), the probability of ARDS should be high. \n",
        "\n",
        "So, checking P(ARDS | do (ACE_2= 0)) "
      ]
    },
    {
      "cell_type": "code",
      "metadata": {
        "id": "_VxiZ9trdil2",
        "colab_type": "code",
        "outputId": "52c768eb-81b7-4220-9d0f-84c4aac3eb52",
        "colab": {
          "base_uri": "https://localhost:8080/",
          "height": 34
        }
      },
      "source": [
        "intervention(SCM_model,['ACE2'],[0.0],'ARDS')"
      ],
      "execution_count": 0,
      "outputs": [
        {
          "output_type": "execute_result",
          "data": {
            "text/plain": [
              "0.814"
            ]
          },
          "metadata": {
            "tags": []
          },
          "execution_count": 85
        }
      ]
    },
    {
      "cell_type": "markdown",
      "metadata": {
        "id": "pnbBt6U7S4Cp",
        "colab_type": "text"
      },
      "source": [
        "What is the Probability of ARDS if ACE_2 is active (set to 1)?\n",
        "\n",
        "Checking, P (ARDS | do (ACE_2 = 1))"
      ]
    },
    {
      "cell_type": "code",
      "metadata": {
        "id": "pCRkK2Qx8rwW",
        "colab_type": "code",
        "colab": {}
      },
      "source": [
        "intervention(SCM_model,['ACE2'],[1.0],'ARDS')"
      ],
      "execution_count": 0,
      "outputs": []
    },
    {
      "cell_type": "markdown",
      "metadata": {
        "id": "QsS2zODPRwuw",
        "colab_type": "text"
      },
      "source": [
        "Similarly following the second path, if PRR is active (set to 1), the probability of ARDS should be high. \n",
        "\n",
        "Checking, P (ARDS | do (PRR = 1))"
      ]
    },
    {
      "cell_type": "code",
      "metadata": {
        "id": "7TIrEA3s8wxX",
        "colab_type": "code",
        "colab": {}
      },
      "source": [
        "intervention(SCM_model,['PRR'],[1.0],'ARDS')"
      ],
      "execution_count": 0,
      "outputs": []
    },
    {
      "cell_type": "markdown",
      "metadata": {
        "id": "Zlgh3bhTTlAS",
        "colab_type": "text"
      },
      "source": [
        "what would ARDS be if PRR is set to low (0)?\n",
        "\n",
        "P (ARDS | do (PRR = 0))"
      ]
    },
    {
      "cell_type": "code",
      "metadata": {
        "id": "vfhAITz9826u",
        "colab_type": "code",
        "colab": {}
      },
      "source": [
        "intervention(SCM_model, ['PRR'], [0.0], 'ARDS')"
      ],
      "execution_count": 0,
      "outputs": []
    },
    {
      "cell_type": "markdown",
      "metadata": {
        "id": "nX_gJ6FmTHSD",
        "colab_type": "text"
      },
      "source": [
        "what would ARDS be if IL_6_STAT3 is set to low (0)?\n",
        "\n",
        "P (ARDS | do (IL6_STAT3 = 0))"
      ]
    },
    {
      "cell_type": "code",
      "metadata": {
        "id": "yqKjBhv38w4r",
        "colab_type": "code",
        "colab": {}
      },
      "source": [
        "intervention(SCM_model, ['IL6_STAT3'], [0.0], 'ARDS')"
      ],
      "execution_count": 0,
      "outputs": []
    },
    {
      "cell_type": "markdown",
      "metadata": {
        "id": "NGFZWSEwZLfk",
        "colab_type": "text"
      },
      "source": [
        "#Counterfactual function"
      ]
    },
    {
      "cell_type": "code",
      "metadata": {
        "id": "NfEMC2SxMhpM",
        "colab_type": "code",
        "colab": {}
      },
      "source": [
        "\n",
        "\n",
        "def counterfactual(model, observed_variable, observed_val, exogenous_variable,\n",
        "                   cf_variable, cf_val, target_variable):\n",
        "    \"\"\"\n",
        "      Description: This is a function to perform counterfactual\n",
        "      query for sampling\n",
        "      Parameters:  Structural Causal Model (model),\n",
        "               a list of observed variables (observed_variable),\n",
        "               list of values of obeserved variables in\n",
        "               same order (observed_val),\n",
        "               list of exogenous variables (exogenous_variable),\n",
        "               counterfactual variable (cf_variable),\n",
        "               supposed value of counterfactual variable (cf_val),\n",
        "               target variable (target_variable)\n",
        "      Returns:  probability of target variable in given setting\n",
        "    \"\"\"\n",
        "    target = []\n",
        "    # get the conditional model\n",
        "    conditions = {}\n",
        "    for i in range(len(observed_variable)):\n",
        "        conditions[observed_variable[i]] = torch.tensor(observed_val[i])\n",
        "    conditioned_model = pyro.condition(model, data=conditions)\n",
        "    # get the posterior and marginal distribution\n",
        "    posterior = pyro.infer.Importance(conditioned_model,\n",
        "                                      num_samples=1000).run()\n",
        "    marginal = EmpiricalMarginal(posterior, exogenous_variable)\n",
        "    # get the do model\n",
        "    dos = {}\n",
        "    for i in range(len(cf_variable)):\n",
        "        dos[cf_variable[i]] = torch.tensor(cf_val[i])\n",
        "    do_model = pyro.do(model, data=dos)\n",
        "    # sample target variable under updated posterior and do model\n",
        "    for i in range(1000):\n",
        "        samples = marginal()\n",
        "        exog = {}\n",
        "        for i in range(len(exogenous_variable)):\n",
        "            exog[exogenous_variable[i]] = torch.tensor(samples[i])\n",
        "        cf_model = pyro.condition(do_model, data=exog)\n",
        "        trace_handler = pyro.poutine.trace(cf_model)\n",
        "        trace = trace_handler.get_trace()\n",
        "\n",
        "        target.append(trace.nodes[target_variable]['value'].numpy().item())\n",
        "\n",
        "    return np.mean(target)"
      ],
      "execution_count": 0,
      "outputs": []
    },
    {
      "cell_type": "markdown",
      "metadata": {
        "id": "555S-4X_bZQH",
        "colab_type": "text"
      },
      "source": [
        "We started our queries by asking debugging questions, \n",
        "For example, we know that if SARS_2 is active, ACE_2 will be inhibited which can lead to ARDS following path1. So what is the probability of ARDS if ACE_2 is active?\n",
        "\n",
        "P ($ARDS_{ACE_2 = 1}$= 1 | ACE_2 = 0, SARS_2 = 1, ARDS = 1)"
      ]
    },
    {
      "cell_type": "code",
      "metadata": {
        "id": "0X7nTJD90j4H",
        "colab_type": "code",
        "outputId": "b9cf9dd3-9250-4732-d5d1-00ae9138c18d",
        "colab": {
          "base_uri": "https://localhost:8080/",
          "height": 71
        }
      },
      "source": [
        "ARDS_ACE_2_1 = counterfactual(SCM_model, ['SARS_2', 'ACE2', 'ARDS'],\n",
        "                              [1., 0., 1.],\n",
        "                              ['SARS_N', 'PRR_N', 'deg_N',\n",
        "                               'ACE2_N', 'AngII_N', 'ATIR_N',\n",
        "                               'ADAM17_N', 'TNF_N', 'EGF_N',\n",
        "                               'EGFR_N', 'IL_6_N', 'IL6_STAT3_N',\n",
        "                               'NF_xB_N', 'IL_6_AMP_N', 'ARDS_N'],\n",
        "                ['ACE2'], [1.], 'ARDS')\n",
        "print(ARDS_ACE_2_1)"
      ],
      "execution_count": 0,
      "outputs": [
        {
          "output_type": "stream",
          "text": [
            "/usr/local/lib/python3.6/dist-packages/ipykernel_launcher.py:24: UserWarning: To copy construct from a tensor, it is recommended to use sourceTensor.clone().detach() or sourceTensor.clone().detach().requires_grad_(True), rather than torch.tensor(sourceTensor).\n"
          ],
          "name": "stderr"
        },
        {
          "output_type": "stream",
          "text": [
            "0.044\n"
          ],
          "name": "stdout"
        }
      ]
    },
    {
      "cell_type": "markdown",
      "metadata": {
        "id": "hfDmm9PJceTx",
        "colab_type": "text"
      },
      "source": [
        "As expected it came out to be close to 0."
      ]
    },
    {
      "cell_type": "markdown",
      "metadata": {
        "id": "iqNxWdDxdBpa",
        "colab_type": "text"
      },
      "source": [
        "One of the major pathways for NF-κB activation after coronavirus infection is the MyD88 pathway through pattern recognition receptors (PRRs), leading to the induction of a variety of pro-inflammatory cytokines, including interleukin-6 (IL-6), tumor necrosis factor alpha (TNFα) and chemokines. \n",
        "\n",
        "This means that if PRR is set to inactive or 0, ARDS should be close to 0 too.\n",
        "\n",
        "So, checking P ($ARDS_{PRR = 0}$ = 1 | PRR = 1, NF_xB = 1, ARDS = 1)"
      ]
    },
    {
      "cell_type": "code",
      "metadata": {
        "id": "63l8ham75h5j",
        "colab_type": "code",
        "outputId": "961b791a-32a1-47f8-88a4-5a164f637b8b",
        "colab": {
          "base_uri": "https://localhost:8080/",
          "height": 72
        }
      },
      "source": [
        "ARDS_PRR_0 = counterfactual(SCM_model, ['PRR', 'NF_xB', 'ARDS'],\n",
        "                              [1., 1., 1.],\n",
        "                              ['SARS_N', 'PRR_N', 'deg_N',\n",
        "                               'ACE2_N', 'AngII_N', 'ATIR_N',\n",
        "                               'ADAM17_N', 'TNF_N', 'EGF_N',\n",
        "                               'EGFR_N', 'IL_6_N', 'IL6_STAT3_N',\n",
        "                               'NF_xB_N', 'IL_6_AMP_N', 'ARDS_N'],\n",
        "                ['PRR'], [0.], 'ARDS')\n",
        "print(ARDS_PRR_0)"
      ],
      "execution_count": 0,
      "outputs": [
        {
          "output_type": "stream",
          "text": [
            "/usr/local/lib/python3.6/dist-packages/ipykernel_launcher.py:24: UserWarning: To copy construct from a tensor, it is recommended to use sourceTensor.clone().detach() or sourceTensor.clone().detach().requires_grad_(True), rather than torch.tensor(sourceTensor).\n"
          ],
          "name": "stderr"
        },
        {
          "output_type": "stream",
          "text": [
            "0.0\n"
          ],
          "name": "stdout"
        }
      ]
    },
    {
      "cell_type": "markdown",
      "metadata": {
        "id": "CtFEBzmkdxxl",
        "colab_type": "text"
      },
      "source": [
        "It is indeed 0. \n",
        "This indicates that our Structural Causal Model is able to produce the results we expected following the knowledge graph. \n",
        "\n",
        "Now, we will move on and ask questions we are actually interested in.\n",
        "\n",
        "We would like to know if there is a node in our pathways where we can intervene with some drug and break the path and hence the cytokine storm. The paper suggests that we can intervene on sIL-6R$\\alpha$ or IL6-STAT3 safely without facing any side-effects. \n",
        "\n",
        "So, we set up our counterfactual query with the knowledge that if SARS_2 is active (set to 1), ACE_2 will be inactive (set to 0) and it can lead to ARDS to be active (set to 1). So what will the probability of ARDS be if soluble IL-6R$\\alpha$ is set to low (0)?\n",
        "\n",
        "So, checking \n",
        "P ($ARDS_{sIL-6R\\alpha = 0}$= 1 | ACE_2 = 0, SARS_2 = 1, ARDS = 1)"
      ]
    },
    {
      "cell_type": "code",
      "metadata": {
        "id": "X0FmXi3jGFou",
        "colab_type": "code",
        "outputId": "b4ae2f4b-6f2d-4a20-fdd3-6201d81c0ef4",
        "colab": {
          "base_uri": "https://localhost:8080/",
          "height": 71
        }
      },
      "source": [
        "ARDS_sIL6_0 = counterfactual(SCM_model, ['SARS_2', 'ACE2', 'ARDS'],\n",
        "                              [1., 0., 1.],\n",
        "                              ['SARS_N', 'PRR_N', 'deg_N',\n",
        "                               'ACE2_N', 'AngII_N', 'ATIR_N',\n",
        "                               'ADAM17_N', 'TNF_N', 'EGF_N',\n",
        "                               'EGFR_N', 'IL_6_N', 'IL6_STAT3_N',\n",
        "                               'NF_xB_N', 'IL_6_AMP_N', 'ARDS_N'],\n",
        "                ['IL_6'], [0.], 'ARDS')\n",
        "print(ARDS_sIL6_0)"
      ],
      "execution_count": 0,
      "outputs": [
        {
          "output_type": "stream",
          "text": [
            "/usr/local/lib/python3.6/dist-packages/ipykernel_launcher.py:24: UserWarning: To copy construct from a tensor, it is recommended to use sourceTensor.clone().detach() or sourceTensor.clone().detach().requires_grad_(True), rather than torch.tensor(sourceTensor).\n"
          ],
          "name": "stderr"
        },
        {
          "output_type": "stream",
          "text": [
            "0.0\n"
          ],
          "name": "stdout"
        }
      ]
    },
    {
      "cell_type": "markdown",
      "metadata": {
        "id": "-vXC2Jq_igdN",
        "colab_type": "text"
      },
      "source": [
        "We notice that the probability of ARDS is 0 for this setting so this sIL-6R$\\alpha$ is definitely worth consideration. \n",
        "\n",
        "Next we check given the same setting as above what the probability of ARDS be if we set IL6-STAT3 to low(0).\n",
        "\n",
        "P ($ARDS_{IL6-STAT3 = 0}$= 1 | ACE_2 = 0, SARS_2 = 1, ARDS = 1)"
      ]
    },
    {
      "cell_type": "code",
      "metadata": {
        "id": "AI3n0tNrkE1d",
        "colab_type": "code",
        "outputId": "cf04be62-b135-4559-e019-c53fa8af0d4c",
        "colab": {
          "base_uri": "https://localhost:8080/",
          "height": 71
        }
      },
      "source": [
        "ARDS_IL6_STAT3_0 = counterfactual(SCM_model, ['SARS_2', 'ACE2', 'ARDS'],\n",
        "                              [1., 0., 1.],\n",
        "                              ['SARS_N', 'PRR_N', 'deg_N',\n",
        "                               'ACE2_N', 'AngII_N', 'ATIR_N',\n",
        "                               'ADAM17_N', 'TNF_N', 'EGF_N',\n",
        "                               'EGFR_N', 'IL_6_N', 'IL6_STAT3_N',\n",
        "                               'NF_xB_N', 'IL_6_AMP_N', 'ARDS_N'],\n",
        "                ['IL6_STAT3'], [0.], 'ARDS')\n",
        "print(ARDS_IL6_STAT3_0)"
      ],
      "execution_count": 0,
      "outputs": [
        {
          "output_type": "stream",
          "text": [
            "/usr/local/lib/python3.6/dist-packages/ipykernel_launcher.py:24: UserWarning: To copy construct from a tensor, it is recommended to use sourceTensor.clone().detach() or sourceTensor.clone().detach().requires_grad_(True), rather than torch.tensor(sourceTensor).\n"
          ],
          "name": "stderr"
        },
        {
          "output_type": "stream",
          "text": [
            "0.0\n"
          ],
          "name": "stdout"
        }
      ]
    },
    {
      "cell_type": "markdown",
      "metadata": {
        "id": "Ee1e6IKb2KFI",
        "colab_type": "text"
      },
      "source": [
        "In this case too, we observed a 0 probability of ARDS."
      ]
    },
    {
      "cell_type": "markdown",
      "metadata": {
        "id": "uJMJDnfPCD9T",
        "colab_type": "text"
      },
      "source": [
        "# Automatically build the SCM"
      ]
    },
    {
      "cell_type": "markdown",
      "metadata": {
        "id": "xa3P5R6hKdBG",
        "colab_type": "text"
      },
      "source": [
        "The model is constructed using a speciifc BEL graph. In order to generalize the process of assigning weights and threshold to the edges for creating the SCM we decided to use KL divergence and Linear Regression. This will help us to automate the weight and threshold distribution process for any given BEL graph. We are working on automating the process to identify and modify the cumulative relationship of the parent node with the child node(i.e. defining the node as an AND gate or an OR gate) since the cumulative relationship of the node is very specific to the knowledge of the graph."
      ]
    },
    {
      "cell_type": "code",
      "metadata": {
        "id": "ZNCdIttLAzw3",
        "colab_type": "code",
        "colab": {}
      },
      "source": [
        "def get_distribution(node_type):\n",
        "  '''\n",
        "    Description: This function is to get the distribution for a node based on its type\n",
        "    Parameters: the node's type\n",
        "    Returns: sampled values for node in tensor format based on its type\n",
        "    '''\n",
        "    if node_type == 'Abundance':\n",
        "        return dist.LogNormal(torch.tensor(0.0),torch.tensor(1.0))\n",
        "    if node_type == 'Process':\n",
        "        return dist.Categorical(torch.tensor([0.5,0.5]))\n",
        "    else:\n",
        "        return dist.LogNormal(torch.tensor(0.0),torch.tensor(1.0))"
      ],
      "execution_count": 0,
      "outputs": []
    },
    {
      "cell_type": "code",
      "metadata": {
        "id": "hh5z68anjgn4",
        "colab_type": "code",
        "colab": {}
      },
      "source": [
        "def SCM_rowwise(parent_label, child_label, relation, threshold, w):\n",
        "    \"\"\"\n",
        "    Description: This function is to be build a Structural Causal Model for \n",
        "                  for any child-parent cluster\n",
        "    Parameters: list of parent labels holding same relationship with child\n",
        "                (parent_label), \n",
        "                label of child (child_label), \n",
        "                relationship of parents with child (relation), \n",
        "                threshold for cut-off (threshold), \n",
        "                weights for parents' equations (w) \n",
        "    Returns: sampled values for all nodes in tensor format\n",
        "    \"\"\"\n",
        "    parents = []\n",
        "    process = []\n",
        "    abundance = []\n",
        "    transformation = []\n",
        "    \n",
        "    for i in range(len(parent_label)):\n",
        "        parent = pyro.sample(\"par_%s\" % i, get_distribution(parent_label[i]))\n",
        "        parents.append(parent)\n",
        "        if parent_label[i] == 'Process':\n",
        "            process.append(parent)\n",
        "        if parent_label[i] == 'Abundance':\n",
        "            abundance.append(parent)\n",
        "        if parent_label[i] == 'Transformation':\n",
        "            transformation.append(parent)\n",
        "    if child_label != 'Transformation':\n",
        "        if relation == 'increases' or relation == 'directlyIncreases':\n",
        "            # process is more like an OR switch\n",
        "            if sum(process) > 0 :\n",
        "                child_N = sum([x*y for x,y in zip(w ,abundance)]) + \\\n",
        "                pyro.sample(\"child_n\", dist.LogNormal(torch.tensor(0.0),\n",
        "                                                    torch.tensor(1.0)))\n",
        "                  # + sum([x*y*y for x,y in zip(w ,transformation)])\n",
        "            else: \n",
        "                child_N = pyro.sample(\"child_n\", dist.LogNormal(\n",
        "                  torch.tensor(0.0),torch.tensor(1.0))) \n",
        "            if child_label == 'Process':\n",
        "                check = lambda x : 1.0 if x > threshold else 0.0\n",
        "                child_N = torch.tensor(check(child_N))\n",
        "            child = pyro.sample('child',pyro.distributions.Delta(child_N))\n",
        "\n",
        "        if relation == 'decreases' or relation == 'directlyDecreases':\n",
        "            if sum(process) > 0:\n",
        "                child_N = pyro.sample(\"child_n\", dist.LogNormal(\n",
        "                  torch.tensor(0.0),torch.tensor(1.0)))\n",
        "            else:\n",
        "                child_N =  sum([x*y for x,y in zip(w ,abundance)]) + \\\n",
        "                pyro.sample(\"child_n\", dist.LogNormal(\n",
        "                  torch.tensor(0.0),torch.tensor(1.0)))\n",
        "                  # + sum([x*y*y for x,y in zip(w ,transformation)])\n",
        "            if child_label == 'Process':\n",
        "                check = lambda x : 0.0 if x > threshold else 1.0\n",
        "                child_N = torch.tensor(check(child_N))\n",
        "            child = pyro.sample('child',pyro.distributions.Delta(child_N))\n",
        "\n",
        "\n",
        "    else:\n",
        "        if relation == 'increases' or relation == 'directlyIncreases':\n",
        "            ## process is more like an OR switch\n",
        "            if sum(process) > 0 :\n",
        "                child_N =  sum([x*y for x,y in zip(w ,abundance)]) + \\\n",
        "                pyro.sample(\"child_n\", dist.LogNormal(\n",
        "                  torch.tensor(0.0),torch.tensor(1.0))) + \\\n",
        "                sum([x*y*y for x,y in zip(w ,transformation)])\n",
        "            else: \n",
        "                child_N = pyro.sample(\"child_n\", dist.LogNormal(\n",
        "                    torch.tensor(0.0),torch.tensor(1.0))) \n",
        "            if child_label == 'Process':\n",
        "                check = lambda x : 1.0 if x > threshold else 0.0\n",
        "                child_N = torch.tensor(check(child_N))\n",
        "            child = pyro.sample('child',pyro.distributions.Delta(child_N))\n",
        "\n",
        "        if relation == 'decreases' or relation == 'directlyDecreases':\n",
        "            if sum(process) > 0:\n",
        "                child_N = pyro.sample(\"child_n\", dist.LogNormal(\n",
        "                    torch.tensor(0.0),torch.tensor(1.0))) \n",
        "            else:\n",
        "                child_N =  sum([x*y for x,y in zip(w ,abundance)]) + \\\n",
        "                pyro.sample(\"child_n\", dist.LogNormal(\n",
        "                    torch.tensor(0.0),torch.tensor(1.0))) + \\\n",
        "                    sum([x*y*y for x,y in zip(w ,transformation)])\n",
        "            if child_label == 'Process':\n",
        "                check = lambda x : 0.0 if x > threshold else 1.0\n",
        "                child_N = torch.tensor(check(child_N))\n",
        "            child = pyro.sample('child',pyro.distributions.Delta(child_N))\n",
        "    # use the return when doing the KL divergence\n",
        "#     return child.numpy()\n",
        "    return{'parents': parents[0],'child': child}"
      ],
      "execution_count": 0,
      "outputs": []
    },
    {
      "cell_type": "markdown",
      "metadata": {
        "id": "dwuWKRTjAXHw",
        "colab_type": "text"
      },
      "source": [
        "## KL Divergence\n",
        "\n",
        "Adding a KL Divergence test to check the correctness of distributions we get from SCM against the true distribution of our child nodes. "
      ]
    },
    {
      "cell_type": "code",
      "metadata": {
        "id": "UTR3I4VaBPc6",
        "colab_type": "code",
        "colab": {}
      },
      "source": [
        "# get the model for certain weights and thresholds\n",
        "SCM_list23 = []\n",
        "true_children = []\n",
        "for i in range(newcovid_df.shape[0]):\n",
        "    test = newcovid_df.iloc[i]\n",
        "    SCM_list23.append(SCM_rowwise(test['Parent_label'],\n",
        "                                  test['Child_label'],\n",
        "                                  test['Relation'], 2,\n",
        "                                  [3]*len(test['Parent_label'])))\n",
        "    true_children.append(pyro.sample(\"child\",\n",
        "                                     get_distribution(\n",
        "                                         test['Child_label'])))"
      ],
      "execution_count": 0,
      "outputs": []
    },
    {
      "cell_type": "code",
      "metadata": {
        "id": "v5iQ50dcBQ6p",
        "colab_type": "code",
        "colab": {}
      },
      "source": [
        "def KL(P,Q):\n",
        "    \"\"\"\n",
        "    Description: Function to check KL-Divergence \n",
        "                 Epsilon is used here to avoid conditional code for\n",
        "                 checking that neither P nor Q is equal to 0.\n",
        "    Parameters:  Two probability distributions P and Q\n",
        "    Returns:     Divergence between the distributions. 0 if they are same\n",
        "    \n",
        "    \"\"\"\n",
        "    epsilon = 0.00001\n",
        "\n",
        "    P = P+epsilon\n",
        "    Q = Q+epsilon\n",
        "\n",
        "    divergence = np.sum(P*np.log(P/Q))\n",
        "    return divergence"
      ],
      "execution_count": 0,
      "outputs": []
    },
    {
      "cell_type": "code",
      "metadata": {
        "id": "uUV6FMD7BTWi",
        "colab_type": "code",
        "colab": {}
      },
      "source": [
        "# get the KL divergence which is quite small\n",
        "print(KL(np.asarray(SCM_list23[5]), np.asarray(true_children[5])))"
      ],
      "execution_count": 0,
      "outputs": []
    },
    {
      "cell_type": "markdown",
      "metadata": {
        "id": "qY0jJavuCMS8",
        "colab_type": "text"
      },
      "source": [
        "##  Linear regression to get weights from SCM"
      ]
    },
    {
      "cell_type": "code",
      "metadata": {
        "id": "6Ffk0N1lCP2N",
        "colab_type": "code",
        "colab": {}
      },
      "source": [
        "# get the linear regressor\n",
        "regressor = LinearRegression()  "
      ],
      "execution_count": 0,
      "outputs": []
    },
    {
      "cell_type": "code",
      "metadata": {
        "id": "g30G24QKCZGU",
        "colab_type": "code",
        "colab": {}
      },
      "source": [
        "# get 100 samples from one row-wised model\n",
        "samples_2= []\n",
        "test = newcovid_df.iloc[16]\n",
        "for i in range(100):\n",
        "    samples_2.append((SCM_rowwise([test['Parent_label']], [test['Child_label']], \n",
        "                        test['Relation'],2,[2]*len(test['Parent_label']))))\n",
        "samples_2_df = pd.DataFrame(samples_2)\n",
        "samples_2_df.head()"
      ],
      "execution_count": 0,
      "outputs": []
    },
    {
      "cell_type": "code",
      "metadata": {
        "id": "3GVyYD9PCtPQ",
        "colab_type": "code",
        "colab": {}
      },
      "source": [
        "#To retrieve the intercept:\n",
        "print(sample2_fit.intercept_)\n",
        "#For retrieving the slope:\n",
        "print(sample2_fit.coef_)"
      ],
      "execution_count": 0,
      "outputs": []
    }
  ]
}