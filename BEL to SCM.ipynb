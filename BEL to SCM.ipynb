{
 "cells": [
  {
   "cell_type": "code",
   "execution_count": 1,
   "metadata": {},
   "outputs": [],
   "source": [
    "import numpy as np\n",
    "import matplotlib.pyplot as plt\n",
    "import scipy as sp\n",
    "from scipy.integrate import odeint\n",
    "import networkx as nx\n",
    "from pybel.examples import sialic_acid_graph as sag\n",
    "import pybel as pb\n",
    "import json\n",
    "import time\n",
    "import csv\n",
    "from pybel.io.jupyter import to_jupyter\n",
    "import torch\n",
    "import pyro\n",
    "import pandas as pd\n",
    "import numpy as np\n",
    "pyro.set_rng_seed(101)"
   ]
  },
  {
   "cell_type": "code",
   "execution_count": 2,
   "metadata": {},
   "outputs": [],
   "source": [
    "import covid19kg"
   ]
  },
  {
   "cell_type": "code",
   "execution_count": 3,
   "metadata": {},
   "outputs": [
    {
     "name": "stdout",
     "output_type": "stream",
     "text": [
      "Covid19KG v0.0.1-dev\n",
      "Number of Nodes: 3954\n",
      "Number of Edges: 9484\n",
      "Number of Citations: 185\n",
      "Number of Authors: 950\n",
      "Network Density: 6.07E-04\n",
      "Number of Components: 29\n",
      "Number of Warnings: 0\n"
     ]
    }
   ],
   "source": [
    "import covid19kg\n",
    "graph = covid19kg.get_graph()\n",
    "graph.summarize()"
   ]
  },
  {
   "cell_type": "code",
   "execution_count": 4,
   "metadata": {},
   "outputs": [
    {
     "data": {
      "text/plain": [
       "['AUTHORS',\n",
       " 'BELMetadata',\n",
       " 'BELRepository',\n",
       " 'HERE',\n",
       " 'VERSION',\n",
       " '__all__',\n",
       " '__builtins__',\n",
       " '__cached__',\n",
       " '__doc__',\n",
       " '__file__',\n",
       " '__loader__',\n",
       " '__name__',\n",
       " '__package__',\n",
       " '__path__',\n",
       " '__spec__',\n",
       " 'get_graph',\n",
       " 'get_graphs',\n",
       " 'get_summary_df',\n",
       " 'main',\n",
       " 'metadata',\n",
       " 'os',\n",
       " 'repository',\n",
       " 'serialize_authors']"
      ]
     },
     "execution_count": 4,
     "metadata": {},
     "output_type": "execute_result"
    }
   ],
   "source": [
    "dir(covid19kg)"
   ]
  },
  {
   "cell_type": "code",
   "execution_count": 5,
   "metadata": {},
   "outputs": [],
   "source": [
    "#f = open('Epithelial Innate Immune Activation-2.0-Hs.jgf')\n",
    "f = open('COVID19.jgf')\n",
    "bel_statements = json.load(f)"
   ]
  },
  {
   "cell_type": "code",
   "execution_count": 8,
   "metadata": {},
   "outputs": [],
   "source": [
    "# type has the structure of (type_parent, type_children, type_relation):[[edges]]\n",
    "def get_information(jgf_file):\n",
    "    # causal_relations = ['increases', 'decreases', 'directlyIncreases', 'directlyDecreases']\n",
    "    types = []\n",
    "    # nodes = set()\n",
    "    parents = []\n",
    "    parent_types = []\n",
    "    children_types = []\n",
    "    children = []\n",
    "    str_list = []\n",
    "    df = pd.DataFrame()\n",
    "    \n",
    "    for edges in jgf_file['graph']['edges']:\n",
    "        parent = edges['source']\n",
    "        child = edges['target']\n",
    "        relation = edges['relation']\n",
    "        text = edges['label']\n",
    "        if relation.find('crease') > 0:\n",
    "            # nodes.add(parent)\n",
    "            # nodes.add(child)\n",
    "            parents.append(parent)\n",
    "            children.append(child)\n",
    "            str_list.append(parent + '*' + relation + '*' + child)   \n",
    "            parent_type = parent[:parent.find('(')]\n",
    "            children_type = child[:child.find('(')]\n",
    "            types.append(relation)\n",
    "            children_types.append(children_type)\n",
    "            parent_types.append(parent_type)\n",
    "            # types.setdefault((parent_type,chidren_type,relation), []).append(parent + '*' + relation + '*' + child)\n",
    "    df['parents'] = parents\n",
    "    df['children'] = children\n",
    "    df['types'] = types\n",
    "    df['statements'] = str_list\n",
    "    df['parent_types'] = parent_types\n",
    "    df['children_types'] = children_types\n",
    "    return df"
   ]
  },
  {
   "cell_type": "code",
   "execution_count": 9,
   "metadata": {},
   "outputs": [],
   "source": [
    "df = get_information(bel_statements)"
   ]
  },
  {
   "cell_type": "code",
   "execution_count": 11,
   "metadata": {},
   "outputs": [
    {
     "data": {
      "text/html": [
       "<div>\n",
       "<style scoped>\n",
       "    .dataframe tbody tr th:only-of-type {\n",
       "        vertical-align: middle;\n",
       "    }\n",
       "\n",
       "    .dataframe tbody tr th {\n",
       "        vertical-align: top;\n",
       "    }\n",
       "\n",
       "    .dataframe thead th {\n",
       "        text-align: right;\n",
       "    }\n",
       "</style>\n",
       "<table border=\"1\" class=\"dataframe\">\n",
       "  <thead>\n",
       "    <tr style=\"text-align: right;\">\n",
       "      <th></th>\n",
       "      <th>parents</th>\n",
       "      <th>children</th>\n",
       "      <th>types</th>\n",
       "      <th>statements</th>\n",
       "      <th>parent_types</th>\n",
       "      <th>children_types</th>\n",
       "    </tr>\n",
       "  </thead>\n",
       "  <tbody>\n",
       "    <tr>\n",
       "      <td>0</td>\n",
       "      <td>path(MESH:COVID-19)</td>\n",
       "      <td>path(MESH:Hypoalbuminemia)</td>\n",
       "      <td>increases</td>\n",
       "      <td>path(MESH:COVID-19)*increases*path(MESH:Hypoal...</td>\n",
       "      <td>path</td>\n",
       "      <td>path</td>\n",
       "    </tr>\n",
       "    <tr>\n",
       "      <td>1</td>\n",
       "      <td>p(HGNC:JAK3)</td>\n",
       "      <td>path(MESH:Lymphopenia)</td>\n",
       "      <td>decreases</td>\n",
       "      <td>p(HGNC:JAK3)*decreases*path(MESH:Lymphopenia)</td>\n",
       "      <td>p</td>\n",
       "      <td>path</td>\n",
       "    </tr>\n",
       "    <tr>\n",
       "      <td>2</td>\n",
       "      <td>path(SDIS:\"Liver Injury\")</td>\n",
       "      <td>p(HGNC:CRP)</td>\n",
       "      <td>increases</td>\n",
       "      <td>path(SDIS:\"Liver Injury\")*increases*p(HGNC:CRP)</td>\n",
       "      <td>path</td>\n",
       "      <td>p</td>\n",
       "    </tr>\n",
       "    <tr>\n",
       "      <td>3</td>\n",
       "      <td>bp(GO:\"inflammatory response\")</td>\n",
       "      <td>p(HGNC:CRP)</td>\n",
       "      <td>increases</td>\n",
       "      <td>bp(GO:\"inflammatory response\")*increases*p(HGN...</td>\n",
       "      <td>bp</td>\n",
       "      <td>p</td>\n",
       "    </tr>\n",
       "    <tr>\n",
       "      <td>4</td>\n",
       "      <td>a(SCHEM:fibrate)</td>\n",
       "      <td>p(HGNC:CRP)</td>\n",
       "      <td>decreases</td>\n",
       "      <td>a(SCHEM:fibrate)*decreases*p(HGNC:CRP)</td>\n",
       "      <td>a</td>\n",
       "      <td>p</td>\n",
       "    </tr>\n",
       "  </tbody>\n",
       "</table>\n",
       "</div>"
      ],
      "text/plain": [
       "                          parents                    children      types  \\\n",
       "0             path(MESH:COVID-19)  path(MESH:Hypoalbuminemia)  increases   \n",
       "1                    p(HGNC:JAK3)      path(MESH:Lymphopenia)  decreases   \n",
       "2       path(SDIS:\"Liver Injury\")                 p(HGNC:CRP)  increases   \n",
       "3  bp(GO:\"inflammatory response\")                 p(HGNC:CRP)  increases   \n",
       "4                a(SCHEM:fibrate)                 p(HGNC:CRP)  decreases   \n",
       "\n",
       "                                          statements parent_types  \\\n",
       "0  path(MESH:COVID-19)*increases*path(MESH:Hypoal...         path   \n",
       "1      p(HGNC:JAK3)*decreases*path(MESH:Lymphopenia)            p   \n",
       "2    path(SDIS:\"Liver Injury\")*increases*p(HGNC:CRP)         path   \n",
       "3  bp(GO:\"inflammatory response\")*increases*p(HGN...           bp   \n",
       "4             a(SCHEM:fibrate)*decreases*p(HGNC:CRP)            a   \n",
       "\n",
       "  children_types  \n",
       "0           path  \n",
       "1           path  \n",
       "2              p  \n",
       "3              p  \n",
       "4              p  "
      ]
     },
     "execution_count": 11,
     "metadata": {},
     "output_type": "execute_result"
    }
   ],
   "source": [
    "df.head()"
   ]
  },
  {
   "cell_type": "markdown",
   "metadata": {},
   "source": [
    "## To do:\n",
    "1. type is causal relationship\n",
    "2. we need to group parent and children type according to CBN legend\n",
    "3. Start building SCM using the prior distribution guide Jeremy gave us\n",
    "4. Train a linear model to confirm if the threshold / distribution works on the sample generated from SCM\n",
    "5. Automate this process and test it on different BEL models we have\n",
    "\n",
    "## Future scope\n",
    "1. Counterfactuals and interventions"
   ]
  },
  {
   "cell_type": "code",
   "execution_count": null,
   "metadata": {},
   "outputs": [],
   "source": []
  }
 ],
 "metadata": {
  "kernelspec": {
   "display_name": "Python 3",
   "language": "python",
   "name": "python3"
  },
  "language_info": {
   "codemirror_mode": {
    "name": "ipython",
    "version": 3
   },
   "file_extension": ".py",
   "mimetype": "text/x-python",
   "name": "python",
   "nbconvert_exporter": "python",
   "pygments_lexer": "ipython3",
   "version": "3.7.3"
  }
 },
 "nbformat": 4,
 "nbformat_minor": 2
}
